{
 "cells": [
  {
   "cell_type": "markdown",
   "metadata": {},
   "source": [
    "### Data Process and Graph Building for Voting Prediction of UN"
   ]
  },
  {
   "cell_type": "code",
   "execution_count": 1,
   "metadata": {},
   "outputs": [
    {
     "name": "stderr",
     "output_type": "stream",
     "text": [
      "<ipython-input-1-64dc9fa98cd0>:8: DtypeWarning: Columns (228,229,230,232,235,236,238,239,240,241,242,243,245,246,247,249,250,251,252,253,254,255,256,257,258,259,260,261,262,263,264,265,266,267,268,269) have mixed types. Specify dtype option on import or set low_memory=False.\n",
      "  df = pd.read_csv(voting_data_path)\n"
     ]
    }
   ],
   "source": [
    "import pandas as pd\n",
    "import json\n",
    "import numpy as np\n",
    "\n",
    "voting_data_path = 'data/UN_DATA.csv'\n",
    "\n",
    "# read in the data\n",
    "df = pd.read_csv(voting_data_path)\n",
    "df['index'] = df.index\n",
    "\n",
    "# Define the path to the embeddings .npy file\n",
    "embeddings_npy_path = 'data/embeddings.npy'\n",
    "\n",
    "# Load the embeddings from the .npy file\n",
    "title_embeddings = np.load(embeddings_npy_path)"
   ]
  },
  {
   "cell_type": "code",
   "execution_count": 2,
   "metadata": {},
   "outputs": [],
   "source": [
    "org_data_path = 'data/org_list.json'\n",
    "\n",
    "org_list = json.load(open(org_data_path))\n",
    "\n",
    "conversion_dict = {\n",
    "    'RUSSIA': 'RUSSIAN FEDERATION',\n",
    "    'USSR': 'RUSSIAN FEDERATION',\n",
    "    'VIETNAM': 'VIET NAM',\n",
    "    'TANZANIA': 'UNITED REPUBLIC OF TANZANIA',\n",
    "    'SOUTH KOREA': 'REPUBLIC OF KOREA',\n",
    "    'BRUNEI': 'BRUNEI DARUSSALAM',\n",
    "    'CONGO (KINSHASA)': 'DEMOCRATIC REPUBLIC OF THE CONGO',\n",
    "    'UAE': 'UNITED ARAB EMIRATES',\n",
    "    'THE BAHAMAS': 'BAHAMAS',\n",
    "    'MICRONESIA': 'MICRONESIA (FEDERATED STATES OF)',\n",
    "    'NORTH KOREA': 'DEMOCRATIC PEOPLE\\'S REPUBLIC OF KOREA',\n",
    "    'UNITED STATES OF AMERICA': 'UNITED STATES',\n",
    "    'ST. LUCIA': 'SAINT LUCIA',\n",
    "    'ST. VINCENT AND THE GRENADINES': 'SAINT VINCENT AND THE GRENADINES',\n",
    "    'ANTIGUA & BARBUDA': 'ANTIGUA AND BARBUDA',\n",
    "    'ST. KITTS AND NEVIS': 'SAINT KITTS AND NEVIS',\n",
    "    'MACEDONIA': 'NORTH MACEDONIA',\n",
    "    'EAST TIMOR': 'TIMOR-LESTE'\n",
    "    \n",
    "}"
   ]
  },
  {
   "cell_type": "code",
   "execution_count": 3,
   "metadata": {},
   "outputs": [],
   "source": [
    "country_adjacency_data_path = 'data/adjacency.json'\n",
    "\n",
    "country_adjacency = json.load(open(country_adjacency_data_path))"
   ]
  },
  {
   "cell_type": "code",
   "execution_count": 24,
   "metadata": {},
   "outputs": [
    {
     "name": "stdout",
     "output_type": "stream",
     "text": [
      "['Council', 'Date', 'Title', 'Resolution', 'TOTAL VOTES', 'NO-VOTE COUNT', 'ABSENT COUNT', 'NO COUNT', 'YES COUNT', 'Link', 'token', 'SENEGAL', 'MALAYSIA', 'VENEZUELA (BOLIVARIAN REPUBLIC OF)', 'UNITED KINGDOM', 'RUSSIAN FEDERATION', 'JAPAN', 'ANGOLA', 'URUGUAY', 'SPAIN', 'EGYPT', 'NEW ZEALAND', 'UNITED STATES', 'FRANCE', 'CHINA', 'UKRAINE', 'NIGER', 'SAINT VINCENT AND THE GRENADINES', 'ESTONIA', 'SOUTH AFRICA', 'VIET NAM', 'BELGIUM', 'GERMANY', 'TUNISIA', 'INDONESIA', 'DOMINICAN REPUBLIC', 'BRAZIL', 'UNITED REPUBLIC OF TANZANIA', 'PHILIPPINES', 'ALGERIA', 'BENIN', 'DENMARK', 'ROMANIA', 'ARGENTINA', 'GREECE', 'AUSTRIA', 'SWITZERLAND', 'CYPRUS', 'MOZAMBIQUE', 'SUDAN', 'FIJI', 'BULGARIA', 'CUBA', 'UGANDA', 'ZAMBIA', 'SOUTH SUDAN', 'MONACO', 'REPUBLIC OF KOREA', 'REPUBLIC OF MOLDOVA', 'SAN MARINO', 'YEMEN', 'ITALY', 'BURUNDI', 'HUNGARY', 'CAMBODIA', 'MALAWI', 'NAURU', 'NICARAGUA', 'BRUNEI DARUSSALAM', 'POLAND', 'THAILAND', 'MALDIVES', 'SIERRA LEONE', 'TURKEY', 'CABO VERDE', 'PAPUA NEW GUINEA', 'MARSHALL ISLANDS', 'AZERBAIJAN', 'MADAGASCAR', 'CAMEROON', 'SAUDI ARABIA', 'IRAN (ISLAMIC REPUBLIC OF)', 'NEPAL', 'SAMOA', 'IRAQ', 'LIBYA', 'BAHRAIN', 'GUINEA', 'EQUATORIAL GUINEA', 'KYRGYZSTAN', 'ERITREA', 'KUWAIT', 'ARMENIA', 'MAURITANIA', 'SINGAPORE', 'CENTRAL AFRICAN REPUBLIC', 'PERU', 'LIECHTENSTEIN', 'NETHERLANDS', 'SERBIA', 'HAITI', 'IRELAND', 'KAZAKHSTAN', 'DJIBOUTI', \"DEMOCRATIC PEOPLE'S REPUBLIC OF KOREA\", 'BOSNIA AND HERZEGOVINA', 'PAKISTAN', 'SWEDEN', 'ZIMBABWE', 'SOMALIA', 'SLOVAKIA', 'AUSTRALIA', 'KIRIBATI', 'QATAR', 'LITHUANIA', 'ICELAND', 'LUXEMBOURG', 'ETHIOPIA', 'COMOROS', 'SRI LANKA', 'GUYANA', 'TONGA', 'UZBEKISTAN', 'VANUATU', 'LESOTHO', 'COLOMBIA', 'GUINEA-BISSAU', 'BOTSWANA', 'COSTA RICA', 'TAJIKISTAN', 'LIBERIA', \"COTE D'IVOIRE\", 'GABON', 'INDIA', 'ECUADOR', 'ESWATINI', 'SEYCHELLES', 'SAINT KITTS AND NEVIS', 'SOLOMON ISLANDS', 'MAURITIUS', 'ANDORRA', 'SAO TOME AND PRINCIPE', 'BELARUS', 'PALAU', 'GEORGIA', 'MYANMAR', 'AFGHANISTAN', 'CZECHIA', 'MEXICO', 'BANGLADESH', 'FINLAND', 'ISRAEL', 'HONDURAS', 'MALI', 'NORTH MACEDONIA', 'LEBANON', 'BARBADOS', 'BHUTAN', 'MOROCCO', 'MALTA', 'SURINAME', 'CANADA', 'UNITED ARAB EMIRATES', 'CROATIA', 'KENYA', 'RWANDA', 'CONGO', 'GUATEMALA', 'ANTIGUA AND BARBUDA', 'LATVIA', 'TOGO', 'GRENADA', 'NAMIBIA', 'SYRIAN ARAB REPUBLIC', 'NORWAY', 'CHILE', 'DOMINICA', 'ALBANIA', 'TRINIDAD AND TOBAGO', 'PANAMA', 'MONTENEGRO', 'NIGERIA', 'GHANA', 'OMAN', 'SLOVENIA', 'BAHAMAS', 'JAMAICA', 'BOLIVIA (PLURINATIONAL STATE OF)', 'SAINT LUCIA', 'MONGOLIA', 'PORTUGAL', 'DEMOCRATIC REPUBLIC OF THE CONGO', 'EL SALVADOR', 'GAMBIA', 'TURKMENISTAN', 'MICRONESIA (FEDERATED STATES OF)', 'TIMOR-LESTE', 'BELIZE', 'CHAD', 'BURKINA FASO', \"LAO PEOPLE'S DEMOCRATIC REPUBLIC\", 'TUVALU', 'JORDAN', 'PARAGUAY', 'SERBIA AND MONTENEGRO', 'BOLIVIA', 'THE FORMER YUGOSLAV REPUBLIC OF MACEDONIA', 'CAPE VERDE', 'CZECH REPUBLIC', 'VENEZUELA', 'SWAZILAND', 'LIBYAN ARAB JAMAHIRIYA', 'YUGOSLAVIA', 'MOLDOVA', 'UPPER VOLTA', 'DEMOCRATIC YEMEN', 'IVORY COAST', 'UKRAINIAN SSR', \"LAO PEOPLE's DEMOCRATIC REPUBLIC\", 'BYELORUSSIAN SSR', 'DEMOCRATIC KAMPUCHEA', 'UNITED REPUBLIC OF CAMEROON', 'GERMAN DEMOCRATIC REPUBLIC', 'BURMA', 'ZAIRE', 'GERMANY, FEDERAL REPUBLIC OF', 'USSR', 'CZECHOSLOVAKIA', 'COTE D’IVOIRE', 'PLURINATIONAL STATE OF BOLIVIA', 'LIBYAN ARAB REPUBLIC', 'IRAN', 'KHMER REPUBLIC', 'LAOS', 'CEYLON', 'DAHOMEY', 'UNITED ARAB REPUBLIC', 'SYRIA', 'SOUTHERN YEMEN', 'CONGO (BRAZZAVILLE)', 'CONGO (LEOPOLDVILLE)', ' UNITED KINGDOM', ' UNITED STATES', 'Aa UNITED STATES', 'CENTRAL AFRICAN EMPIRE', 'MALDIVE ISLANDS', 'CHILEs ', 'AY DENMARK', 'UNION OF SOUTH AFRICA', 'FEDERATION OF MALAYA', 'TANGANYIKA', ' CHILE', ' SOMALIA', ' ALGERIA', 'SERBIAMONTENEGRO', 'DONOTKNOW', 'ZANZIBAR', 'BOLIVIA (PLURINATIOANL STATE OF)', 'AY UNION OF SOUTH AFRICA', 'AY SWEDEN', 'BOLIVIA (PLUNATIONAL STATE OF)', 'SIAM', 'REPULIC OF MOLDOVA', 'PHILIPPINE REPUBLIC', 'SURINAM', ' BELGIUM', 'SAINT CHRISTOPHER AND NEVIS', 'TKAZAKHSTAN', 'DEMOCRATIC CAMPUCHEA', 'CONGO (DEMOCRATIC REPUBLIC OF)', 'index']\n",
      "259\n",
      "7855\n",
      "['SENEGAL', 'MALAYSIA', 'VENEZUELA (BOLIVARIAN REPUBLIC OF)', 'UNITED KINGDOM', 'RUSSIAN FEDERATION', 'JAPAN', 'ANGOLA', 'URUGUAY', 'SPAIN', 'EGYPT', 'NEW ZEALAND', 'UNITED STATES', 'FRANCE', 'CHINA', 'UKRAINE', 'NIGER', 'SAINT VINCENT AND THE GRENADINES', 'ESTONIA', 'SOUTH AFRICA', 'VIET NAM', 'BELGIUM', 'GERMANY', 'TUNISIA', 'INDONESIA', 'DOMINICAN REPUBLIC', 'BRAZIL', 'UNITED REPUBLIC OF TANZANIA', 'PHILIPPINES', 'ALGERIA', 'BENIN', 'DENMARK', 'ROMANIA', 'ARGENTINA', 'GREECE', 'AUSTRIA', 'SWITZERLAND', 'CYPRUS', 'MOZAMBIQUE', 'SUDAN', 'FIJI', 'BULGARIA', 'CUBA', 'UGANDA', 'ZAMBIA', 'SOUTH SUDAN', 'MONACO', 'REPUBLIC OF KOREA', 'REPUBLIC OF MOLDOVA', 'SAN MARINO', 'YEMEN', 'ITALY', 'BURUNDI', 'HUNGARY', 'CAMBODIA', 'MALAWI', 'NAURU', 'NICARAGUA', 'BRUNEI DARUSSALAM', 'POLAND', 'THAILAND', 'MALDIVES', 'SIERRA LEONE', 'TURKEY', 'CABO VERDE', 'PAPUA NEW GUINEA', 'MARSHALL ISLANDS', 'AZERBAIJAN', 'MADAGASCAR', 'CAMEROON', 'SAUDI ARABIA', 'IRAN (ISLAMIC REPUBLIC OF)', 'NEPAL', 'SAMOA', 'IRAQ', 'LIBYA', 'BAHRAIN', 'GUINEA', 'EQUATORIAL GUINEA', 'KYRGYZSTAN', 'ERITREA', 'KUWAIT', 'ARMENIA', 'MAURITANIA', 'SINGAPORE', 'CENTRAL AFRICAN REPUBLIC', 'PERU', 'LIECHTENSTEIN', 'NETHERLANDS', 'SERBIA', 'HAITI', 'IRELAND', 'KAZAKHSTAN', 'DJIBOUTI', \"DEMOCRATIC PEOPLE'S REPUBLIC OF KOREA\", 'BOSNIA AND HERZEGOVINA', 'PAKISTAN', 'SWEDEN', 'ZIMBABWE', 'SOMALIA', 'SLOVAKIA', 'AUSTRALIA', 'KIRIBATI', 'QATAR', 'LITHUANIA', 'ICELAND', 'LUXEMBOURG', 'ETHIOPIA', 'COMOROS', 'SRI LANKA', 'GUYANA', 'TONGA', 'UZBEKISTAN', 'VANUATU', 'LESOTHO', 'COLOMBIA', 'GUINEA-BISSAU', 'BOTSWANA', 'COSTA RICA', 'TAJIKISTAN', 'LIBERIA', \"COTE D'IVOIRE\", 'GABON', 'INDIA', 'ECUADOR', 'ESWATINI', 'SEYCHELLES', 'SAINT KITTS AND NEVIS', 'SOLOMON ISLANDS', 'MAURITIUS', 'ANDORRA', 'SAO TOME AND PRINCIPE', 'BELARUS', 'PALAU', 'GEORGIA', 'MYANMAR', 'AFGHANISTAN', 'CZECHIA', 'MEXICO', 'BANGLADESH', 'FINLAND', 'ISRAEL', 'HONDURAS', 'MALI', 'NORTH MACEDONIA', 'LEBANON', 'BARBADOS', 'BHUTAN', 'MOROCCO', 'MALTA', 'SURINAME', 'CANADA', 'UNITED ARAB EMIRATES', 'CROATIA', 'KENYA', 'RWANDA', 'CONGO', 'GUATEMALA', 'ANTIGUA AND BARBUDA', 'LATVIA', 'TOGO', 'GRENADA', 'NAMIBIA', 'SYRIAN ARAB REPUBLIC', 'NORWAY', 'CHILE', 'DOMINICA', 'ALBANIA', 'TRINIDAD AND TOBAGO', 'PANAMA', 'MONTENEGRO', 'NIGERIA', 'GHANA', 'OMAN', 'SLOVENIA', 'BAHAMAS', 'JAMAICA', 'BOLIVIA (PLURINATIONAL STATE OF)', 'SAINT LUCIA', 'MONGOLIA', 'PORTUGAL', 'DEMOCRATIC REPUBLIC OF THE CONGO', 'EL SALVADOR', 'GAMBIA', 'TURKMENISTAN', 'MICRONESIA (FEDERATED STATES OF)', 'TIMOR-LESTE', 'BELIZE', 'CHAD', 'BURKINA FASO', \"LAO PEOPLE'S DEMOCRATIC REPUBLIC\", 'TUVALU', 'JORDAN', 'PARAGUAY', 'SERBIA AND MONTENEGRO', 'BOLIVIA', 'THE FORMER YUGOSLAV REPUBLIC OF MACEDONIA', 'CAPE VERDE', 'CZECH REPUBLIC', 'VENEZUELA', 'SWAZILAND', 'LIBYAN ARAB JAMAHIRIYA', 'YUGOSLAVIA', 'MOLDOVA', 'UPPER VOLTA', 'DEMOCRATIC YEMEN', 'IVORY COAST', 'UKRAINIAN SSR', \"LAO PEOPLE's DEMOCRATIC REPUBLIC\", 'BYELORUSSIAN SSR', 'DEMOCRATIC KAMPUCHEA', 'UNITED REPUBLIC OF CAMEROON', 'GERMAN DEMOCRATIC REPUBLIC', 'BURMA', 'ZAIRE', 'GERMANY, FEDERAL REPUBLIC OF', 'USSR', 'CZECHOSLOVAKIA', 'COTE D’IVOIRE', 'PLURINATIONAL STATE OF BOLIVIA', 'LIBYAN ARAB REPUBLIC', 'IRAN', 'KHMER REPUBLIC', 'LAOS', 'CEYLON', 'DAHOMEY', 'UNITED ARAB REPUBLIC', 'SYRIA', 'SOUTHERN YEMEN', 'CONGO (BRAZZAVILLE)', 'CONGO (LEOPOLDVILLE)', ' UNITED KINGDOM', ' UNITED STATES', 'Aa UNITED STATES', 'CENTRAL AFRICAN EMPIRE', 'MALDIVE ISLANDS', 'CHILEs ', 'AY DENMARK', 'UNION OF SOUTH AFRICA', 'FEDERATION OF MALAYA', 'TANGANYIKA', ' CHILE', ' SOMALIA', ' ALGERIA', 'SERBIAMONTENEGRO', 'DONOTKNOW', 'ZANZIBAR', 'BOLIVIA (PLURINATIOANL STATE OF)', 'AY UNION OF SOUTH AFRICA', 'AY SWEDEN', 'BOLIVIA (PLUNATIONAL STATE OF)', 'SIAM', 'REPULIC OF MOLDOVA', 'PHILIPPINE REPUBLIC', 'SURINAM', ' BELGIUM', 'SAINT CHRISTOPHER AND NEVIS', 'TKAZAKHSTAN', 'DEMOCRATIC CAMPUCHEA', 'CONGO (DEMOCRATIC REPUBLIC OF)']\n"
     ]
    }
   ],
   "source": [
    "# get the title line\n",
    "title_line = df.columns.values.tolist()\n",
    "\n",
    "print(title_line)\n",
    "\n",
    "voters = title_line[11:-1]\n",
    "resolutions = df['Title'].tolist()\n",
    "\n",
    "print(len(voters))\n",
    "print(len(resolutions))\n",
    "print(voters)"
   ]
  },
  {
   "cell_type": "code",
   "execution_count": 25,
   "metadata": {},
   "outputs": [
    {
     "name": "stdout",
     "output_type": "stream",
     "text": [
      "{'European Union (EU)': [34, 20, 40, 152, 36, 197, 30, 17, 139, 12, 21, 33, 52, 90, 50, 158, 103, 105, 148, 87, 58, 179, 31, 99, 173, 8, 96], 'North Atlantic Treaty Organization (NATO)': [11, 150, 3, 12, 21, 50, 62, 87, 20, 105, 8, 179, 163, 30, 104, 33, 52, 58, 197, 99, 173, 17, 158, 103, 40, 31, 166, 152, 169, 143], 'Association of Southeast Asian Nations (ASEAN)': [57, 53, 23, 222, 1, 134, 27, 83, 59, 19], 'Mercosur': [32, 25, 192, 7], 'African Union (AU)': [28, 6, 29, 116, 188, 51, 63, 68, 84, 187, 107, 228, 180, 120, 92, 9, 77, 79, 124, 106, 121, 182, 171, 76, 115, 153, 113, 119, 74, 67, 54, 142, 82, 128, 147, 37, 161, 15, 170, 154, 130, 0, 125, 61, 98, 18, 44, 38, 26, 159, 22, 42, 43, 97], 'Commonwealth of Independent States (CIS)': [81, 66, 131, 91, 78, 202, 4, 118, 183, 111, 14], 'Shanghai Cooperation Organization (SCO)': [13, 4, 91, 78, 118, 111, 122, 95], 'Organization of American States (OAS)': [157, 32, 174, 145, 186, 194, 25, 150, 164, 114, 117, 41, 165, 24, 123, 181, 160, 156, 109, 89, 141, 175, 137, 56, 168, 192, 85, 126, 177, 16, 149, 167, 11, 7, 198], 'Arab League': [28, 75, 107, 92, 9, 73, 191, 80, 144, 74, 82, 147, 172, 102, 69, 98, 38, 226, 22, 151, 49], 'Pacific Islands Forum': [100, 39, 101, 65, 184, 55, 10, 132, 64, 72, 127, 110, 190, 112], 'Asia-Pacific Economic Cooperation (APEC)': [100, 57, 150, 164, 13, 23, 5, 1, 137, 10, 64, 85, 27, 4, 83, 46, 59, 11, 19], 'G7 (Group of Seven)': [150, 12, 21, 50, 5, 3, 11], 'G20 (Group of Twenty)': [32, 100, 25, 150, 13, 12, 21, 122, 23, 50, 5, 137, 4, 69, 18, 46, 62, 3, 11], 'CARICOM (Caribbean Community)': [157, 174, 145, 186, 165, 160, 109, 89, 175, 126, 177, 16, 149, 167], 'Andean Community (CAN)': [194, 114, 123, 85], 'Economic Community of West African States (ECOWAS)': [29, 188, 196, 120, 182, 171, 76, 115, 119, 142, 15, 170, 0, 61, 159], 'Central American Integration System (SICA)': [186, 117, 24, 181, 156, 141, 56, 168], 'Common Market for Eastern and Southern Africa (COMESA)': [51, 107, 92, 9, 79, 124, 106, 153, 74, 67, 54, 128, 154, 125, 98, 38, 42, 43, 97], 'Eurasian Economic Union (EAEU)': [81, 131, 91, 78, 4], 'Organization of Islamic Cooperation (OIC)': [135, 166, 28, 66, 75, 138, 29, 57, 188, 68, 187, 107, 92, 9, 121, 182, 76, 23, 220, 73, 191, 80, 144, 74, 1, 142, 82, 147, 15, 170, 172, 95, 102, 69, 0, 61, 98, 38, 226, 22, 62, 151, 42, 49], 'South Asian Association for Regional Cooperation (SAARC)': [135, 138, 146, 122, 60, 71, 95, 108], 'African, Caribbean, and Pacific Group of States (ACP)': [6, 157, 174, 138, 145, 186, 29, 116, 188, 51, 63, 68, 84, 187, 107, 228, 180, 92, 165, 24, 185, 123, 77, 79, 124, 106, 39, 121, 182, 171, 160, 76, 115, 109, 89, 175, 153, 101, 113, 119, 67, 54, 60, 142, 65, 82, 128, 184, 37, 161, 55, 15, 170, 132, 64, 154, 126, 177, 16, 72, 130, 0, 125, 61, 127, 98, 18, 44, 38, 149, 26, 159, 110, 167, 190, 42, 112, 43, 97], 'Organization for Security and Co-operation in Europe (OSCE)': [166, 129, 81, 34, 66, 131, 20, 94, 40, 150, 152, 36, 197, 30, 17, 139, 12, 133, 21, 33, 52, 104, 90, 50, 91, 78, 158, 86, 103, 105, 148, 202, 45, 169, 87, 143, 163, 58, 179, 31, 4, 48, 88, 99, 173, 8, 96, 35, 118, 62, 183, 14, 3, 11, 111], 'Gulf Cooperation Council (GCC)': [75, 80, 172, 102, 69, 151], 'Community of Portuguese Language Countries (CPLP)': [6, 25, 196, 185, 77, 115, 37, 179, 130], 'South American Community of Nations (CSN)': [32, 194, 25, 164, 114, 123, 109, 192, 85, 149, 7, 198], 'ASEAN Regional Forum (ARF)': [100, 138, 57, 53, 150, 13, 122, 23, 5, 222, 1, 178, 134, 10, 93, 95, 27, 4, 83, 46, 108, 59, 185, 11, 19], 'Commonwealth of Nations': [157, 100, 174, 138, 145, 186, 116, 57, 150, 36, 165, 124, 39, 182, 171, 160, 109, 122, 175, 153, 101, 113, 54, 1, 60, 148, 128, 37, 161, 55, 10, 170, 95, 64, 154, 126, 177, 16, 72, 125, 61, 83, 127, 18, 108, 26, 110, 167, 190, 42, 3, 112, 43, 97], 'East African Community (EAC)': [51, 153, 154, 44, 26, 42], 'Indian Ocean Rim Association (IORA)': [100, 138, 122, 23, 220, 153, 67, 1, 128, 37, 172, 125, 83, 18, 108, 26, 59, 151, 49], 'BRICS': [25, 4, 122, 13, 18], 'OPEC (Organization of the Petroleum Exporting Countries)': [28, 6, 77, 121, 220, 73, 80, 74, 170, 155, 69, 151, 198], 'Organisation internationale de la Francophonie (OIF)': [166, 129, 81, 20, 29, 40, 188, 51, 53, 68, 150, 187, 107, 228, 120, 92, 24, 9, 12, 121, 76, 89, 222, 144, 105, 67, 142, 82, 128, 45, 147, 15, 31, 154, 177, 0, 125, 35, 159, 22, 112, 19]}\n"
     ]
    }
   ],
   "source": [
    "org_index_list = {}\n",
    "for org_name in org_list:\n",
    "    members = org_list[org_name]\n",
    "    members_idx = []\n",
    "    for c in members:\n",
    "        # make m capitalized\n",
    "        m = c.upper()\n",
    "        if m in conversion_dict:\n",
    "            m = conversion_dict[m]\n",
    "        if m in voters:\n",
    "            # get the index\n",
    "            index = voters.index(m)\n",
    "            members_idx.append(index)\n",
    "        else:\n",
    "            #print(m)\n",
    "            pass\n",
    "    org_index_list[org_name] = members_idx\n",
    "\n",
    "print(org_index_list)"
   ]
  },
  {
   "cell_type": "code",
   "execution_count": 26,
   "metadata": {},
   "outputs": [
    {
     "name": "stdout",
     "output_type": "stream",
     "text": [
      "TAIWAN\n",
      "{185: [23], 150: [11], 183: [220, 135, 111, 91], 169: [166, 152, 201, 94], 103: [58, 4, 158, 131], 53: [59, 222, 19], 106: [153, 98, 92, 79, 38], 108: [122], 199: [37, 18], 32: [25, 194, 192, 164, 7], 194: [85, 25, 192, 164, 32], 68: [77, 170, 121, 84, 187, 155], 188: [142, 29, 15, 205, 171, 159], 171: [205, 188, 159], 69: [73, 9, 191, 140, 49, 80, 75, 102, 151, 172], 5: [4], 173: [34, 52, 50, 152], 156: [137, 186, 141, 181], 94: [152, 201, 169], 76: [115, 142, 0, 205, 119, 61], 4: [11, 58, 17, 158, 103, 14, 131, 133, 66, 139, 163, 91, 13, 178, 93, 5], 21: [87, 20, 105, 12, 35, 58, 34, 197, 30], 177: [16], 8: [12, 129, 179, 147], 119: [205, 76, 61], 87: [20, 21], 172: [69, 49, 151], 26: [180, 42, 153, 51, 154, 37, 43, 54], 205: [142, 76, 188, 119, 171], 121: [77, 68, 155], 45: [12], 49: [92, 79, 69, 172], 95: [220, 135, 13, 122, 134], 166: [143, 201, 169, 33], 151: [69, 102, 172], 122: [13, 146, 95, 138, 134, 108, 71], 66: [4, 81, 133, 220, 62], 113: [18], 153: [42, 26, 98, 106, 38], 46: [93], 118: [135, 78, 111, 13], 62: [33, 36, 40, 81, 133, 66, 220, 73, 226], 135: [220, 183, 118, 111, 13, 95], 138: [122, 134], 79: [92, 106, 38, 49], 127: [64], 48: [50], 178: [4, 13], 12: [3, 20, 105, 45, 35, 8, 129, 21, 50], 154: [180, 42, 26, 51], 99: [58, 34, 52, 197, 14], 98: [153, 92, 106], 85: [114, 123, 25, 194, 164], 222: [13, 134, 59, 53, 19], 163: [4, 139, 96], 54: [26, 37, 43], 29: [15, 188, 159, 170], 83: [1, 23], 11: [150, 137, 4], 159: [29, 188, 171], 13: [4, 135, 118, 78, 91, 178, 93, 122, 146, 95, 134, 71, 222, 19], 81: [133, 66, 220, 62], 24: [89], 14: [58, 52, 99, 202, 31, 4, 131], 75: [69, 102], 23: [1, 83, 185, 64], 74: [15, 187, 28, 22, 38, 9], 139: [4, 17, 96, 163], 84: [68, 187, 155, 180, 38], 86: [35, 34], 100: [64], 142: [0, 82, 15, 205, 76, 188, 28], 40: [143, 201, 33, 31, 62], 31: [52, 201, 40, 202, 14], 6: [155, 180, 43, 161], 187: [15, 68, 170, 84, 74, 38], 18: [37, 97, 161, 113, 116, 199], 16: [160, 177], 36: [62], 96: [139, 163, 30], 157: [126], 1: [59, 83, 57, 27, 23], 0: [115, 182, 142, 82, 76], 19: [13, 53, 222], 37: [26, 43, 97, 54, 18, 199], 42: [180, 153, 26, 154, 38], 52: [34, 99, 152, 201, 173, 31, 14], 15: [142, 29, 188, 170, 187, 28, 74], 25: [114, 198, 109, 149, 85, 194, 192, 32, 7], 80: [220, 73, 69], 168: [117, 114], 117: [56, 168], 105: [20, 12, 21], 129: [12, 8], 90: [3], 170: [29, 15, 68, 187], 123: [114, 85], 197: [21, 58, 34, 99], 57: [1], 131: [58, 4, 158, 103, 14], 220: [81, 66, 62, 73, 80, 135, 183, 95], 28: [142, 82, 15, 147, 22, 74], 181: [156, 141, 56], 126: [157], 164: [85, 194, 32], 20: [87, 105, 12, 21], 59: [134, 53, 222, 1], 89: [24], 73: [220, 62, 226, 191, 69, 80], 61: [76, 119], 133: [4, 81, 66, 62], 182: [0], 27: [1], 202: [31, 14], 147: [8, 82, 28], 161: [6, 43, 18, 116], 115: [0, 76], 35: [12, 86, 21, 34, 50], 160: [16], 186: [137, 156], 179: [8], 17: [4, 158, 139], 7: [25, 32], 137: [11, 186, 156], 144: [226, 140], 111: [135, 183, 118, 78, 91], 22: [28, 74], 92: [98, 106, 79, 49], 114: [198, 123, 85, 25, 168], 51: [180, 26, 154], 56: [141, 181, 117], 102: [69, 75, 151], 50: [12, 35, 34, 48, 152, 173], 146: [13, 122], 38: [84, 187, 180, 42, 153, 106, 79, 74, 9], 71: [13, 122], 180: [84, 155, 42, 26, 51, 154, 6, 43, 38], 149: [109, 25], 198: [114, 109, 25, 167], 140: [9, 226, 144, 191, 69], 43: [180, 26, 6, 37, 97, 54, 161, 116], 34: [86, 35, 21, 52, 197, 99, 50, 173], 64: [23, 100, 127], 97: [37, 43, 18, 116], 191: [73, 9, 226, 140, 69], 30: [21, 96], 91: [4, 183, 78, 111, 13], 58: [21, 197, 99, 4, 103, 14, 131], 82: [142, 0, 147, 28], 78: [118, 111, 91, 13], 143: [166, 201, 33, 40], 93: [4, 13, 46], 167: [198], 158: [4, 17, 103, 131], 109: [198, 149, 25], 226: [62, 73, 144, 191, 140], 141: [156, 181, 56], 134: [13, 122, 95, 138, 59, 222], 77: [68, 121], 9: [74, 38, 191, 140, 69], 3: [90, 12], 155: [68, 121, 84, 180, 6], 201: [52, 166, 143, 152, 94, 169, 40, 31], 33: [166, 143, 40, 62], 192: [25, 194, 32], 152: [52, 50, 201, 94, 169, 173], 116: [43, 97, 18, 161]}\n"
     ]
    }
   ],
   "source": [
    "# process country adjacency\n",
    "\n",
    "country_adjacency_index = {}\n",
    "\n",
    "for c in country_adjacency:\n",
    "    # make c capitalized\n",
    "    m = c.upper()\n",
    "    if m in conversion_dict:\n",
    "        m = conversion_dict[m]\n",
    "    if m in voters:\n",
    "        # get the index\n",
    "        index = voters.index(m)\n",
    "        \n",
    "        country_adjacency_index[index] = []\n",
    "        for neighbor in country_adjacency[c]:\n",
    "            n = neighbor.upper()\n",
    "            if n in conversion_dict:\n",
    "                n = conversion_dict[n]\n",
    "            if n in voters:\n",
    "                # get the index\n",
    "                n_index = voters.index(n)\n",
    "                country_adjacency_index[index].append(n_index)\n",
    "            else:\n",
    "                print(n)\n",
    "                pass\n",
    "\n",
    "print(country_adjacency_index)"
   ]
  },
  {
   "cell_type": "code",
   "execution_count": 27,
   "metadata": {},
   "outputs": [],
   "source": [
    "# set up torch g graph\n",
    "import torch\n",
    "import torch.nn.functional as F\n",
    "import torch_geometric\n",
    "from torch_geometric.data import Data\n"
   ]
  },
  {
   "cell_type": "code",
   "execution_count": 40,
   "metadata": {},
   "outputs": [
    {
     "name": "stdout",
     "output_type": "stream",
     "text": [
      "292\n"
     ]
    }
   ],
   "source": [
    "cap_resolution = None\n",
    "cap_voter = None\n",
    "cap_org = None\n",
    "\n",
    "# cap_resolution = 500\n",
    "# cap_voter = 100\n",
    "# cap_org = 0\n",
    "\n",
    "if cap_resolution is None:\n",
    "    len_resolutions = len(resolutions)\n",
    "else:\n",
    "    len_resolutions = cap_resolution\n",
    "\n",
    "\n",
    "if cap_voter is None:\n",
    "    len_voters = len(voters)\n",
    "else:\n",
    "    len_voters = cap_voter\n",
    "\n",
    "\n",
    "if cap_org is None:\n",
    "    len_orgs = len(org_index_list)\n",
    "else:\n",
    "    len_orgs = cap_org\n",
    "\n",
    "# Create node features (one-hot encoding for voters)\n",
    "node_features = torch.zeros(len_voters + len_orgs, 64)\n",
    "\n",
    "'''\n",
    "def get_resolution_idx(idx):\n",
    "    return len_voters + len_orgs + idx\n",
    "'''\n",
    "\n",
    "def get_voter_idx(idx):\n",
    "    return idx\n",
    "\n",
    "def get_org_idx(idx):\n",
    "    return len_voters + idx\n",
    "\n",
    "print(len_voters+len_orgs)"
   ]
  },
  {
   "cell_type": "code",
   "execution_count": 41,
   "metadata": {},
   "outputs": [
    {
     "name": "stdout",
     "output_type": "stream",
     "text": [
      "Data(x=[292, 64], edge_index=[2, 1035], edge_attr=[1, 1035]) 64\n"
     ]
    }
   ],
   "source": [
    "# Create edge indices and edge features based on the votes\n",
    "edges = []\n",
    "edge_features = []\n",
    "vote_types = {'Y': 0, 'N': 1, 'A': 2, 'X': 3}\n",
    "member_type = 4\n",
    "adjacent_type = 5\n",
    "\n",
    "'''\n",
    "for resolution_index, resolution in enumerate(resolutions):\n",
    "    if resolution_index >= cap_resolution:\n",
    "        break\n",
    "    for voter_index, voter in enumerate(voters):\n",
    "        if voter_index >= cap_voter:\n",
    "            break\n",
    "        vote = df.at[resolution_index, voter]\n",
    "        if vote in vote_types:\n",
    "            edges.append((get_voter_idx(voter_index), get_resolution_idx(resolution_index)))\n",
    "            edge_features.append(vote_types[vote])\n",
    "'''\n",
    "\n",
    "for org_idx, org_name in enumerate(org_index_list):\n",
    "    if org_idx >= len_orgs:\n",
    "        break\n",
    "    org_members = org_index_list[org_name]\n",
    "    for voter_idx in org_members:\n",
    "        if voter_idx >= len_voters:\n",
    "            continue\n",
    "        edges.append((get_voter_idx(voter_idx), get_org_idx(org_idx)))\n",
    "        edge_features.append(member_type)\n",
    "\n",
    "for c in country_adjacency_index:\n",
    "    for n in country_adjacency_index[c]:\n",
    "        if c < n and c < len_voters and n < len_voters:\n",
    "            edges.append((c, n))\n",
    "            edge_features.append(adjacent_type)\n",
    "\n",
    "edge_index = torch.tensor(edges, dtype=torch.long).t().contiguous()\n",
    "edge_features = torch.tensor(edge_features, dtype=torch.float).view(1, -1)\n",
    "\n",
    "# Create a PyTorch Geometric Data object\n",
    "graph_data = Data(x=node_features, edge_index=edge_index, edge_attr=edge_features)\n",
    "\n",
    "edge_index = graph_data.edge_index\n",
    "\n",
    "# Print the created graph data\n",
    "print(graph_data, graph_data.num_features)\n"
   ]
  },
  {
   "cell_type": "code",
   "execution_count": 42,
   "metadata": {},
   "outputs": [],
   "source": [
    "edge_colors_map =[ (0.2, 0.2, 0.2), (0.2, 0.2, 1), (1, 0.2, 0.2), (0.2, 0.2, 1), (0.6, 0.6, 0.2), (0.2, 0.6, 0.2)]\n",
    "node_colors_map = [(1, 0.6 , 0.6), (0.6, 0.6, 1), (0.8, 0.6, 0)]"
   ]
  },
  {
   "cell_type": "code",
   "execution_count": 43,
   "metadata": {},
   "outputs": [
    {
     "data": {
      "text/plain": [
       "(tensor([[4., 4., 4.,  ..., 5., 5., 5.]]), 7855, 259)"
      ]
     },
     "execution_count": 43,
     "metadata": {},
     "output_type": "execute_result"
    }
   ],
   "source": [
    "edge_features, len_resolutions, len_voters"
   ]
  },
  {
   "cell_type": "code",
   "execution_count": 80,
   "metadata": {},
   "outputs": [
    {
     "name": "stderr",
     "output_type": "stream",
     "text": [
      "/opt/anaconda3/lib/python3.8/site-packages/networkx/drawing/nx_pylab.py:433: UserWarning: No data for colormapping provided via 'c'. Parameters 'cmap' will be ignored\n",
      "  node_collection = ax.scatter(\n"
     ]
    },
    {
     "data": {
      "image/png": "[encoded data removed]",
      "text/plain": [
       "<Figure size 640x480 with 1 Axes>"
      ]
     },
     "metadata": {},
     "output_type": "display_data"
    }
   ],
   "source": [
    "import networkx as nx\n",
    "import matplotlib.pyplot as plt\n",
    "%matplotlib inline\n",
    "\n",
    "# Convert PyTorch Geometric data to a NetworkX graph\n",
    "G = nx.Graph()\n",
    "\n",
    "# Add nodes with titles\n",
    "'''\n",
    "for i, resolution in enumerate(resolutions):\n",
    "    if i >= cap_resolution:\n",
    "        break\n",
    "    G.add_node(get_resolution_idx(i), title=resolution[:10], color = node_colors_map[1], bipartite=0)\n",
    "'''\n",
    "\n",
    "for i, voter in enumerate(voters):\n",
    "    if i >= len_voters:\n",
    "        break\n",
    "    G.add_node(get_voter_idx(i), title=voter, color = node_colors_map[0], bipartite=1)\n",
    "\n",
    "for i, org_name in enumerate(org_index_list):\n",
    "    if i >= len_orgs:\n",
    "        break\n",
    "    G.add_node(get_org_idx(i), title=org_name, color = node_colors_map[2], bipartite=1)\n",
    "\n",
    "# Add edges with colors based on edge features\n",
    "for edge, edge_feature in zip(edge_index.t().tolist(), edge_features[0].tolist()):\n",
    "    #print(edge, edge_feature)\n",
    "    G.add_edge(edge[0], edge[1], color=edge_colors_map[int(edge_feature)])\n",
    "\n",
    "# Draw the graph\n",
    "left_nodes = [i for i in range(len_resolutions)] + [get_org_idx(i) for i in range(len_orgs)]\n",
    "#pos = nx.bipartite_layout(G, nodes = left_nodes )  # You can use different layout algorithms\n",
    "pos = nx.spring_layout(G, k=0.1, iterations=20)\n",
    "edge_colors = [edge[2]['color'] for edge in G.edges(data=True)]\n",
    "node_colors = [node[1]['color'] for node in G.nodes(data=True)]\n",
    "\n",
    "labels = nx.get_node_attributes(G, 'title')\n",
    "\n",
    "nx.draw(G, pos, with_labels=True, labels=labels, font_color='black', font_size=8, font_weight='bold', node_color=node_colors, edge_color=edge_colors, width=1, cmap=plt.cm.Blues)\n",
    "plt.show()"
   ]
  },
  {
   "cell_type": "code",
   "execution_count": 44,
   "metadata": {},
   "outputs": [],
   "source": [
    "import torch\n",
    "import torch_scatter\n",
    "import torch.nn as nn\n",
    "import torch.nn.functional as F\n",
    "\n",
    "import torch_geometric.nn as pyg_nn\n",
    "import torch_geometric.utils as pyg_utils\n",
    "\n",
    "from torch import Tensor\n",
    "from typing import Union, Tuple, Optional\n",
    "from torch_geometric.typing import (OptPairTensor, Adj, Size, NoneType,\n",
    "                                    OptTensor)\n",
    "\n",
    "from torch.nn import Parameter, Linear\n",
    "from torch_geometric.nn.conv import MessagePassing\n",
    "from torch_geometric.utils import remove_self_loops, add_self_loops, softmax\n",
    "\n",
    "title_projection_dim = 128\n",
    "voter_embedding_dim = 64\n",
    "\n",
    "class GNNStack(torch.nn.Module):\n",
    "    def __init__(self, input_dim, hidden_dim, output_dim, args, emb=False):\n",
    "        super(GNNStack, self).__init__()\n",
    "\n",
    "        conv_model = self.build_conv_model(args.model_type)\n",
    "        self.convs = nn.ModuleList()\n",
    "        self.convs.append(conv_model(input_dim, voter_embedding_dim))\n",
    "        assert (args.num_layers >= 1), 'Number of layers is not >=1'\n",
    "        for l in range(args.num_layers-1):\n",
    "            self.convs.append(conv_model(args.heads * voter_embedding_dim, voter_embedding_dim))\n",
    "\n",
    "        self.node_embedding = nn.Embedding(len_voters + len_orgs, voter_embedding_dim)\n",
    "        self.all_node_index = torch.tensor([i for i in range(len_voters + len_orgs)], dtype=torch.long)\n",
    "\n",
    "        self.proj = nn.Linear(384, title_projection_dim)\n",
    "\n",
    "        self.edge_index = edge_index\n",
    "\n",
    "        # post-message-passing\n",
    "        self.post_mp = nn.Sequential(\n",
    "            nn.Linear(args.heads * voter_embedding_dim + title_projection_dim, hidden_dim), \n",
    "            nn.ReLU(),\n",
    "            nn.Linear(hidden_dim, hidden_dim),\n",
    "            nn.ReLU(),\n",
    "            nn.Linear(hidden_dim, hidden_dim),\n",
    "            nn.ReLU(),\n",
    "            nn.Linear(hidden_dim, output_dim))\n",
    "\n",
    "        self.dropout = args.dropout\n",
    "        self.num_layers = args.num_layers\n",
    "\n",
    "        self.emb = emb\n",
    "\n",
    "        class_weights = torch.tensor([1, 5, 3, 4])\n",
    "        class_weights = class_weights / class_weights.sum()\n",
    "\n",
    "        self.criterion = nn.CrossEntropyLoss(weight=class_weights)\n",
    "\n",
    "    def build_conv_model(self, model_type):\n",
    "        if model_type == 'GraphSage':\n",
    "            return GraphSage\n",
    "        elif model_type == 'GAT':\n",
    "            return GAT\n",
    "        elif model_type == 'GraphSageHetero':\n",
    "            return GraphSageHetero\n",
    "        else:\n",
    "            raise ValueError('Conv Model {} not recognized.'.format(model_type))\n",
    "\n",
    "    def forward(self, x):\n",
    "        idx = x[:, -1].long()\n",
    "        title = x[:, :-1].float()\n",
    "        edge_index = self.edge_index\n",
    "\n",
    "        node_embed = self.node_embedding(self.all_node_index)\n",
    "        for i in range(self.num_layers):\n",
    "            #print(node_embed.shape)\n",
    "            node_embed = self.convs[i](node_embed, edge_index, features = self.all_node_index)\n",
    "            node_embed = F.relu(node_embed)\n",
    "            node_embed = F.dropout(node_embed, p=self.dropout,training=self.training)\n",
    "            #print(node_embed.shape)\n",
    "\n",
    "\n",
    "        node_embed = node_embed[idx]\n",
    "        title_embed = self.proj(title)\n",
    "\n",
    "        x = torch.cat([node_embed, title_embed], dim=1)\n",
    "\n",
    "        x = self.post_mp(x)\n",
    "\n",
    "        if self.emb == True:\n",
    "            return x\n",
    "\n",
    "        return F.softmax(x, dim=1)\n",
    "\n",
    "    def get_embeddings(self):\n",
    "        node_embed = self.node_embedding(self.all_node_index)\n",
    "        for i in range(self.num_layers):\n",
    "            node_embed = self.convs[i](node_embed, self.edge_index, features = self.all_node_index)\n",
    "            node_embed = F.relu(node_embed)\n",
    "        return node_embed.detach().numpy()\n",
    "\n",
    "    def loss(self, pred, label):\n",
    "        return self.criterion(pred, label)"
   ]
  },
  {
   "cell_type": "code",
   "execution_count": 45,
   "metadata": {},
   "outputs": [],
   "source": [
    "class GraphSage(MessagePassing):\n",
    "\n",
    "    def __init__(self, in_channels, out_channels, normalize = True,\n",
    "                 bias = False, **kwargs):\n",
    "        super(GraphSage, self).__init__(**kwargs)\n",
    "\n",
    "        self.in_channels = in_channels\n",
    "        self.out_channels = out_channels\n",
    "        self.normalize = normalize\n",
    "\n",
    "        self.lin_l = None\n",
    "        self.lin_r = None\n",
    "\n",
    "        self.lin_l = torch.nn.Linear(in_channels, out_channels, bias=bias)\n",
    "        self.lin_r = torch.nn.Linear(in_channels, out_channels, bias=bias)\n",
    "\n",
    "        self.reset_parameters()\n",
    "\n",
    "    def reset_parameters(self):\n",
    "        \n",
    "        with torch.no_grad():\n",
    "            # fill l with identity\n",
    "            self.lin_l.weight.copy_(torch.eye(self.in_channels, self.out_channels))\n",
    "            #self.lin_l.bias.fill_(0)\n",
    "\n",
    "            self.lin_r.weight.fill_(0)\n",
    "            #self.lin_r.bias.fill_(0)\n",
    "\n",
    "    def forward(self, x, edge_index, size = None, features = None):\n",
    "        \"\"\"\"\"\"\n",
    "        out = None\n",
    "\n",
    "        r = self.propagate(edge_index, x=(x, x), size=size)\n",
    "        out = self.lin_l(x) + self.lin_r(r)\n",
    "\n",
    "        if self.normalize:\n",
    "            out = F.normalize(out, p=2.0, dim=-1)\n",
    "\n",
    "        return out\n",
    "\n",
    "    def message(self, x_j):\n",
    "        out = x_j\n",
    "        return out\n",
    "\n",
    "    def aggregate(self, inputs, index, dim_size = None):\n",
    "        # The axis along which to index number of nodes.\n",
    "        node_dim = self.node_dim\n",
    "\n",
    "        out = torch_scatter.scatter(inputs, index, dim = node_dim, dim_size=dim_size, reduce='mean')\n",
    "        return out\n"
   ]
  },
  {
   "cell_type": "code",
   "execution_count": 46,
   "metadata": {},
   "outputs": [],
   "source": [
    "class GraphSageHetero(MessagePassing):\n",
    "\n",
    "    def __init__(self, in_channels, out_channels, normalize = True,\n",
    "                 bias = False, **kwargs):\n",
    "        super(GraphSageHetero, self).__init__(**kwargs)\n",
    "\n",
    "        self.in_channels = in_channels\n",
    "        self.out_channels = out_channels\n",
    "        self.normalize = normalize\n",
    "\n",
    "        self.lin_l_voter = torch.nn.Linear(in_channels, out_channels, bias=bias)\n",
    "        self.lin_l_org = torch.nn.Linear(in_channels, out_channels, bias=bias)\n",
    "\n",
    "        self.lin_r = torch.nn.Linear(in_channels, out_channels, bias=bias)\n",
    "\n",
    "        self.reset_parameters()\n",
    "\n",
    "    def reset_parameters(self):\n",
    "        with torch.no_grad():\n",
    "            # fill l with identity\n",
    "            self.lin_l_voter.weight.copy_(torch.eye(self.in_channels, self.out_channels))\n",
    "            #self.lin_l_voter.bias.fill_(0)\n",
    "\n",
    "            self.lin_l_org.weight.copy_(torch.eye(self.in_channels, self.out_channels))\n",
    "            #self.lin_l_org.bias.fill_(0)\n",
    "\n",
    "            self.lin_r.weight.fill_(0)\n",
    "            #self.lin_r.bias.fill_(0)\n",
    "            \n",
    "    def forward(self, x, edge_index, size = None, features = None):\n",
    "        \"\"\"\"\"\"\n",
    "        out = None\n",
    "\n",
    "        assert features is not None\n",
    "\n",
    "        l_v = self.lin_l_voter(x)\n",
    "        l_o = self.lin_l_org(x)\n",
    "        l = torch.where((features < len_voters).unsqueeze(1), l_v, l_o)\n",
    "\n",
    "        r = self.propagate(edge_index, x=(x, x), size=size)\n",
    "        out = l + self.lin_r(r)\n",
    "\n",
    "        if self.normalize:\n",
    "            out = F.normalize(out, p=2.0, dim=-1)\n",
    "\n",
    "        return out\n",
    "\n",
    "    def message(self, x_j):\n",
    "        out = x_j\n",
    "        return out\n",
    "\n",
    "    def aggregate(self, inputs, index, dim_size = None):\n",
    "        # The axis along which to index number of nodes.\n",
    "        node_dim = self.node_dim\n",
    "\n",
    "        out = torch_scatter.scatter(inputs, index, dim = node_dim, dim_size=dim_size, reduce='mean')\n",
    "        return out\n"
   ]
  },
  {
   "cell_type": "code",
   "execution_count": 47,
   "metadata": {},
   "outputs": [],
   "source": [
    "class GAT(MessagePassing):\n",
    "\n",
    "    def __init__(self, in_channels, out_channels, heads = 2,\n",
    "                 negative_slope = 0.2, dropout = 0., **kwargs):\n",
    "        super(GAT, self).__init__(node_dim=0, **kwargs)\n",
    "\n",
    "        self.in_channels = in_channels\n",
    "        self.out_channels = out_channels\n",
    "        self.heads = heads\n",
    "        self.negative_slope = negative_slope\n",
    "        self.dropout = dropout\n",
    "\n",
    "        self.lin_l = nn.Linear(in_channels, out_channels * heads)\n",
    "        self.lin_r = nn.Linear(in_channels, out_channels * heads)\n",
    "\n",
    "        self.att_l = nn.Parameter(torch.Tensor(heads, out_channels))\n",
    "        self.att_r = nn.Parameter(torch.Tensor(heads, out_channels))\n",
    "\n",
    "        self.reset_parameters()\n",
    "\n",
    "    def reset_parameters(self):\n",
    "        nn.init.xavier_uniform_(self.lin_l.weight)\n",
    "        nn.init.xavier_uniform_(self.lin_r.weight)\n",
    "        nn.init.xavier_uniform_(self.att_l)\n",
    "        nn.init.xavier_uniform_(self.att_r)\n",
    "\n",
    "    def forward(self, x, edge_index, size = None, features = None):\n",
    "\n",
    "        H, C = self.heads, self.out_channels\n",
    "\n",
    "        N = x.shape[0]\n",
    "        emb_l, emb_r = self.lin_l(x).reshape(N, H, C), self.lin_r(x).reshape(N, H, C)  # shape (N, H*C)\n",
    "        alpha_l = torch.stack([torch.matmul(emb_l[:, i, :], self.att_l[i, :]) for i in range(H)]).permute((1, 0)) # shape (N, H)\n",
    "        alpha_r = torch.stack([torch.matmul(emb_r[:, i, :], self.att_r[i, :]) for i in range(H)]).permute((1, 0)) # shape (N, H)\n",
    "        out = self.propagate(edge_index, x = emb_r, alpha = (alpha_l, alpha_r), size=size).reshape((N, -1))\n",
    "\n",
    "        return out\n",
    "\n",
    "\n",
    "    def message(self, x_j, alpha_j, alpha_i, index, ptr, size_i):\n",
    "\n",
    "        att = F.leaky_relu(alpha_j + alpha_i, negative_slope=self.negative_slope)\n",
    "        alpha = torch_geometric.utils.softmax(att, index, ptr, num_nodes=size_i)\n",
    "        alpha = F.dropout(alpha, p=self.dropout, training=self.training)\n",
    "        out = alpha.unsqueeze(2) * x_j\n",
    "\n",
    "        return out\n",
    "\n",
    "\n",
    "    def aggregate(self, inputs, index, dim_size = None):\n",
    "\n",
    "        out = torch_scatter.scatter(inputs, index, dim = self.node_dim, dim_size=dim_size, reduce='sum')\n",
    "\n",
    "        return out"
   ]
  },
  {
   "cell_type": "code",
   "execution_count": 48,
   "metadata": {},
   "outputs": [],
   "source": [
    "import pandas as pd\n",
    "import torch\n",
    "from tqdm import tqdm\n",
    "from torch.utils.data import Dataset, DataLoader\n",
    "from sklearn.model_selection import train_test_split\n",
    "\n",
    "class VoterDataset(Dataset):\n",
    "    def __init__(self, data):\n",
    "        self.data = data \n",
    "        print('data shape: ', self.data.shape)\n",
    "        print(data.index)\n",
    "\n",
    "        self.features = []\n",
    "        self.labels = []\n",
    "\n",
    "        # for each line\n",
    "        for i in tqdm(range(len(self.data))):\n",
    "            index = self.data.iloc[i]['index']\n",
    "            cur_line = self.data.iloc[i]\n",
    "            title_feature = title_embeddings[index]\n",
    "\n",
    "            for i, voter in enumerate(voters):\n",
    "                vote = cur_line[voter]\n",
    "\n",
    "                if vote not in vote_types:\n",
    "                    continue\n",
    "\n",
    "                feature = np.concatenate((title_feature, [i]), 0)\n",
    "\n",
    "                self.features.append(feature)\n",
    "                self.labels.append(vote_types[vote])\n",
    "\n",
    "    def __len__(self):\n",
    "        return len(self.labels)\n",
    "\n",
    "    def __getitem__(self, idx):\n",
    "        return self.features[idx], self.labels[idx]\n",
    "        "
   ]
  },
  {
   "cell_type": "code",
   "execution_count": 202,
   "metadata": {},
   "outputs": [
    {
     "name": "stdout",
     "output_type": "stream",
     "text": [
      "data shape:  (6284, 271)\n",
      "Index([6072,  432, 6001, 6308, 2118, 3832, 4398, 1108, 5523, 7678,\n",
      "       ...\n",
      "       6265, 5734, 3092, 3772, 5191, 5226, 5390,  860, 7603, 7270],\n",
      "      dtype='int64', length=6284)\n"
     ]
    },
    {
     "name": "stderr",
     "output_type": "stream",
     "text": [
      "  0%|          | 12/6284 [00:00<00:55, 113.11it/s]"
     ]
    },
    {
     "name": "stderr",
     "output_type": "stream",
     "text": [
      "100%|██████████| 6284/6284 [00:22<00:00, 285.37it/s]\n"
     ]
    },
    {
     "name": "stdout",
     "output_type": "stream",
     "text": [
      "data shape:  (785, 271)\n",
      "Index([6321, 1103, 2897, 1869, 1487,  828, 6353, 4477,  251, 1671,\n",
      "       ...\n",
      "       7658, 7847, 4999, 1172, 1242, 7204, 6607, 5260, 3859, 3121],\n",
      "      dtype='int64', length=785)\n"
     ]
    },
    {
     "name": "stderr",
     "output_type": "stream",
     "text": [
      "100%|██████████| 785/785 [00:01<00:00, 436.09it/s]\n"
     ]
    },
    {
     "name": "stdout",
     "output_type": "stream",
     "text": [
      "data shape:  (786, 271)\n",
      "Index([4231,  308, 1017, 6682, 6043, 1406,  334, 3194, 4270,  381,\n",
      "       ...\n",
      "        425, 5498, 3855, 7836, 5381, 4755, 1407, 4575,  982, 3413],\n",
      "      dtype='int64', length=786)\n"
     ]
    },
    {
     "name": "stderr",
     "output_type": "stream",
     "text": [
      "100%|██████████| 786/786 [00:01<00:00, 401.35it/s]\n"
     ]
    }
   ],
   "source": [
    "train_data, test_data = train_test_split(df, test_size=0.2, random_state=42)\n",
    "valid_data, test_data = train_test_split(test_data, test_size=0.5, random_state=42)\n",
    "\n",
    "train_dataset = VoterDataset(train_data)\n",
    "valid_dataset = VoterDataset(valid_data)\n",
    "test_dataset = VoterDataset(test_data)"
   ]
  },
  {
   "cell_type": "code",
   "execution_count": 203,
   "metadata": {},
   "outputs": [],
   "source": [
    "train_loader = DataLoader(train_dataset, batch_size=64, shuffle=True)\n",
    "valid_loader = DataLoader(valid_dataset, batch_size=64)\n",
    "test_loader = DataLoader(test_dataset, batch_size=64)"
   ]
  },
  {
   "cell_type": "code",
   "execution_count": 49,
   "metadata": {},
   "outputs": [],
   "source": [
    "import torch.optim as optim\n",
    "\n",
    "def build_optimizer(args, params):\n",
    "    weight_decay = args.weight_decay\n",
    "    filter_fn = filter(lambda p : p.requires_grad, params)\n",
    "    if args.opt == 'adam':\n",
    "        optimizer = optim.Adam(filter_fn, lr=args.lr, weight_decay=weight_decay)\n",
    "    elif args.opt == 'sgd':\n",
    "        optimizer = optim.SGD(filter_fn, lr=args.lr, momentum=0.95, weight_decay=weight_decay)\n",
    "    elif args.opt == 'rmsprop':\n",
    "        optimizer = optim.RMSprop(filter_fn, lr=args.lr, weight_decay=weight_decay)\n",
    "    elif args.opt == 'adagrad':\n",
    "        optimizer = optim.Adagrad(filter_fn, lr=args.lr, weight_decay=weight_decay)\n",
    "    if args.opt_scheduler == 'none':\n",
    "        return None, optimizer\n",
    "    elif args.opt_scheduler == 'step':\n",
    "        scheduler = optim.lr_scheduler.StepLR(optimizer, step_size=args.opt_decay_step, gamma=args.opt_decay_rate)\n",
    "    elif args.opt_scheduler == 'cos':\n",
    "        scheduler = optim.lr_scheduler.CosineAnnealingLR(optimizer, T_max=args.opt_restart)\n",
    "    return scheduler, optimizer"
   ]
  },
  {
   "cell_type": "code",
   "execution_count": 50,
   "metadata": {},
   "outputs": [],
   "source": [
    "\n",
    "from sklearn.metrics import f1_score\n",
    "\n",
    "model = None\n",
    "\n",
    "def train(args):\n",
    "    # build model\n",
    "    model = GNNStack(voter_embedding_dim, args.hidden_dim, 4,\n",
    "                            args)\n",
    "    scheduler, optimizer = build_optimizer(args, model.parameters())\n",
    "    device = torch.device('cuda' if torch.cuda.is_available() else 'cpu')\n",
    "    epochs = 10\n",
    "    valid_loss_min = np.Inf\n",
    "\n",
    "    for epoch in range(epochs):\n",
    "        train_loss = 0.0\n",
    "        valid_loss = 0.0\n",
    "\n",
    "        model.train()\n",
    "        cnt = 0\n",
    "        correct = 0\n",
    "        total = 0\n",
    "        cur_loss = 0\n",
    "        for data, target in tqdm(train_loader):\n",
    "            data, target = data.to(device), target.to(device)\n",
    "            optimizer.zero_grad()\n",
    "    \n",
    "            output = model(data)\n",
    "            loss = model.loss(output, target)\n",
    "            loss.backward(retain_graph=True)\n",
    "            optimizer.step()\n",
    "\n",
    "            train_loss += loss.item() * data.size(0)\n",
    "            cur_loss += loss.item()\n",
    "\n",
    "            _ , predicted = torch.max(output.data, 1)\n",
    "            total += target.size(0)\n",
    "            correct += (predicted == target).sum().item()    \n",
    "\n",
    "            cnt += 1\n",
    "            if cnt % 1000 == 0:\n",
    "                print('Step {} \\tTraining Loss: {:.6f} \\tAccuracy: {:.6f}'.format(cnt, cur_loss / 1000, correct / total))\n",
    "                cur_loss = 0\n",
    "                total = 0\n",
    "                correct = 0\n",
    "\n",
    "        model.eval()\n",
    "        correct = 0\n",
    "        total = 0\n",
    "        all_predicted = []\n",
    "        all_target = []\n",
    "        for data, target in tqdm(valid_loader):\n",
    "            data, target = data.detach().to(device), target.to(device)\n",
    "\n",
    "            output = model(data)\n",
    "            loss = model.loss(output, target)\n",
    "\n",
    "            valid_loss += loss.item() * data.size(0)\n",
    "\n",
    "            _, predicted = torch.max(output.data, 1)\n",
    "            total += target.size(0)\n",
    "            correct += (predicted == target).sum().item()\n",
    "\n",
    "            all_predicted.extend(predicted.tolist())\n",
    "            all_target.extend(target.tolist())\n",
    "\n",
    "        train_loss = train_loss / len(train_loader.dataset)\n",
    "        valid_loss = valid_loss / len(valid_loader.dataset)\n",
    "\n",
    "        accuracy = correct / total\n",
    "        f1 = f1_score(all_target, all_predicted, average='weighted')\n",
    "        f1_prime = f1_score(all_target, np.zeros_like(all_predicted), average='weighted')\n",
    "\n",
    "        print('Epoch: {} \\tTraining Loss: {:.6f} \\tValidation Loss: {:.6f}'.format(epoch, train_loss, valid_loss))\n",
    "        print('Accuracy: {:.6f} \\tF1: {:.6f} \\tF1 Prime: {:.6f}'.format(accuracy, f1, f1_prime))\n",
    "\n",
    "        if valid_loss <= valid_loss_min:\n",
    "            print('Validation loss decreased ({:.6f} --> {:.6f}). Saving model ...'.format(valid_loss_min, valid_loss))\n",
    "            torch.save(model.state_dict(), args.model_type + '_model.pt')\n",
    "            valid_loss_min = valid_loss\n"
   ]
  },
  {
   "cell_type": "code",
   "execution_count": 51,
   "metadata": {},
   "outputs": [],
   "source": [
    "class objectview(object):\n",
    "    def __init__(self, d):\n",
    "        self.__dict__ = d\n",
    "\n",
    "args = {'num_layers': 1, 'heads': 1, 'hidden_dim': 384, 'dropout': 0.0, 'epochs': 10, 'opt': 'adam', 'opt_scheduler': 'none', 'opt_restart': 0, 'weight_decay': 5e-3, 'lr': 0.0005}\n",
    "args = objectview(args)"
   ]
  },
  {
   "cell_type": "code",
   "execution_count": 273,
   "metadata": {},
   "outputs": [
    {
     "name": "stderr",
     "output_type": "stream",
     "text": [
      "  9%|▉         | 1010/11161 [00:16<03:16, 51.73it/s]"
     ]
    },
    {
     "name": "stdout",
     "output_type": "stream",
     "text": [
      "Step 1000 \tTraining Loss: 1.274512 \tAccuracy: 0.759641\n"
     ]
    },
    {
     "name": "stderr",
     "output_type": "stream",
     "text": [
      " 18%|█▊        | 2001/11161 [00:59<24:25,  6.25it/s]"
     ]
    },
    {
     "name": "stdout",
     "output_type": "stream",
     "text": [
      "Step 2000 \tTraining Loss: 1.273163 \tAccuracy: 0.758766\n"
     ]
    },
    {
     "name": "stderr",
     "output_type": "stream",
     "text": [
      " 27%|██▋       | 3002/11161 [02:17<09:46, 13.91it/s]"
     ]
    },
    {
     "name": "stdout",
     "output_type": "stream",
     "text": [
      "Step 3000 \tTraining Loss: 1.271651 \tAccuracy: 0.762031\n"
     ]
    },
    {
     "name": "stderr",
     "output_type": "stream",
     "text": [
      " 36%|███▌      | 4003/11161 [03:23<07:38, 15.60it/s]"
     ]
    },
    {
     "name": "stdout",
     "output_type": "stream",
     "text": [
      "Step 4000 \tTraining Loss: 1.276720 \tAccuracy: 0.759062\n"
     ]
    },
    {
     "name": "stderr",
     "output_type": "stream",
     "text": [
      " 45%|████▍     | 5001/11161 [04:30<06:57, 14.75it/s]"
     ]
    },
    {
     "name": "stdout",
     "output_type": "stream",
     "text": [
      "Step 5000 \tTraining Loss: 1.281407 \tAccuracy: 0.758047\n"
     ]
    },
    {
     "name": "stderr",
     "output_type": "stream",
     "text": [
      " 54%|█████▍    | 6003/11161 [05:31<04:34, 18.81it/s]"
     ]
    },
    {
     "name": "stdout",
     "output_type": "stream",
     "text": [
      "Step 6000 \tTraining Loss: 1.281177 \tAccuracy: 0.758766\n"
     ]
    },
    {
     "name": "stderr",
     "output_type": "stream",
     "text": [
      " 63%|██████▎   | 7004/11161 [06:20<02:47, 24.78it/s]"
     ]
    },
    {
     "name": "stdout",
     "output_type": "stream",
     "text": [
      "Step 7000 \tTraining Loss: 1.285442 \tAccuracy: 0.755719\n"
     ]
    },
    {
     "name": "stderr",
     "output_type": "stream",
     "text": [
      " 72%|███████▏  | 8003/11161 [07:00<01:36, 32.84it/s]"
     ]
    },
    {
     "name": "stdout",
     "output_type": "stream",
     "text": [
      "Step 8000 \tTraining Loss: 1.279390 \tAccuracy: 0.760312\n"
     ]
    },
    {
     "name": "stderr",
     "output_type": "stream",
     "text": [
      " 81%|████████  | 9002/11161 [07:29<01:17, 27.77it/s]"
     ]
    },
    {
     "name": "stdout",
     "output_type": "stream",
     "text": [
      "Step 9000 \tTraining Loss: 1.281665 \tAccuracy: 0.759125\n"
     ]
    },
    {
     "name": "stderr",
     "output_type": "stream",
     "text": [
      " 90%|████████▉ | 10008/11161 [07:55<00:29, 39.48it/s]"
     ]
    },
    {
     "name": "stdout",
     "output_type": "stream",
     "text": [
      "Step 10000 \tTraining Loss: 1.280182 \tAccuracy: 0.759844\n"
     ]
    },
    {
     "name": "stderr",
     "output_type": "stream",
     "text": [
      " 99%|█████████▊| 11005/11161 [08:22<00:03, 41.65it/s]"
     ]
    },
    {
     "name": "stdout",
     "output_type": "stream",
     "text": [
      "Step 11000 \tTraining Loss: 1.282009 \tAccuracy: 0.758109\n"
     ]
    },
    {
     "name": "stderr",
     "output_type": "stream",
     "text": [
      "100%|██████████| 11161/11161 [08:26<00:00, 22.03it/s]\n",
      "100%|██████████| 1422/1422 [00:12<00:00, 111.87it/s]\n"
     ]
    },
    {
     "name": "stdout",
     "output_type": "stream",
     "text": [
      "Epoch: 0 \tTraining Loss: 1.278994 \tValidation Loss: 1.250391\n",
      "Accuracy: 0.762207 \tF1: 0.659354 \tF1 Prime: 0.659354\n",
      "Validation loss decreased (inf --> 1.250391). Saving model ...\n"
     ]
    },
    {
     "name": "stderr",
     "output_type": "stream",
     "text": [
      "  9%|▉         | 1006/11161 [00:24<04:02, 41.85it/s]"
     ]
    },
    {
     "name": "stdout",
     "output_type": "stream",
     "text": [
      "Step 1000 \tTraining Loss: 1.283650 \tAccuracy: 0.757500\n"
     ]
    },
    {
     "name": "stderr",
     "output_type": "stream",
     "text": [
      " 18%|█▊        | 2004/11161 [00:50<03:45, 40.58it/s]"
     ]
    },
    {
     "name": "stdout",
     "output_type": "stream",
     "text": [
      "Step 2000 \tTraining Loss: 1.282387 \tAccuracy: 0.758234\n"
     ]
    },
    {
     "name": "stderr",
     "output_type": "stream",
     "text": [
      " 27%|██▋       | 3006/11161 [01:15<03:05, 44.07it/s]"
     ]
    },
    {
     "name": "stdout",
     "output_type": "stream",
     "text": [
      "Step 3000 \tTraining Loss: 1.280278 \tAccuracy: 0.759078\n"
     ]
    },
    {
     "name": "stderr",
     "output_type": "stream",
     "text": [
      " 36%|███▌      | 4004/11161 [01:40<03:48, 31.29it/s]"
     ]
    },
    {
     "name": "stdout",
     "output_type": "stream",
     "text": [
      "Step 4000 \tTraining Loss: 1.281042 \tAccuracy: 0.759094\n"
     ]
    },
    {
     "name": "stderr",
     "output_type": "stream",
     "text": [
      " 45%|████▍     | 5005/11161 [02:04<02:26, 42.09it/s]"
     ]
    },
    {
     "name": "stdout",
     "output_type": "stream",
     "text": [
      "Step 5000 \tTraining Loss: 1.280429 \tAccuracy: 0.759578\n"
     ]
    },
    {
     "name": "stderr",
     "output_type": "stream",
     "text": [
      " 54%|█████▍    | 6008/11161 [02:29<02:02, 42.20it/s]"
     ]
    },
    {
     "name": "stdout",
     "output_type": "stream",
     "text": [
      "Step 6000 \tTraining Loss: 1.277287 \tAccuracy: 0.762062\n"
     ]
    },
    {
     "name": "stderr",
     "output_type": "stream",
     "text": [
      " 63%|██████▎   | 7004/11161 [02:53<01:35, 43.45it/s]"
     ]
    },
    {
     "name": "stdout",
     "output_type": "stream",
     "text": [
      "Step 7000 \tTraining Loss: 1.282777 \tAccuracy: 0.757703\n"
     ]
    },
    {
     "name": "stderr",
     "output_type": "stream",
     "text": [
      " 72%|███████▏  | 8007/11161 [03:19<01:18, 40.16it/s]"
     ]
    },
    {
     "name": "stdout",
     "output_type": "stream",
     "text": [
      "Step 8000 \tTraining Loss: 1.281254 \tAccuracy: 0.758719\n"
     ]
    },
    {
     "name": "stderr",
     "output_type": "stream",
     "text": [
      " 81%|████████  | 9004/11161 [03:47<01:07, 31.74it/s]"
     ]
    },
    {
     "name": "stdout",
     "output_type": "stream",
     "text": [
      "Step 9000 \tTraining Loss: 1.280894 \tAccuracy: 0.759156\n"
     ]
    },
    {
     "name": "stderr",
     "output_type": "stream",
     "text": [
      " 90%|████████▉ | 10004/11161 [04:15<00:34, 33.34it/s]"
     ]
    },
    {
     "name": "stdout",
     "output_type": "stream",
     "text": [
      "Step 10000 \tTraining Loss: 1.280310 \tAccuracy: 0.759750\n"
     ]
    },
    {
     "name": "stderr",
     "output_type": "stream",
     "text": [
      " 99%|█████████▊| 11007/11161 [04:42<00:04, 31.26it/s]"
     ]
    },
    {
     "name": "stdout",
     "output_type": "stream",
     "text": [
      "Step 11000 \tTraining Loss: 1.281579 \tAccuracy: 0.758656\n"
     ]
    },
    {
     "name": "stderr",
     "output_type": "stream",
     "text": [
      "100%|██████████| 11161/11161 [04:46<00:00, 38.97it/s]\n",
      "100%|██████████| 1422/1422 [00:14<00:00, 98.17it/s] \n"
     ]
    },
    {
     "name": "stdout",
     "output_type": "stream",
     "text": [
      "Epoch: 1 \tTraining Loss: 1.281009 \tValidation Loss: 1.248508\n",
      "Accuracy: 0.762207 \tF1: 0.659354 \tF1 Prime: 0.659354\n",
      "Validation loss decreased (1.250391 --> 1.248508). Saving model ...\n"
     ]
    },
    {
     "name": "stderr",
     "output_type": "stream",
     "text": [
      "  9%|▉         | 1009/11161 [00:34<03:51, 43.87it/s]"
     ]
    },
    {
     "name": "stdout",
     "output_type": "stream",
     "text": [
      "Step 1000 \tTraining Loss: 1.281835 \tAccuracy: 0.758781\n"
     ]
    },
    {
     "name": "stderr",
     "output_type": "stream",
     "text": [
      " 18%|█▊        | 2004/11161 [00:59<03:30, 43.50it/s]"
     ]
    },
    {
     "name": "stdout",
     "output_type": "stream",
     "text": [
      "Step 2000 \tTraining Loss: 1.279328 \tAccuracy: 0.760031\n"
     ]
    },
    {
     "name": "stderr",
     "output_type": "stream",
     "text": [
      " 27%|██▋       | 3007/11161 [01:26<03:34, 38.09it/s]"
     ]
    },
    {
     "name": "stdout",
     "output_type": "stream",
     "text": [
      "Step 3000 \tTraining Loss: 1.280649 \tAccuracy: 0.759141\n"
     ]
    },
    {
     "name": "stderr",
     "output_type": "stream",
     "text": [
      " 29%|██▉       | 3276/11161 [01:36<03:51, 34.12it/s]\n"
     ]
    },
    {
     "ename": "KeyboardInterrupt",
     "evalue": "",
     "output_type": "error",
     "traceback": [
      "\u001b[0;31m---------------------------------------------------------------------------\u001b[0m",
      "\u001b[0;31mKeyboardInterrupt\u001b[0m                         Traceback (most recent call last)",
      "\u001b[1;32m/Users/yuandedewei/Desktop/CollegeDocuments/codes/cs224w/project/build_graph.ipynb Cell 24\u001b[0m line \u001b[0;36m5\n\u001b[1;32m      <a href='vscode-notebook-cell:/Users/yuandedewei/Desktop/CollegeDocuments/codes/cs224w/project/build_graph.ipynb#X41sZmlsZQ%3D%3D?line=1'>2</a>\u001b[0m args_at \u001b[39m=\u001b[39m objectview(args_at)\n\u001b[1;32m      <a href='vscode-notebook-cell:/Users/yuandedewei/Desktop/CollegeDocuments/codes/cs224w/project/build_graph.ipynb#X41sZmlsZQ%3D%3D?line=2'>3</a>\u001b[0m args_at\u001b[39m.\u001b[39mmodel_type \u001b[39m=\u001b[39m \u001b[39m'\u001b[39m\u001b[39mGAT\u001b[39m\u001b[39m'\u001b[39m\n\u001b[0;32m----> <a href='vscode-notebook-cell:/Users/yuandedewei/Desktop/CollegeDocuments/codes/cs224w/project/build_graph.ipynb#X41sZmlsZQ%3D%3D?line=4'>5</a>\u001b[0m train(args_at)\n",
      "\u001b[1;32m/Users/yuandedewei/Desktop/CollegeDocuments/codes/cs224w/project/build_graph.ipynb Cell 24\u001b[0m line \u001b[0;36m2\n\u001b[1;32m     <a href='vscode-notebook-cell:/Users/yuandedewei/Desktop/CollegeDocuments/codes/cs224w/project/build_graph.ipynb#X41sZmlsZQ%3D%3D?line=23'>24</a>\u001b[0m data, target \u001b[39m=\u001b[39m data\u001b[39m.\u001b[39mto(device), target\u001b[39m.\u001b[39mto(device)\n\u001b[1;32m     <a href='vscode-notebook-cell:/Users/yuandedewei/Desktop/CollegeDocuments/codes/cs224w/project/build_graph.ipynb#X41sZmlsZQ%3D%3D?line=24'>25</a>\u001b[0m optimizer\u001b[39m.\u001b[39mzero_grad()\n\u001b[0;32m---> <a href='vscode-notebook-cell:/Users/yuandedewei/Desktop/CollegeDocuments/codes/cs224w/project/build_graph.ipynb#X41sZmlsZQ%3D%3D?line=26'>27</a>\u001b[0m output \u001b[39m=\u001b[39m model(data)\n\u001b[1;32m     <a href='vscode-notebook-cell:/Users/yuandedewei/Desktop/CollegeDocuments/codes/cs224w/project/build_graph.ipynb#X41sZmlsZQ%3D%3D?line=27'>28</a>\u001b[0m loss \u001b[39m=\u001b[39m model\u001b[39m.\u001b[39mloss(output, target)\n\u001b[1;32m     <a href='vscode-notebook-cell:/Users/yuandedewei/Desktop/CollegeDocuments/codes/cs224w/project/build_graph.ipynb#X41sZmlsZQ%3D%3D?line=28'>29</a>\u001b[0m loss\u001b[39m.\u001b[39mbackward(retain_graph\u001b[39m=\u001b[39m\u001b[39mTrue\u001b[39;00m)\n",
      "File \u001b[0;32m/opt/anaconda3/lib/python3.8/site-packages/torch/nn/modules/module.py:1130\u001b[0m, in \u001b[0;36mModule._call_impl\u001b[0;34m(self, *input, **kwargs)\u001b[0m\n\u001b[1;32m   1126\u001b[0m \u001b[39m# If we don't have any hooks, we want to skip the rest of the logic in\u001b[39;00m\n\u001b[1;32m   1127\u001b[0m \u001b[39m# this function, and just call forward.\u001b[39;00m\n\u001b[1;32m   1128\u001b[0m \u001b[39mif\u001b[39;00m \u001b[39mnot\u001b[39;00m (\u001b[39mself\u001b[39m\u001b[39m.\u001b[39m_backward_hooks \u001b[39mor\u001b[39;00m \u001b[39mself\u001b[39m\u001b[39m.\u001b[39m_forward_hooks \u001b[39mor\u001b[39;00m \u001b[39mself\u001b[39m\u001b[39m.\u001b[39m_forward_pre_hooks \u001b[39mor\u001b[39;00m _global_backward_hooks\n\u001b[1;32m   1129\u001b[0m         \u001b[39mor\u001b[39;00m _global_forward_hooks \u001b[39mor\u001b[39;00m _global_forward_pre_hooks):\n\u001b[0;32m-> 1130\u001b[0m     \u001b[39mreturn\u001b[39;00m forward_call(\u001b[39m*\u001b[39;49m\u001b[39minput\u001b[39;49m, \u001b[39m*\u001b[39;49m\u001b[39m*\u001b[39;49mkwargs)\n\u001b[1;32m   1131\u001b[0m \u001b[39m# Do not call functions when jit is used\u001b[39;00m\n\u001b[1;32m   1132\u001b[0m full_backward_hooks, non_full_backward_hooks \u001b[39m=\u001b[39m [], []\n",
      "\u001b[1;32m/Users/yuandedewei/Desktop/CollegeDocuments/codes/cs224w/project/build_graph.ipynb Cell 24\u001b[0m line \u001b[0;36m7\n\u001b[1;32m     <a href='vscode-notebook-cell:/Users/yuandedewei/Desktop/CollegeDocuments/codes/cs224w/project/build_graph.ipynb#X41sZmlsZQ%3D%3D?line=73'>74</a>\u001b[0m node_embed \u001b[39m=\u001b[39m \u001b[39mself\u001b[39m\u001b[39m.\u001b[39mnode_embedding(\u001b[39mself\u001b[39m\u001b[39m.\u001b[39mall_node_index)\n\u001b[1;32m     <a href='vscode-notebook-cell:/Users/yuandedewei/Desktop/CollegeDocuments/codes/cs224w/project/build_graph.ipynb#X41sZmlsZQ%3D%3D?line=74'>75</a>\u001b[0m \u001b[39mfor\u001b[39;00m i \u001b[39min\u001b[39;00m \u001b[39mrange\u001b[39m(\u001b[39mself\u001b[39m\u001b[39m.\u001b[39mnum_layers):\n\u001b[1;32m     <a href='vscode-notebook-cell:/Users/yuandedewei/Desktop/CollegeDocuments/codes/cs224w/project/build_graph.ipynb#X41sZmlsZQ%3D%3D?line=75'>76</a>\u001b[0m     \u001b[39m#print(node_embed.shape)\u001b[39;00m\n\u001b[0;32m---> <a href='vscode-notebook-cell:/Users/yuandedewei/Desktop/CollegeDocuments/codes/cs224w/project/build_graph.ipynb#X41sZmlsZQ%3D%3D?line=76'>77</a>\u001b[0m     node_embed \u001b[39m=\u001b[39m \u001b[39mself\u001b[39;49m\u001b[39m.\u001b[39;49mconvs[i](node_embed, edge_index, features \u001b[39m=\u001b[39;49m \u001b[39mself\u001b[39;49m\u001b[39m.\u001b[39;49mall_node_index)\n\u001b[1;32m     <a href='vscode-notebook-cell:/Users/yuandedewei/Desktop/CollegeDocuments/codes/cs224w/project/build_graph.ipynb#X41sZmlsZQ%3D%3D?line=77'>78</a>\u001b[0m     node_embed \u001b[39m=\u001b[39m F\u001b[39m.\u001b[39mrelu(node_embed)\n\u001b[1;32m     <a href='vscode-notebook-cell:/Users/yuandedewei/Desktop/CollegeDocuments/codes/cs224w/project/build_graph.ipynb#X41sZmlsZQ%3D%3D?line=78'>79</a>\u001b[0m     node_embed \u001b[39m=\u001b[39m F\u001b[39m.\u001b[39mdropout(node_embed, p\u001b[39m=\u001b[39m\u001b[39mself\u001b[39m\u001b[39m.\u001b[39mdropout,training\u001b[39m=\u001b[39m\u001b[39mself\u001b[39m\u001b[39m.\u001b[39mtraining)\n",
      "File \u001b[0;32m/opt/anaconda3/lib/python3.8/site-packages/torch/nn/modules/module.py:1130\u001b[0m, in \u001b[0;36mModule._call_impl\u001b[0;34m(self, *input, **kwargs)\u001b[0m\n\u001b[1;32m   1126\u001b[0m \u001b[39m# If we don't have any hooks, we want to skip the rest of the logic in\u001b[39;00m\n\u001b[1;32m   1127\u001b[0m \u001b[39m# this function, and just call forward.\u001b[39;00m\n\u001b[1;32m   1128\u001b[0m \u001b[39mif\u001b[39;00m \u001b[39mnot\u001b[39;00m (\u001b[39mself\u001b[39m\u001b[39m.\u001b[39m_backward_hooks \u001b[39mor\u001b[39;00m \u001b[39mself\u001b[39m\u001b[39m.\u001b[39m_forward_hooks \u001b[39mor\u001b[39;00m \u001b[39mself\u001b[39m\u001b[39m.\u001b[39m_forward_pre_hooks \u001b[39mor\u001b[39;00m _global_backward_hooks\n\u001b[1;32m   1129\u001b[0m         \u001b[39mor\u001b[39;00m _global_forward_hooks \u001b[39mor\u001b[39;00m _global_forward_pre_hooks):\n\u001b[0;32m-> 1130\u001b[0m     \u001b[39mreturn\u001b[39;00m forward_call(\u001b[39m*\u001b[39;49m\u001b[39minput\u001b[39;49m, \u001b[39m*\u001b[39;49m\u001b[39m*\u001b[39;49mkwargs)\n\u001b[1;32m   1131\u001b[0m \u001b[39m# Do not call functions when jit is used\u001b[39;00m\n\u001b[1;32m   1132\u001b[0m full_backward_hooks, non_full_backward_hooks \u001b[39m=\u001b[39m [], []\n",
      "\u001b[1;32m/Users/yuandedewei/Desktop/CollegeDocuments/codes/cs224w/project/build_graph.ipynb Cell 24\u001b[0m line \u001b[0;36m3\n\u001b[1;32m     <a href='vscode-notebook-cell:/Users/yuandedewei/Desktop/CollegeDocuments/codes/cs224w/project/build_graph.ipynb#X41sZmlsZQ%3D%3D?line=28'>29</a>\u001b[0m H, C \u001b[39m=\u001b[39m \u001b[39mself\u001b[39m\u001b[39m.\u001b[39mheads, \u001b[39mself\u001b[39m\u001b[39m.\u001b[39mout_channels\n\u001b[1;32m     <a href='vscode-notebook-cell:/Users/yuandedewei/Desktop/CollegeDocuments/codes/cs224w/project/build_graph.ipynb#X41sZmlsZQ%3D%3D?line=30'>31</a>\u001b[0m N \u001b[39m=\u001b[39m x\u001b[39m.\u001b[39mshape[\u001b[39m0\u001b[39m]\n\u001b[0;32m---> <a href='vscode-notebook-cell:/Users/yuandedewei/Desktop/CollegeDocuments/codes/cs224w/project/build_graph.ipynb#X41sZmlsZQ%3D%3D?line=31'>32</a>\u001b[0m emb_l, emb_r \u001b[39m=\u001b[39m \u001b[39mself\u001b[39;49m\u001b[39m.\u001b[39;49mlin_l(x)\u001b[39m.\u001b[39mreshape(N, H, C), \u001b[39mself\u001b[39m\u001b[39m.\u001b[39mlin_r(x)\u001b[39m.\u001b[39mreshape(N, H, C)  \u001b[39m# shape (N, H*C)\u001b[39;00m\n\u001b[1;32m     <a href='vscode-notebook-cell:/Users/yuandedewei/Desktop/CollegeDocuments/codes/cs224w/project/build_graph.ipynb#X41sZmlsZQ%3D%3D?line=32'>33</a>\u001b[0m alpha_l \u001b[39m=\u001b[39m torch\u001b[39m.\u001b[39mstack([torch\u001b[39m.\u001b[39mmatmul(emb_l[:, i, :], \u001b[39mself\u001b[39m\u001b[39m.\u001b[39matt_l[i, :]) \u001b[39mfor\u001b[39;00m i \u001b[39min\u001b[39;00m \u001b[39mrange\u001b[39m(H)])\u001b[39m.\u001b[39mpermute((\u001b[39m1\u001b[39m, \u001b[39m0\u001b[39m)) \u001b[39m# shape (N, H)\u001b[39;00m\n\u001b[1;32m     <a href='vscode-notebook-cell:/Users/yuandedewei/Desktop/CollegeDocuments/codes/cs224w/project/build_graph.ipynb#X41sZmlsZQ%3D%3D?line=33'>34</a>\u001b[0m alpha_r \u001b[39m=\u001b[39m torch\u001b[39m.\u001b[39mstack([torch\u001b[39m.\u001b[39mmatmul(emb_r[:, i, :], \u001b[39mself\u001b[39m\u001b[39m.\u001b[39matt_r[i, :]) \u001b[39mfor\u001b[39;00m i \u001b[39min\u001b[39;00m \u001b[39mrange\u001b[39m(H)])\u001b[39m.\u001b[39mpermute((\u001b[39m1\u001b[39m, \u001b[39m0\u001b[39m)) \u001b[39m# shape (N, H)\u001b[39;00m\n",
      "File \u001b[0;32m/opt/anaconda3/lib/python3.8/site-packages/torch/nn/modules/module.py:1130\u001b[0m, in \u001b[0;36mModule._call_impl\u001b[0;34m(self, *input, **kwargs)\u001b[0m\n\u001b[1;32m   1126\u001b[0m \u001b[39m# If we don't have any hooks, we want to skip the rest of the logic in\u001b[39;00m\n\u001b[1;32m   1127\u001b[0m \u001b[39m# this function, and just call forward.\u001b[39;00m\n\u001b[1;32m   1128\u001b[0m \u001b[39mif\u001b[39;00m \u001b[39mnot\u001b[39;00m (\u001b[39mself\u001b[39m\u001b[39m.\u001b[39m_backward_hooks \u001b[39mor\u001b[39;00m \u001b[39mself\u001b[39m\u001b[39m.\u001b[39m_forward_hooks \u001b[39mor\u001b[39;00m \u001b[39mself\u001b[39m\u001b[39m.\u001b[39m_forward_pre_hooks \u001b[39mor\u001b[39;00m _global_backward_hooks\n\u001b[1;32m   1129\u001b[0m         \u001b[39mor\u001b[39;00m _global_forward_hooks \u001b[39mor\u001b[39;00m _global_forward_pre_hooks):\n\u001b[0;32m-> 1130\u001b[0m     \u001b[39mreturn\u001b[39;00m forward_call(\u001b[39m*\u001b[39;49m\u001b[39minput\u001b[39;49m, \u001b[39m*\u001b[39;49m\u001b[39m*\u001b[39;49mkwargs)\n\u001b[1;32m   1131\u001b[0m \u001b[39m# Do not call functions when jit is used\u001b[39;00m\n\u001b[1;32m   1132\u001b[0m full_backward_hooks, non_full_backward_hooks \u001b[39m=\u001b[39m [], []\n",
      "File \u001b[0;32m/opt/anaconda3/lib/python3.8/site-packages/torch/nn/modules/linear.py:114\u001b[0m, in \u001b[0;36mLinear.forward\u001b[0;34m(self, input)\u001b[0m\n\u001b[1;32m    113\u001b[0m \u001b[39mdef\u001b[39;00m \u001b[39mforward\u001b[39m(\u001b[39mself\u001b[39m, \u001b[39minput\u001b[39m: Tensor) \u001b[39m-\u001b[39m\u001b[39m>\u001b[39m Tensor:\n\u001b[0;32m--> 114\u001b[0m     \u001b[39mreturn\u001b[39;00m F\u001b[39m.\u001b[39;49mlinear(\u001b[39minput\u001b[39;49m, \u001b[39mself\u001b[39;49m\u001b[39m.\u001b[39;49mweight, \u001b[39mself\u001b[39;49m\u001b[39m.\u001b[39;49mbias)\n",
      "\u001b[0;31mKeyboardInterrupt\u001b[0m: "
     ]
    }
   ],
   "source": [
    "args_at = {'num_layers': 1, 'heads': 2, 'hidden_dim': 384, 'dropout': 0.0, 'epochs': 10, 'opt': 'adam', 'opt_scheduler': 'none', 'opt_restart': 0, 'weight_decay': 5e-3, 'lr': 0.0005}\n",
    "args_at = objectview(args_at)\n",
    "args_at.model_type = 'GAT'\n",
    "\n",
    "train(args_at)"
   ]
  },
  {
   "cell_type": "code",
   "execution_count": 266,
   "metadata": {},
   "outputs": [
    {
     "name": "stderr",
     "output_type": "stream",
     "text": [
      "  9%|▉         | 1009/11161 [00:15<02:44, 61.84it/s]"
     ]
    },
    {
     "name": "stdout",
     "output_type": "stream",
     "text": [
      "Step 1000 \tTraining Loss: 1.281779 \tAccuracy: 0.759781\n"
     ]
    },
    {
     "name": "stderr",
     "output_type": "stream",
     "text": [
      " 18%|█▊        | 2003/11161 [00:41<05:35, 27.26it/s]"
     ]
    },
    {
     "name": "stdout",
     "output_type": "stream",
     "text": [
      "Step 2000 \tTraining Loss: 1.272378 \tAccuracy: 0.760000\n"
     ]
    },
    {
     "name": "stderr",
     "output_type": "stream",
     "text": [
      " 27%|██▋       | 3002/11161 [01:23<05:28, 24.84it/s]"
     ]
    },
    {
     "name": "stdout",
     "output_type": "stream",
     "text": [
      "Step 3000 \tTraining Loss: 1.251502 \tAccuracy: 0.760312\n"
     ]
    },
    {
     "name": "stderr",
     "output_type": "stream",
     "text": [
      " 36%|███▌      | 4008/11161 [01:57<02:54, 41.05it/s]"
     ]
    },
    {
     "name": "stdout",
     "output_type": "stream",
     "text": [
      "Step 4000 \tTraining Loss: 1.251127 \tAccuracy: 0.748000\n"
     ]
    },
    {
     "name": "stderr",
     "output_type": "stream",
     "text": [
      " 45%|████▍     | 5004/11161 [02:39<02:32, 40.33it/s]"
     ]
    },
    {
     "name": "stdout",
     "output_type": "stream",
     "text": [
      "Step 5000 \tTraining Loss: 1.247192 \tAccuracy: 0.746219\n"
     ]
    },
    {
     "name": "stderr",
     "output_type": "stream",
     "text": [
      " 54%|█████▍    | 6005/11161 [03:07<01:46, 48.59it/s]"
     ]
    },
    {
     "name": "stdout",
     "output_type": "stream",
     "text": [
      "Step 6000 \tTraining Loss: 1.233743 \tAccuracy: 0.737922\n"
     ]
    },
    {
     "name": "stderr",
     "output_type": "stream",
     "text": [
      " 63%|██████▎   | 7007/11161 [03:37<02:06, 32.85it/s]"
     ]
    },
    {
     "name": "stdout",
     "output_type": "stream",
     "text": [
      "Step 7000 \tTraining Loss: 1.217745 \tAccuracy: 0.742172\n"
     ]
    },
    {
     "name": "stderr",
     "output_type": "stream",
     "text": [
      " 72%|███████▏  | 8008/11161 [04:06<01:19, 39.46it/s]"
     ]
    },
    {
     "name": "stdout",
     "output_type": "stream",
     "text": [
      "Step 8000 \tTraining Loss: 1.209213 \tAccuracy: 0.735328\n"
     ]
    },
    {
     "name": "stderr",
     "output_type": "stream",
     "text": [
      " 81%|████████  | 9009/11161 [04:30<00:56, 38.40it/s]"
     ]
    },
    {
     "name": "stdout",
     "output_type": "stream",
     "text": [
      "Step 9000 \tTraining Loss: 1.209231 \tAccuracy: 0.730484\n"
     ]
    },
    {
     "name": "stderr",
     "output_type": "stream",
     "text": [
      " 90%|████████▉ | 10008/11161 [05:00<00:30, 38.14it/s]"
     ]
    },
    {
     "name": "stdout",
     "output_type": "stream",
     "text": [
      "Step 10000 \tTraining Loss: 1.193422 \tAccuracy: 0.735234\n"
     ]
    },
    {
     "name": "stderr",
     "output_type": "stream",
     "text": [
      " 99%|█████████▊| 11001/11161 [05:41<00:11, 13.95it/s]"
     ]
    },
    {
     "name": "stdout",
     "output_type": "stream",
     "text": [
      "Step 11000 \tTraining Loss: 1.193188 \tAccuracy: 0.725594\n"
     ]
    },
    {
     "name": "stderr",
     "output_type": "stream",
     "text": [
      "100%|██████████| 11161/11161 [05:47<00:00, 32.14it/s]\n",
      "100%|██████████| 1422/1422 [00:20<00:00, 70.04it/s] \n"
     ]
    },
    {
     "name": "stdout",
     "output_type": "stream",
     "text": [
      "Epoch: 0 \tTraining Loss: 1.232034 \tValidation Loss: 1.162574\n",
      "Accuracy: 0.714973 \tF1: 0.693155 \tF1 Prime: 0.659354\n",
      "Validation loss decreased (inf --> 1.162574). Saving model ...\n"
     ]
    },
    {
     "name": "stderr",
     "output_type": "stream",
     "text": [
      "  7%|▋         | 824/11161 [00:22<04:43, 36.48it/s]\n"
     ]
    },
    {
     "ename": "KeyboardInterrupt",
     "evalue": "",
     "output_type": "error",
     "traceback": [
      "\u001b[0;31m---------------------------------------------------------------------------\u001b[0m",
      "\u001b[0;31mKeyboardInterrupt\u001b[0m                         Traceback (most recent call last)",
      "\u001b[1;32m/Users/yuandedewei/Desktop/CollegeDocuments/codes/cs224w/project/build_graph.ipynb Cell 24\u001b[0m line \u001b[0;36m2\n\u001b[1;32m      <a href='vscode-notebook-cell:/Users/yuandedewei/Desktop/CollegeDocuments/codes/cs224w/project/build_graph.ipynb#X36sZmlsZQ%3D%3D?line=0'>1</a>\u001b[0m args\u001b[39m.\u001b[39mmodel_type \u001b[39m=\u001b[39m \u001b[39m'\u001b[39m\u001b[39mGraphSage\u001b[39m\u001b[39m'\u001b[39m\n\u001b[0;32m----> <a href='vscode-notebook-cell:/Users/yuandedewei/Desktop/CollegeDocuments/codes/cs224w/project/build_graph.ipynb#X36sZmlsZQ%3D%3D?line=1'>2</a>\u001b[0m train(args)\n",
      "\u001b[1;32m/Users/yuandedewei/Desktop/CollegeDocuments/codes/cs224w/project/build_graph.ipynb Cell 24\u001b[0m line \u001b[0;36m2\n\u001b[1;32m     <a href='vscode-notebook-cell:/Users/yuandedewei/Desktop/CollegeDocuments/codes/cs224w/project/build_graph.ipynb#X36sZmlsZQ%3D%3D?line=26'>27</a>\u001b[0m output \u001b[39m=\u001b[39m model(data)\n\u001b[1;32m     <a href='vscode-notebook-cell:/Users/yuandedewei/Desktop/CollegeDocuments/codes/cs224w/project/build_graph.ipynb#X36sZmlsZQ%3D%3D?line=27'>28</a>\u001b[0m loss \u001b[39m=\u001b[39m model\u001b[39m.\u001b[39mloss(output, target)\n\u001b[0;32m---> <a href='vscode-notebook-cell:/Users/yuandedewei/Desktop/CollegeDocuments/codes/cs224w/project/build_graph.ipynb#X36sZmlsZQ%3D%3D?line=28'>29</a>\u001b[0m loss\u001b[39m.\u001b[39;49mbackward(retain_graph\u001b[39m=\u001b[39;49m\u001b[39mTrue\u001b[39;49;00m)\n\u001b[1;32m     <a href='vscode-notebook-cell:/Users/yuandedewei/Desktop/CollegeDocuments/codes/cs224w/project/build_graph.ipynb#X36sZmlsZQ%3D%3D?line=29'>30</a>\u001b[0m optimizer\u001b[39m.\u001b[39mstep()\n\u001b[1;32m     <a href='vscode-notebook-cell:/Users/yuandedewei/Desktop/CollegeDocuments/codes/cs224w/project/build_graph.ipynb#X36sZmlsZQ%3D%3D?line=31'>32</a>\u001b[0m train_loss \u001b[39m+\u001b[39m\u001b[39m=\u001b[39m loss\u001b[39m.\u001b[39mitem() \u001b[39m*\u001b[39m data\u001b[39m.\u001b[39msize(\u001b[39m0\u001b[39m)\n",
      "File \u001b[0;32m/opt/anaconda3/lib/python3.8/site-packages/torch/_tensor.py:396\u001b[0m, in \u001b[0;36mTensor.backward\u001b[0;34m(self, gradient, retain_graph, create_graph, inputs)\u001b[0m\n\u001b[1;32m    387\u001b[0m \u001b[39mif\u001b[39;00m has_torch_function_unary(\u001b[39mself\u001b[39m):\n\u001b[1;32m    388\u001b[0m     \u001b[39mreturn\u001b[39;00m handle_torch_function(\n\u001b[1;32m    389\u001b[0m         Tensor\u001b[39m.\u001b[39mbackward,\n\u001b[1;32m    390\u001b[0m         (\u001b[39mself\u001b[39m,),\n\u001b[0;32m   (...)\u001b[0m\n\u001b[1;32m    394\u001b[0m         create_graph\u001b[39m=\u001b[39mcreate_graph,\n\u001b[1;32m    395\u001b[0m         inputs\u001b[39m=\u001b[39minputs)\n\u001b[0;32m--> 396\u001b[0m torch\u001b[39m.\u001b[39;49mautograd\u001b[39m.\u001b[39;49mbackward(\u001b[39mself\u001b[39;49m, gradient, retain_graph, create_graph, inputs\u001b[39m=\u001b[39;49minputs)\n",
      "File \u001b[0;32m/opt/anaconda3/lib/python3.8/site-packages/torch/autograd/__init__.py:173\u001b[0m, in \u001b[0;36mbackward\u001b[0;34m(tensors, grad_tensors, retain_graph, create_graph, grad_variables, inputs)\u001b[0m\n\u001b[1;32m    168\u001b[0m     retain_graph \u001b[39m=\u001b[39m create_graph\n\u001b[1;32m    170\u001b[0m \u001b[39m# The reason we repeat same the comment below is that\u001b[39;00m\n\u001b[1;32m    171\u001b[0m \u001b[39m# some Python versions print out the first line of a multi-line function\u001b[39;00m\n\u001b[1;32m    172\u001b[0m \u001b[39m# calls in the traceback and some print out the last line\u001b[39;00m\n\u001b[0;32m--> 173\u001b[0m Variable\u001b[39m.\u001b[39;49m_execution_engine\u001b[39m.\u001b[39;49mrun_backward(  \u001b[39m# Calls into the C++ engine to run the backward pass\u001b[39;49;00m\n\u001b[1;32m    174\u001b[0m     tensors, grad_tensors_, retain_graph, create_graph, inputs,\n\u001b[1;32m    175\u001b[0m     allow_unreachable\u001b[39m=\u001b[39;49m\u001b[39mTrue\u001b[39;49;00m, accumulate_grad\u001b[39m=\u001b[39;49m\u001b[39mTrue\u001b[39;49;00m)\n",
      "\u001b[0;31mKeyboardInterrupt\u001b[0m: "
     ]
    }
   ],
   "source": [
    "args.model_type = 'GraphSage'\n",
    "train(args)"
   ]
  },
  {
   "cell_type": "code",
   "execution_count": 259,
   "metadata": {},
   "outputs": [
    {
     "name": "stderr",
     "output_type": "stream",
     "text": [
      "  9%|▉         | 1013/11161 [00:10<01:45, 96.16it/s]"
     ]
    },
    {
     "name": "stdout",
     "output_type": "stream",
     "text": [
      "Step 1000 \tTraining Loss: 1.282469 \tAccuracy: 0.760500\n"
     ]
    },
    {
     "name": "stderr",
     "output_type": "stream",
     "text": [
      " 18%|█▊        | 2004/11161 [00:30<04:09, 36.65it/s]"
     ]
    },
    {
     "name": "stdout",
     "output_type": "stream",
     "text": [
      "Step 2000 \tTraining Loss: 1.274122 \tAccuracy: 0.760609\n"
     ]
    },
    {
     "name": "stderr",
     "output_type": "stream",
     "text": [
      " 27%|██▋       | 3005/11161 [01:02<03:36, 37.69it/s]"
     ]
    },
    {
     "name": "stdout",
     "output_type": "stream",
     "text": [
      "Step 3000 \tTraining Loss: 1.253151 \tAccuracy: 0.758578\n"
     ]
    },
    {
     "name": "stderr",
     "output_type": "stream",
     "text": [
      " 36%|███▌      | 4008/11161 [01:23<02:00, 59.23it/s]"
     ]
    },
    {
     "name": "stdout",
     "output_type": "stream",
     "text": [
      "Step 4000 \tTraining Loss: 1.247308 \tAccuracy: 0.749406\n"
     ]
    },
    {
     "name": "stderr",
     "output_type": "stream",
     "text": [
      " 45%|████▍     | 5007/11161 [01:40<02:01, 50.65it/s]"
     ]
    },
    {
     "name": "stdout",
     "output_type": "stream",
     "text": [
      "Step 5000 \tTraining Loss: 1.246417 \tAccuracy: 0.745703\n"
     ]
    },
    {
     "name": "stderr",
     "output_type": "stream",
     "text": [
      " 54%|█████▍    | 6009/11161 [01:58<01:39, 51.60it/s]"
     ]
    },
    {
     "name": "stdout",
     "output_type": "stream",
     "text": [
      "Step 6000 \tTraining Loss: 1.237424 \tAccuracy: 0.739219\n"
     ]
    },
    {
     "name": "stderr",
     "output_type": "stream",
     "text": [
      " 63%|██████▎   | 7006/11161 [02:16<01:10, 59.16it/s]"
     ]
    },
    {
     "name": "stdout",
     "output_type": "stream",
     "text": [
      "Step 7000 \tTraining Loss: 1.217543 \tAccuracy: 0.736031\n"
     ]
    },
    {
     "name": "stderr",
     "output_type": "stream",
     "text": [
      " 72%|███████▏  | 8012/11161 [02:33<00:52, 59.68it/s]"
     ]
    },
    {
     "name": "stdout",
     "output_type": "stream",
     "text": [
      "Step 8000 \tTraining Loss: 1.218928 \tAccuracy: 0.738344\n"
     ]
    },
    {
     "name": "stderr",
     "output_type": "stream",
     "text": [
      " 81%|████████  | 9006/11161 [02:50<00:36, 58.27it/s]"
     ]
    },
    {
     "name": "stdout",
     "output_type": "stream",
     "text": [
      "Step 9000 \tTraining Loss: 1.208859 \tAccuracy: 0.737563\n"
     ]
    },
    {
     "name": "stderr",
     "output_type": "stream",
     "text": [
      " 90%|████████▉ | 10009/11161 [03:09<00:20, 57.35it/s]"
     ]
    },
    {
     "name": "stdout",
     "output_type": "stream",
     "text": [
      "Step 10000 \tTraining Loss: 1.206639 \tAccuracy: 0.734484\n"
     ]
    },
    {
     "name": "stderr",
     "output_type": "stream",
     "text": [
      " 99%|█████████▊| 11011/11161 [03:26<00:02, 63.54it/s]"
     ]
    },
    {
     "name": "stdout",
     "output_type": "stream",
     "text": [
      "Step 11000 \tTraining Loss: 1.204563 \tAccuracy: 0.729578\n"
     ]
    },
    {
     "name": "stderr",
     "output_type": "stream",
     "text": [
      "100%|██████████| 11161/11161 [03:29<00:00, 53.33it/s]\n",
      "100%|██████████| 1422/1422 [00:08<00:00, 162.13it/s]\n"
     ]
    },
    {
     "name": "stdout",
     "output_type": "stream",
     "text": [
      "Epoch: 0 \tTraining Loss: 1.235645 \tValidation Loss: 1.171557\n",
      "Accuracy: 0.738106 \tF1: 0.700141 \tF1 Prime: 0.659354\n",
      "Validation loss decreased (inf --> 1.171557). Saving model ...\n"
     ]
    },
    {
     "name": "stderr",
     "output_type": "stream",
     "text": [
      "  9%|▉         | 1010/11161 [00:18<02:48, 60.41it/s]"
     ]
    },
    {
     "name": "stdout",
     "output_type": "stream",
     "text": [
      "Step 1000 \tTraining Loss: 1.202769 \tAccuracy: 0.728906\n"
     ]
    },
    {
     "name": "stderr",
     "output_type": "stream",
     "text": [
      " 18%|█▊        | 2006/11161 [00:34<02:27, 61.98it/s]"
     ]
    },
    {
     "name": "stdout",
     "output_type": "stream",
     "text": [
      "Step 2000 \tTraining Loss: 1.190578 \tAccuracy: 0.733406\n"
     ]
    },
    {
     "name": "stderr",
     "output_type": "stream",
     "text": [
      " 27%|██▋       | 3012/11161 [00:51<02:09, 62.86it/s]"
     ]
    },
    {
     "name": "stdout",
     "output_type": "stream",
     "text": [
      "Step 3000 \tTraining Loss: 1.192880 \tAccuracy: 0.724578\n"
     ]
    },
    {
     "name": "stderr",
     "output_type": "stream",
     "text": [
      " 36%|███▌      | 4009/11161 [01:07<01:54, 62.26it/s]"
     ]
    },
    {
     "name": "stdout",
     "output_type": "stream",
     "text": [
      "Step 4000 \tTraining Loss: 1.192809 \tAccuracy: 0.716609\n"
     ]
    },
    {
     "name": "stderr",
     "output_type": "stream",
     "text": [
      " 45%|████▍     | 5006/11161 [01:24<01:46, 57.63it/s]"
     ]
    },
    {
     "name": "stdout",
     "output_type": "stream",
     "text": [
      "Step 5000 \tTraining Loss: 1.189781 \tAccuracy: 0.720953\n"
     ]
    },
    {
     "name": "stderr",
     "output_type": "stream",
     "text": [
      " 54%|█████▍    | 6012/11161 [01:42<01:08, 75.52it/s]"
     ]
    },
    {
     "name": "stdout",
     "output_type": "stream",
     "text": [
      "Step 6000 \tTraining Loss: 1.189816 \tAccuracy: 0.721266\n"
     ]
    },
    {
     "name": "stderr",
     "output_type": "stream",
     "text": [
      " 63%|██████▎   | 7013/11161 [01:59<00:55, 74.35it/s]"
     ]
    },
    {
     "name": "stdout",
     "output_type": "stream",
     "text": [
      "Step 7000 \tTraining Loss: 1.187092 \tAccuracy: 0.726484\n"
     ]
    },
    {
     "name": "stderr",
     "output_type": "stream",
     "text": [
      " 72%|███████▏  | 8006/11161 [02:13<00:52, 59.95it/s]"
     ]
    },
    {
     "name": "stdout",
     "output_type": "stream",
     "text": [
      "Step 8000 \tTraining Loss: 1.186902 \tAccuracy: 0.728531\n"
     ]
    },
    {
     "name": "stderr",
     "output_type": "stream",
     "text": [
      " 81%|████████  | 9011/11161 [02:26<00:28, 76.36it/s]"
     ]
    },
    {
     "name": "stdout",
     "output_type": "stream",
     "text": [
      "Step 9000 \tTraining Loss: 1.188318 \tAccuracy: 0.727094\n"
     ]
    },
    {
     "name": "stderr",
     "output_type": "stream",
     "text": [
      " 90%|████████▉ | 10012/11161 [02:40<00:15, 73.53it/s]"
     ]
    },
    {
     "name": "stdout",
     "output_type": "stream",
     "text": [
      "Step 10000 \tTraining Loss: 1.182163 \tAccuracy: 0.730578\n"
     ]
    },
    {
     "name": "stderr",
     "output_type": "stream",
     "text": [
      " 99%|█████████▊| 11014/11161 [02:53<00:01, 83.59it/s]"
     ]
    },
    {
     "name": "stdout",
     "output_type": "stream",
     "text": [
      "Step 11000 \tTraining Loss: 1.186051 \tAccuracy: 0.725891\n"
     ]
    },
    {
     "name": "stderr",
     "output_type": "stream",
     "text": [
      "100%|██████████| 11161/11161 [02:55<00:00, 63.73it/s]\n",
      "100%|██████████| 1422/1422 [00:06<00:00, 207.31it/s]\n"
     ]
    },
    {
     "name": "stdout",
     "output_type": "stream",
     "text": [
      "Epoch: 1 \tTraining Loss: 1.190010 \tValidation Loss: 1.167816\n",
      "Accuracy: 0.724150 \tF1: 0.693925 \tF1 Prime: 0.659354\n",
      "Validation loss decreased (1.171557 --> 1.167816). Saving model ...\n"
     ]
    },
    {
     "name": "stderr",
     "output_type": "stream",
     "text": [
      "  9%|▉         | 1013/11161 [00:11<02:04, 81.55it/s]"
     ]
    },
    {
     "name": "stdout",
     "output_type": "stream",
     "text": [
      "Step 1000 \tTraining Loss: 1.192655 \tAccuracy: 0.715750\n"
     ]
    },
    {
     "name": "stderr",
     "output_type": "stream",
     "text": [
      " 18%|█▊        | 2009/11161 [00:24<02:19, 65.57it/s]"
     ]
    },
    {
     "name": "stdout",
     "output_type": "stream",
     "text": [
      "Step 2000 \tTraining Loss: 1.189734 \tAccuracy: 0.715984\n"
     ]
    },
    {
     "name": "stderr",
     "output_type": "stream",
     "text": [
      " 27%|██▋       | 3015/11161 [00:36<01:44, 77.86it/s]"
     ]
    },
    {
     "name": "stdout",
     "output_type": "stream",
     "text": [
      "Step 3000 \tTraining Loss: 1.183124 \tAccuracy: 0.717172\n"
     ]
    },
    {
     "name": "stderr",
     "output_type": "stream",
     "text": [
      " 36%|███▌      | 4008/11161 [00:49<01:35, 75.06it/s]"
     ]
    },
    {
     "name": "stdout",
     "output_type": "stream",
     "text": [
      "Step 4000 \tTraining Loss: 1.183307 \tAccuracy: 0.713875\n"
     ]
    },
    {
     "name": "stderr",
     "output_type": "stream",
     "text": [
      " 45%|████▍     | 5014/11161 [01:03<01:33, 65.55it/s]"
     ]
    },
    {
     "name": "stdout",
     "output_type": "stream",
     "text": [
      "Step 5000 \tTraining Loss: 1.186737 \tAccuracy: 0.716125\n"
     ]
    },
    {
     "name": "stderr",
     "output_type": "stream",
     "text": [
      " 54%|█████▍    | 6017/11161 [01:15<00:56, 91.64it/s]"
     ]
    },
    {
     "name": "stdout",
     "output_type": "stream",
     "text": [
      "Step 6000 \tTraining Loss: 1.185474 \tAccuracy: 0.720328\n"
     ]
    },
    {
     "name": "stderr",
     "output_type": "stream",
     "text": [
      " 63%|██████▎   | 7016/11161 [01:27<00:47, 88.17it/s]"
     ]
    },
    {
     "name": "stdout",
     "output_type": "stream",
     "text": [
      "Step 7000 \tTraining Loss: 1.182439 \tAccuracy: 0.720313\n"
     ]
    },
    {
     "name": "stderr",
     "output_type": "stream",
     "text": [
      " 72%|███████▏  | 8016/11161 [01:38<00:30, 102.23it/s]"
     ]
    },
    {
     "name": "stdout",
     "output_type": "stream",
     "text": [
      "Step 8000 \tTraining Loss: 1.182438 \tAccuracy: 0.723797\n"
     ]
    },
    {
     "name": "stderr",
     "output_type": "stream",
     "text": [
      " 81%|████████  | 9014/11161 [01:49<00:25, 84.93it/s] "
     ]
    },
    {
     "name": "stdout",
     "output_type": "stream",
     "text": [
      "Step 9000 \tTraining Loss: 1.185067 \tAccuracy: 0.729531\n"
     ]
    },
    {
     "name": "stderr",
     "output_type": "stream",
     "text": [
      " 90%|████████▉ | 10009/11161 [02:02<00:15, 73.19it/s]"
     ]
    },
    {
     "name": "stdout",
     "output_type": "stream",
     "text": [
      "Step 10000 \tTraining Loss: 1.186228 \tAccuracy: 0.720375\n"
     ]
    },
    {
     "name": "stderr",
     "output_type": "stream",
     "text": [
      " 99%|█████████▊| 11012/11161 [02:16<00:02, 71.03it/s]"
     ]
    },
    {
     "name": "stdout",
     "output_type": "stream",
     "text": [
      "Step 11000 \tTraining Loss: 1.181682 \tAccuracy: 0.709625\n"
     ]
    },
    {
     "name": "stderr",
     "output_type": "stream",
     "text": [
      "100%|██████████| 11161/11161 [02:18<00:00, 80.53it/s]\n",
      "100%|██████████| 1422/1422 [00:08<00:00, 159.98it/s]\n"
     ]
    },
    {
     "name": "stdout",
     "output_type": "stream",
     "text": [
      "Epoch: 2 \tTraining Loss: 1.185293 \tValidation Loss: 1.161086\n",
      "Accuracy: 0.700489 \tF1: 0.683604 \tF1 Prime: 0.659354\n",
      "Validation loss decreased (1.167816 --> 1.161086). Saving model ...\n"
     ]
    },
    {
     "name": "stderr",
     "output_type": "stream",
     "text": [
      "  9%|▉         | 1010/11161 [00:14<02:05, 81.14it/s]"
     ]
    },
    {
     "name": "stdout",
     "output_type": "stream",
     "text": [
      "Step 1000 \tTraining Loss: 1.181939 \tAccuracy: 0.714891\n"
     ]
    },
    {
     "name": "stderr",
     "output_type": "stream",
     "text": [
      " 18%|█▊        | 2015/11161 [00:25<01:37, 93.57it/s]"
     ]
    },
    {
     "name": "stdout",
     "output_type": "stream",
     "text": [
      "Step 2000 \tTraining Loss: 1.188717 \tAccuracy: 0.706734\n"
     ]
    },
    {
     "name": "stderr",
     "output_type": "stream",
     "text": [
      " 27%|██▋       | 3013/11161 [00:37<01:29, 90.77it/s]"
     ]
    },
    {
     "name": "stdout",
     "output_type": "stream",
     "text": [
      "Step 3000 \tTraining Loss: 1.180297 \tAccuracy: 0.715953\n"
     ]
    },
    {
     "name": "stderr",
     "output_type": "stream",
     "text": [
      " 36%|███▌      | 4012/11161 [00:48<01:24, 84.93it/s]"
     ]
    },
    {
     "name": "stdout",
     "output_type": "stream",
     "text": [
      "Step 4000 \tTraining Loss: 1.180130 \tAccuracy: 0.718953\n"
     ]
    },
    {
     "name": "stderr",
     "output_type": "stream",
     "text": [
      " 45%|████▍     | 5014/11161 [01:00<01:05, 94.40it/s]"
     ]
    },
    {
     "name": "stdout",
     "output_type": "stream",
     "text": [
      "Step 5000 \tTraining Loss: 1.183743 \tAccuracy: 0.716109\n"
     ]
    },
    {
     "name": "stderr",
     "output_type": "stream",
     "text": [
      " 54%|█████▍    | 6011/11161 [01:11<00:54, 94.78it/s] "
     ]
    },
    {
     "name": "stdout",
     "output_type": "stream",
     "text": [
      "Step 6000 \tTraining Loss: 1.178737 \tAccuracy: 0.718109\n"
     ]
    },
    {
     "name": "stderr",
     "output_type": "stream",
     "text": [
      " 63%|██████▎   | 7010/11161 [01:21<00:42, 97.92it/s] "
     ]
    },
    {
     "name": "stdout",
     "output_type": "stream",
     "text": [
      "Step 7000 \tTraining Loss: 1.177287 \tAccuracy: 0.727391\n"
     ]
    },
    {
     "name": "stderr",
     "output_type": "stream",
     "text": [
      " 72%|███████▏  | 8010/11161 [01:33<00:37, 84.07it/s]"
     ]
    },
    {
     "name": "stdout",
     "output_type": "stream",
     "text": [
      "Step 8000 \tTraining Loss: 1.183607 \tAccuracy: 0.715812\n"
     ]
    },
    {
     "name": "stderr",
     "output_type": "stream",
     "text": [
      " 81%|████████  | 9015/11161 [01:44<00:24, 87.98it/s]"
     ]
    },
    {
     "name": "stdout",
     "output_type": "stream",
     "text": [
      "Step 9000 \tTraining Loss: 1.183648 \tAccuracy: 0.720672\n"
     ]
    },
    {
     "name": "stderr",
     "output_type": "stream",
     "text": [
      " 90%|████████▉ | 10016/11161 [01:56<00:13, 85.61it/s]"
     ]
    },
    {
     "name": "stdout",
     "output_type": "stream",
     "text": [
      "Step 10000 \tTraining Loss: 1.179533 \tAccuracy: 0.727125\n"
     ]
    },
    {
     "name": "stderr",
     "output_type": "stream",
     "text": [
      " 99%|█████████▊| 11017/11161 [02:07<00:01, 93.40it/s]"
     ]
    },
    {
     "name": "stdout",
     "output_type": "stream",
     "text": [
      "Step 11000 \tTraining Loss: 1.184792 \tAccuracy: 0.716000\n"
     ]
    },
    {
     "name": "stderr",
     "output_type": "stream",
     "text": [
      "100%|██████████| 11161/11161 [02:09<00:00, 86.09it/s]\n",
      "100%|██████████| 1422/1422 [00:05<00:00, 260.54it/s]\n"
     ]
    },
    {
     "name": "stdout",
     "output_type": "stream",
     "text": [
      "Epoch: 3 \tTraining Loss: 1.182034 \tValidation Loss: 1.157647\n",
      "Accuracy: 0.720710 \tF1: 0.695225 \tF1 Prime: 0.659354\n",
      "Validation loss decreased (1.161086 --> 1.157647). Saving model ...\n"
     ]
    },
    {
     "name": "stderr",
     "output_type": "stream",
     "text": [
      "  9%|▉         | 1015/11161 [00:11<01:44, 97.32it/s]"
     ]
    },
    {
     "name": "stdout",
     "output_type": "stream",
     "text": [
      "Step 1000 \tTraining Loss: 1.179902 \tAccuracy: 0.721562\n"
     ]
    },
    {
     "name": "stderr",
     "output_type": "stream",
     "text": [
      " 18%|█▊        | 2012/11161 [00:21<01:38, 93.28it/s] "
     ]
    },
    {
     "name": "stdout",
     "output_type": "stream",
     "text": [
      "Step 2000 \tTraining Loss: 1.180462 \tAccuracy: 0.718375\n"
     ]
    },
    {
     "name": "stderr",
     "output_type": "stream",
     "text": [
      " 27%|██▋       | 3006/11161 [00:32<01:58, 68.71it/s] "
     ]
    },
    {
     "name": "stdout",
     "output_type": "stream",
     "text": [
      "Step 3000 \tTraining Loss: 1.180028 \tAccuracy: 0.721359\n"
     ]
    },
    {
     "name": "stderr",
     "output_type": "stream",
     "text": [
      " 36%|███▌      | 4011/11161 [00:45<01:32, 76.89it/s]"
     ]
    },
    {
     "name": "stdout",
     "output_type": "stream",
     "text": [
      "Step 4000 \tTraining Loss: 1.183298 \tAccuracy: 0.723359\n"
     ]
    },
    {
     "name": "stderr",
     "output_type": "stream",
     "text": [
      " 45%|████▍     | 5013/11161 [00:58<01:04, 95.06it/s]"
     ]
    },
    {
     "name": "stdout",
     "output_type": "stream",
     "text": [
      "Step 5000 \tTraining Loss: 1.186312 \tAccuracy: 0.719891\n"
     ]
    },
    {
     "name": "stderr",
     "output_type": "stream",
     "text": [
      " 46%|████▌     | 5085/11161 [00:59<01:10, 85.70it/s]\n"
     ]
    },
    {
     "ename": "KeyboardInterrupt",
     "evalue": "",
     "output_type": "error",
     "traceback": [
      "\u001b[0;31m---------------------------------------------------------------------------\u001b[0m",
      "\u001b[0;31mKeyboardInterrupt\u001b[0m                         Traceback (most recent call last)",
      "\u001b[1;32m/Users/yuandedewei/Desktop/CollegeDocuments/codes/cs224w/project/build_graph.ipynb Cell 24\u001b[0m line \u001b[0;36m2\n\u001b[1;32m      <a href='vscode-notebook-cell:/Users/yuandedewei/Desktop/CollegeDocuments/codes/cs224w/project/build_graph.ipynb#X30sZmlsZQ%3D%3D?line=0'>1</a>\u001b[0m args\u001b[39m.\u001b[39mmodel_type \u001b[39m=\u001b[39m \u001b[39m'\u001b[39m\u001b[39mGraphSageHetero\u001b[39m\u001b[39m'\u001b[39m\n\u001b[0;32m----> <a href='vscode-notebook-cell:/Users/yuandedewei/Desktop/CollegeDocuments/codes/cs224w/project/build_graph.ipynb#X30sZmlsZQ%3D%3D?line=1'>2</a>\u001b[0m train(args)\n",
      "\u001b[1;32m/Users/yuandedewei/Desktop/CollegeDocuments/codes/cs224w/project/build_graph.ipynb Cell 24\u001b[0m line \u001b[0;36m2\n\u001b[1;32m     <a href='vscode-notebook-cell:/Users/yuandedewei/Desktop/CollegeDocuments/codes/cs224w/project/build_graph.ipynb#X30sZmlsZQ%3D%3D?line=20'>21</a>\u001b[0m total \u001b[39m=\u001b[39m \u001b[39m0\u001b[39m\n\u001b[1;32m     <a href='vscode-notebook-cell:/Users/yuandedewei/Desktop/CollegeDocuments/codes/cs224w/project/build_graph.ipynb#X30sZmlsZQ%3D%3D?line=21'>22</a>\u001b[0m cur_loss \u001b[39m=\u001b[39m \u001b[39m0\u001b[39m\n\u001b[0;32m---> <a href='vscode-notebook-cell:/Users/yuandedewei/Desktop/CollegeDocuments/codes/cs224w/project/build_graph.ipynb#X30sZmlsZQ%3D%3D?line=22'>23</a>\u001b[0m \u001b[39mfor\u001b[39;00m data, target \u001b[39min\u001b[39;00m tqdm(train_loader):\n\u001b[1;32m     <a href='vscode-notebook-cell:/Users/yuandedewei/Desktop/CollegeDocuments/codes/cs224w/project/build_graph.ipynb#X30sZmlsZQ%3D%3D?line=23'>24</a>\u001b[0m     data, target \u001b[39m=\u001b[39m data\u001b[39m.\u001b[39mto(device), target\u001b[39m.\u001b[39mto(device)\n\u001b[1;32m     <a href='vscode-notebook-cell:/Users/yuandedewei/Desktop/CollegeDocuments/codes/cs224w/project/build_graph.ipynb#X30sZmlsZQ%3D%3D?line=24'>25</a>\u001b[0m     optimizer\u001b[39m.\u001b[39mzero_grad()\n",
      "File \u001b[0;32m/opt/anaconda3/lib/python3.8/site-packages/tqdm/std.py:1178\u001b[0m, in \u001b[0;36mtqdm.__iter__\u001b[0;34m(self)\u001b[0m\n\u001b[1;32m   1175\u001b[0m time \u001b[39m=\u001b[39m \u001b[39mself\u001b[39m\u001b[39m.\u001b[39m_time\n\u001b[1;32m   1177\u001b[0m \u001b[39mtry\u001b[39;00m:\n\u001b[0;32m-> 1178\u001b[0m     \u001b[39mfor\u001b[39;00m obj \u001b[39min\u001b[39;00m iterable:\n\u001b[1;32m   1179\u001b[0m         \u001b[39myield\u001b[39;00m obj\n\u001b[1;32m   1180\u001b[0m         \u001b[39m# Update and possibly print the progressbar.\u001b[39;00m\n\u001b[1;32m   1181\u001b[0m         \u001b[39m# Note: does not call self.update(1) for speed optimisation.\u001b[39;00m\n",
      "File \u001b[0;32m/opt/anaconda3/lib/python3.8/site-packages/torch/utils/data/dataloader.py:677\u001b[0m, in \u001b[0;36m_BaseDataLoaderIter.__next__\u001b[0;34m(self)\u001b[0m\n\u001b[1;32m    676\u001b[0m \u001b[39mdef\u001b[39;00m \u001b[39m__next__\u001b[39m(\u001b[39mself\u001b[39m) \u001b[39m-\u001b[39m\u001b[39m>\u001b[39m Any:\n\u001b[0;32m--> 677\u001b[0m     \u001b[39mwith\u001b[39;00m torch\u001b[39m.\u001b[39;49mautograd\u001b[39m.\u001b[39;49mprofiler\u001b[39m.\u001b[39;49mrecord_function(\u001b[39mself\u001b[39;49m\u001b[39m.\u001b[39;49m_profile_name):\n\u001b[1;32m    678\u001b[0m         \u001b[39mif\u001b[39;00m \u001b[39mself\u001b[39m\u001b[39m.\u001b[39m_sampler_iter \u001b[39mis\u001b[39;00m \u001b[39mNone\u001b[39;00m:\n\u001b[1;32m    679\u001b[0m             \u001b[39m# TODO(https://github.com/pytorch/pytorch/issues/76750)\u001b[39;00m\n\u001b[1;32m    680\u001b[0m             \u001b[39mself\u001b[39m\u001b[39m.\u001b[39m_reset()  \u001b[39m# type: ignore[call-arg]\u001b[39;00m\n",
      "File \u001b[0;32m/opt/anaconda3/lib/python3.8/site-packages/torch/autograd/profiler.py:443\u001b[0m, in \u001b[0;36mrecord_function.__init__\u001b[0;34m(self, name, args)\u001b[0m\n\u001b[1;32m    440\u001b[0m \u001b[39mself\u001b[39m\u001b[39m.\u001b[39mrun_callbacks_on_exit: \u001b[39mbool\u001b[39m \u001b[39m=\u001b[39m \u001b[39mTrue\u001b[39;00m\n\u001b[1;32m    441\u001b[0m \u001b[39m# Stores underlying RecordFunction as a tensor. TODO: move to custom\u001b[39;00m\n\u001b[1;32m    442\u001b[0m \u001b[39m# class (https://github.com/pytorch/pytorch/issues/35026).\u001b[39;00m\n\u001b[0;32m--> 443\u001b[0m \u001b[39mself\u001b[39m\u001b[39m.\u001b[39mhandle: torch\u001b[39m.\u001b[39mTensor \u001b[39m=\u001b[39m torch\u001b[39m.\u001b[39;49mzeros(\u001b[39m1\u001b[39;49m)\n",
      "\u001b[0;31mKeyboardInterrupt\u001b[0m: "
     ]
    }
   ],
   "source": [
    "args.model_type = 'GraphSageHetero'\n",
    "train(args)"
   ]
  },
  {
   "cell_type": "code",
   "execution_count": 53,
   "metadata": {},
   "outputs": [
    {
     "ename": "NameError",
     "evalue": "name 'test_loader' is not defined",
     "output_type": "error",
     "traceback": [
      "\u001b[0;31m---------------------------------------------------------------------------\u001b[0m",
      "\u001b[0;31mNameError\u001b[0m                                 Traceback (most recent call last)",
      "\u001b[1;32m/Users/yuandedewei/Desktop/CollegeDocuments/codes/cs224w/project/build_graph.ipynb Cell 27\u001b[0m line \u001b[0;36m1\n\u001b[1;32m     <a href='vscode-notebook-cell:/Users/yuandedewei/Desktop/CollegeDocuments/codes/cs224w/project/build_graph.ipynb#X31sZmlsZQ%3D%3D?line=11'>12</a>\u001b[0m all_predicted \u001b[39m=\u001b[39m []\n\u001b[1;32m     <a href='vscode-notebook-cell:/Users/yuandedewei/Desktop/CollegeDocuments/codes/cs224w/project/build_graph.ipynb#X31sZmlsZQ%3D%3D?line=12'>13</a>\u001b[0m all_target \u001b[39m=\u001b[39m []\n\u001b[0;32m---> <a href='vscode-notebook-cell:/Users/yuandedewei/Desktop/CollegeDocuments/codes/cs224w/project/build_graph.ipynb#X31sZmlsZQ%3D%3D?line=13'>14</a>\u001b[0m \u001b[39mfor\u001b[39;00m data, target \u001b[39min\u001b[39;00m tqdm(test_loader):\n\u001b[1;32m     <a href='vscode-notebook-cell:/Users/yuandedewei/Desktop/CollegeDocuments/codes/cs224w/project/build_graph.ipynb#X31sZmlsZQ%3D%3D?line=14'>15</a>\u001b[0m     data, target \u001b[39m=\u001b[39m data\u001b[39m.\u001b[39mdetach()\u001b[39m.\u001b[39mto(device), target\u001b[39m.\u001b[39mto(device)\n\u001b[1;32m     <a href='vscode-notebook-cell:/Users/yuandedewei/Desktop/CollegeDocuments/codes/cs224w/project/build_graph.ipynb#X31sZmlsZQ%3D%3D?line=16'>17</a>\u001b[0m     output \u001b[39m=\u001b[39m model(data)\n",
      "\u001b[0;31mNameError\u001b[0m: name 'test_loader' is not defined"
     ]
    }
   ],
   "source": [
    "# test\n",
    "model_type = 'GraphSageHetero'\n",
    "args.model_type = model_type\n",
    "model = GNNStack(voter_embedding_dim, args.hidden_dim, 4, args)\n",
    "model.load_state_dict(torch.load(model_type + '_model.pt'))\n",
    "\n",
    "device = torch.device('cuda' if torch.cuda.is_available() else 'cpu')\n",
    "\n",
    "model.eval()\n",
    "correct = 0\n",
    "total = 0\n",
    "all_predicted = []\n",
    "all_target = []\n",
    "for data, target in tqdm(test_loader):\n",
    "    data, target = data.detach().to(device), target.to(device)\n",
    "\n",
    "    output = model(data)\n",
    "\n",
    "    _, predicted = torch.max(output.data, 1)\n",
    "    total += target.size(0)\n",
    "    correct += (predicted == target).sum().item()\n",
    "    #print(predicted.tolist())\n",
    "\n",
    "    all_predicted.extend(predicted.tolist())\n",
    "    all_target.extend(target.tolist())\n",
    "\n",
    "\n",
    "# count numbers of class 0, 1, 2, 3\n",
    "print('Distribution of classes in test set: ')\n",
    "print('Class 0: %d' % all_target.count(0))\n",
    "print('Class 1: %d' % all_target.count(1))\n",
    "print('Class 2: %d' % all_target.count(2))\n",
    "print('Class 3: %d' % all_target.count(3))\n",
    "\n",
    "print('Distribution of classes in prediction: ')\n",
    "print('Class 0: %d' % all_predicted.count(0))\n",
    "print('Class 1: %d' % all_predicted.count(1))\n",
    "print('Class 2: %d' % all_predicted.count(2))\n",
    "print('Class 3: %d' % all_predicted.count(3))\n",
    "\n",
    "\n",
    "\n",
    "print('Accuracy on test set: %d %%' % (100 * correct / total))\n",
    "print('F1 on test set: %f' % f1_score(all_target, all_predicted, average='weighted'))\n",
    "print('F1 prime on test set: %f' % f1_score(all_target, np.zeros_like(all_predicted), average='weighted'))\n",
    "\n",
    "# try random guessing\n",
    "all_predicted_random = np.random.randint(0, 4, len(all_target))\n",
    "print('F1 random: %f' % f1_score(all_target, all_predicted_random, average='weighted'))\n"
   ]
  },
  {
   "cell_type": "code",
   "execution_count": 39,
   "metadata": {},
   "outputs": [
    {
     "data": {
      "text/plain": [
       "['SENEGAL',\n",
       " 'MALAYSIA',\n",
       " 'VENEZUELA (BOLIVARIAN REPUBLIC OF)',\n",
       " 'UNITED KINGDOM',\n",
       " 'RUSSIAN FEDERATION',\n",
       " 'JAPAN',\n",
       " 'ANGOLA',\n",
       " 'URUGUAY',\n",
       " 'SPAIN',\n",
       " 'EGYPT',\n",
       " 'NEW ZEALAND',\n",
       " 'UNITED STATES',\n",
       " 'FRANCE',\n",
       " 'CHINA',\n",
       " 'UKRAINE',\n",
       " 'NIGER',\n",
       " 'SAINT VINCENT AND THE GRENADINES',\n",
       " 'ESTONIA',\n",
       " 'SOUTH AFRICA',\n",
       " 'VIET NAM',\n",
       " 'BELGIUM',\n",
       " 'GERMANY',\n",
       " 'TUNISIA',\n",
       " 'INDONESIA',\n",
       " 'DOMINICAN REPUBLIC',\n",
       " 'BRAZIL',\n",
       " 'UNITED REPUBLIC OF TANZANIA',\n",
       " 'PHILIPPINES',\n",
       " 'ALGERIA',\n",
       " 'BENIN',\n",
       " 'DENMARK',\n",
       " 'ROMANIA',\n",
       " 'ARGENTINA',\n",
       " 'GREECE',\n",
       " 'AUSTRIA',\n",
       " 'SWITZERLAND',\n",
       " 'CYPRUS',\n",
       " 'MOZAMBIQUE',\n",
       " 'SUDAN',\n",
       " 'FIJI',\n",
       " 'BULGARIA',\n",
       " 'CUBA',\n",
       " 'UGANDA',\n",
       " 'ZAMBIA',\n",
       " 'SOUTH SUDAN',\n",
       " 'MONACO',\n",
       " 'REPUBLIC OF KOREA',\n",
       " 'REPUBLIC OF MOLDOVA',\n",
       " 'SAN MARINO',\n",
       " 'YEMEN',\n",
       " 'ITALY',\n",
       " 'BURUNDI',\n",
       " 'HUNGARY',\n",
       " 'CAMBODIA',\n",
       " 'MALAWI',\n",
       " 'NAURU',\n",
       " 'NICARAGUA',\n",
       " 'BRUNEI DARUSSALAM',\n",
       " 'POLAND',\n",
       " 'THAILAND',\n",
       " 'MALDIVES',\n",
       " 'SIERRA LEONE',\n",
       " 'TURKEY',\n",
       " 'CABO VERDE',\n",
       " 'PAPUA NEW GUINEA',\n",
       " 'MARSHALL ISLANDS',\n",
       " 'AZERBAIJAN',\n",
       " 'MADAGASCAR',\n",
       " 'CAMEROON',\n",
       " 'SAUDI ARABIA',\n",
       " 'IRAN (ISLAMIC REPUBLIC OF)',\n",
       " 'NEPAL',\n",
       " 'SAMOA',\n",
       " 'IRAQ',\n",
       " 'LIBYA',\n",
       " 'BAHRAIN',\n",
       " 'GUINEA',\n",
       " 'EQUATORIAL GUINEA',\n",
       " 'KYRGYZSTAN',\n",
       " 'ERITREA',\n",
       " 'KUWAIT',\n",
       " 'ARMENIA',\n",
       " 'MAURITANIA',\n",
       " 'SINGAPORE',\n",
       " 'CENTRAL AFRICAN REPUBLIC',\n",
       " 'PERU',\n",
       " 'LIECHTENSTEIN',\n",
       " 'NETHERLANDS',\n",
       " 'SERBIA',\n",
       " 'HAITI',\n",
       " 'IRELAND',\n",
       " 'KAZAKHSTAN',\n",
       " 'DJIBOUTI',\n",
       " \"DEMOCRATIC PEOPLE'S REPUBLIC OF KOREA\",\n",
       " 'BOSNIA AND HERZEGOVINA',\n",
       " 'PAKISTAN',\n",
       " 'SWEDEN',\n",
       " 'ZIMBABWE',\n",
       " 'SOMALIA',\n",
       " 'SLOVAKIA',\n",
       " 'AUSTRALIA',\n",
       " 'KIRIBATI',\n",
       " 'QATAR',\n",
       " 'LITHUANIA',\n",
       " 'ICELAND',\n",
       " 'LUXEMBOURG',\n",
       " 'ETHIOPIA',\n",
       " 'COMOROS',\n",
       " 'SRI LANKA',\n",
       " 'GUYANA',\n",
       " 'TONGA',\n",
       " 'UZBEKISTAN',\n",
       " 'VANUATU',\n",
       " 'LESOTHO',\n",
       " 'COLOMBIA',\n",
       " 'GUINEA-BISSAU',\n",
       " 'BOTSWANA',\n",
       " 'COSTA RICA',\n",
       " 'TAJIKISTAN',\n",
       " 'LIBERIA',\n",
       " \"COTE D'IVOIRE\",\n",
       " 'GABON',\n",
       " 'INDIA',\n",
       " 'ECUADOR',\n",
       " 'ESWATINI',\n",
       " 'SEYCHELLES',\n",
       " 'SAINT KITTS AND NEVIS',\n",
       " 'SOLOMON ISLANDS',\n",
       " 'MAURITIUS',\n",
       " 'ANDORRA',\n",
       " 'SAO TOME AND PRINCIPE',\n",
       " 'BELARUS',\n",
       " 'PALAU',\n",
       " 'GEORGIA',\n",
       " 'MYANMAR',\n",
       " 'AFGHANISTAN',\n",
       " 'CZECHIA',\n",
       " 'MEXICO',\n",
       " 'BANGLADESH',\n",
       " 'FINLAND',\n",
       " 'ISRAEL',\n",
       " 'HONDURAS',\n",
       " 'MALI',\n",
       " 'NORTH MACEDONIA',\n",
       " 'LEBANON',\n",
       " 'BARBADOS',\n",
       " 'BHUTAN',\n",
       " 'MOROCCO',\n",
       " 'MALTA',\n",
       " 'SURINAME',\n",
       " 'CANADA',\n",
       " 'UNITED ARAB EMIRATES',\n",
       " 'CROATIA',\n",
       " 'KENYA',\n",
       " 'RWANDA',\n",
       " 'CONGO',\n",
       " 'GUATEMALA',\n",
       " 'ANTIGUA AND BARBUDA',\n",
       " 'LATVIA',\n",
       " 'TOGO',\n",
       " 'GRENADA',\n",
       " 'NAMIBIA',\n",
       " 'SYRIAN ARAB REPUBLIC',\n",
       " 'NORWAY',\n",
       " 'CHILE',\n",
       " 'DOMINICA',\n",
       " 'ALBANIA',\n",
       " 'TRINIDAD AND TOBAGO',\n",
       " 'PANAMA',\n",
       " 'MONTENEGRO',\n",
       " 'NIGERIA',\n",
       " 'GHANA',\n",
       " 'OMAN',\n",
       " 'SLOVENIA',\n",
       " 'BAHAMAS',\n",
       " 'JAMAICA',\n",
       " 'BOLIVIA (PLURINATIONAL STATE OF)',\n",
       " 'SAINT LUCIA',\n",
       " 'MONGOLIA',\n",
       " 'PORTUGAL',\n",
       " 'DEMOCRATIC REPUBLIC OF THE CONGO',\n",
       " 'EL SALVADOR',\n",
       " 'GAMBIA',\n",
       " 'TURKMENISTAN',\n",
       " 'MICRONESIA (FEDERATED STATES OF)',\n",
       " 'TIMOR-LESTE',\n",
       " 'BELIZE',\n",
       " 'CHAD',\n",
       " 'BURKINA FASO',\n",
       " \"LAO PEOPLE'S DEMOCRATIC REPUBLIC\",\n",
       " 'TUVALU',\n",
       " 'JORDAN',\n",
       " 'PARAGUAY',\n",
       " 'SERBIA AND MONTENEGRO',\n",
       " 'BOLIVIA',\n",
       " 'THE FORMER YUGOSLAV REPUBLIC OF MACEDONIA',\n",
       " 'CAPE VERDE',\n",
       " 'CZECH REPUBLIC',\n",
       " 'VENEZUELA',\n",
       " 'SWAZILAND',\n",
       " 'LIBYAN ARAB JAMAHIRIYA',\n",
       " 'YUGOSLAVIA',\n",
       " 'MOLDOVA',\n",
       " 'UPPER VOLTA',\n",
       " 'DEMOCRATIC YEMEN',\n",
       " 'IVORY COAST',\n",
       " 'UKRAINIAN SSR',\n",
       " \"LAO PEOPLE's DEMOCRATIC REPUBLIC\",\n",
       " 'BYELORUSSIAN SSR',\n",
       " 'DEMOCRATIC KAMPUCHEA',\n",
       " 'UNITED REPUBLIC OF CAMEROON',\n",
       " 'GERMAN DEMOCRATIC REPUBLIC',\n",
       " 'BURMA',\n",
       " 'ZAIRE',\n",
       " 'GERMANY, FEDERAL REPUBLIC OF',\n",
       " 'USSR',\n",
       " 'CZECHOSLOVAKIA',\n",
       " 'COTE D’IVOIRE',\n",
       " 'PLURINATIONAL STATE OF BOLIVIA',\n",
       " 'LIBYAN ARAB REPUBLIC',\n",
       " 'IRAN',\n",
       " 'KHMER REPUBLIC',\n",
       " 'LAOS',\n",
       " 'CEYLON',\n",
       " 'DAHOMEY',\n",
       " 'UNITED ARAB REPUBLIC',\n",
       " 'SYRIA',\n",
       " 'SOUTHERN YEMEN',\n",
       " 'CONGO (BRAZZAVILLE)',\n",
       " 'CONGO (LEOPOLDVILLE)',\n",
       " ' UNITED KINGDOM',\n",
       " ' UNITED STATES',\n",
       " 'Aa UNITED STATES',\n",
       " 'CENTRAL AFRICAN EMPIRE',\n",
       " 'MALDIVE ISLANDS',\n",
       " 'CHILEs ',\n",
       " 'AY DENMARK',\n",
       " 'UNION OF SOUTH AFRICA',\n",
       " 'FEDERATION OF MALAYA',\n",
       " 'TANGANYIKA',\n",
       " ' CHILE',\n",
       " ' SOMALIA',\n",
       " ' ALGERIA',\n",
       " 'SERBIAMONTENEGRO',\n",
       " 'DONOTKNOW',\n",
       " 'ZANZIBAR',\n",
       " 'BOLIVIA (PLURINATIOANL STATE OF)',\n",
       " 'AY UNION OF SOUTH AFRICA',\n",
       " 'AY SWEDEN',\n",
       " 'BOLIVIA (PLUNATIONAL STATE OF)',\n",
       " 'SIAM',\n",
       " 'REPULIC OF MOLDOVA',\n",
       " 'PHILIPPINE REPUBLIC',\n",
       " 'SURINAM',\n",
       " ' BELGIUM',\n",
       " 'SAINT CHRISTOPHER AND NEVIS',\n",
       " 'TKAZAKHSTAN',\n",
       " 'DEMOCRATIC CAMPUCHEA',\n",
       " 'CONGO (DEMOCRATIC REPUBLIC OF)']"
      ]
     },
     "execution_count": 39,
     "metadata": {},
     "output_type": "execute_result"
    }
   ],
   "source": [
    "voters"
   ]
  },
  {
   "cell_type": "code",
   "execution_count": 63,
   "metadata": {},
   "outputs": [
    {
     "name": "stdout",
     "output_type": "stream",
     "text": [
      "(292, 64)\n",
      "(292, 64)\n",
      "259 33\n",
      "[2.72248723e-02 2.97484919e-02 4.03823927e-02 8.07816461e-02\n",
      " 7.30566457e-02 5.16046695e-02 3.47386003e-02 3.25327702e-02\n",
      " 7.26678297e-02 3.13662849e-02 8.05586874e-02 1.18938625e-01\n",
      " 8.66707191e-02 7.53194615e-02 8.51959437e-02 3.56595144e-02\n",
      " 5.25499843e-02 7.67702237e-02 5.12289777e-02 2.46760137e-02\n",
      " 4.15855274e-02 6.98037446e-02 2.04846729e-02 3.73587087e-02\n",
      " 2.85577774e-02 5.32433912e-02 7.25565329e-02 2.26973779e-02\n",
      " 1.77251007e-02 2.61031054e-02 7.59963542e-02 1.03676572e-01\n",
      " 3.74418087e-02 8.39641318e-02 8.13098550e-02 5.30274622e-02\n",
      " 1.08766533e-01 2.07952689e-02 3.93533595e-02 3.44846584e-02\n",
      " 6.76883385e-02 1.82229280e-02 3.32598463e-02 2.31674630e-02\n",
      " 4.61547151e-02 2.98049860e-02 8.47247913e-02 6.00797497e-02\n",
      " 6.65269643e-02 2.95925159e-02 4.51898128e-02 3.65937725e-02\n",
      " 6.00644946e-02 3.18171978e-02 3.49749289e-02 6.51525110e-02\n",
      " 5.29393777e-02 1.00825848e-02 7.21090138e-02 2.21312251e-02\n",
      " 2.12858226e-02 2.46306732e-02 5.68210483e-02 1.55333839e-02\n",
      " 2.28452981e-02 9.51360539e-02 6.02740422e-02 2.32531298e-02\n",
      " 3.17542292e-02 3.09576876e-02 5.15609644e-02 1.74889937e-02\n",
      " 3.89744639e-02 2.91418396e-02 1.46098696e-02 1.64840091e-02\n",
      " 2.03530248e-02 7.06841573e-02 3.95581350e-02 3.57653014e-02\n",
      " 1.55296978e-02 7.47339129e-02 1.75541062e-02 1.99815631e-02\n",
      " 4.74377275e-02 4.15605269e-02 4.62597273e-02 4.55167480e-02\n",
      " 6.04244061e-02 5.35242185e-02 7.80938938e-02 3.65008302e-02\n",
      " 1.93110760e-02 2.34369934e-02 5.33243679e-02 1.82491988e-02\n",
      " 6.46123514e-02 1.57834031e-02 5.56601100e-02 4.89643477e-02\n",
      " 6.42905086e-02 4.62608188e-02 1.43305790e-02 4.40877080e-02\n",
      " 8.22041184e-02 6.21634386e-02 3.57809179e-02 4.36086468e-02\n",
      " 2.56825611e-02 1.72012337e-02 6.33999184e-02 4.60623205e-02\n",
      " 5.90889752e-02 2.01415401e-02 6.50123209e-02 4.97286916e-02\n",
      " 1.63874794e-02 1.72781665e-02 7.33321905e-02 5.09357266e-02\n",
      " 3.48717868e-02 4.11059596e-02 2.30383612e-02 2.67970134e-02\n",
      " 4.18165810e-02 4.97929379e-02 5.47381677e-02 5.61034232e-02\n",
      " 4.08344455e-02 4.40129749e-02 7.03157932e-02 6.14338741e-02\n",
      " 7.86037818e-02 6.05857894e-02 1.09473048e-02 2.62670163e-02\n",
      " 6.02839403e-02 4.59306017e-02 1.94551051e-02 5.27791306e-02\n",
      " 1.16949938e-01 2.85979044e-02 2.58010942e-02 3.51137333e-02\n",
      " 4.63499688e-02 2.01883931e-02 1.98057666e-02 3.11059877e-02\n",
      " 9.51378495e-02 1.98509432e-02 8.27691033e-02 1.23139052e-02\n",
      " 5.54498844e-02 4.27352637e-02 4.50169779e-02 4.39205170e-02\n",
      " 1.80086363e-02 2.74231043e-02 5.24154492e-02 3.17708366e-02\n",
      " 3.01376637e-02 1.10359918e-02 3.11387107e-02 6.01302460e-02\n",
      " 4.23856489e-02 5.19159921e-02 4.65973094e-02 2.66652405e-02\n",
      " 2.40007322e-02 5.16840443e-02 4.07751575e-02 1.77581161e-02\n",
      " 1.51266828e-02 4.64401506e-02 1.84571948e-02 4.41190898e-02\n",
      " 3.43802013e-02 5.88282794e-02 3.39310206e-02 5.36329709e-02\n",
      " 6.13689609e-02 3.20704468e-02 2.21992154e-02 4.73144315e-02\n",
      " 1.12834528e-01 1.40632521e-02 5.04406244e-02 4.95178699e-02\n",
      " 1.23101566e-02 2.58447658e-02 5.24369963e-02 2.20499318e-02\n",
      " 3.82254310e-02 6.10528775e-02 1.57566350e-02 5.12007214e-02\n",
      " 1.03315338e-01 3.48464102e-02 1.56148244e-02 1.64902098e-02\n",
      " 1.89179964e-02 6.42233640e-02 2.81028915e-02 2.42842529e-02\n",
      " 3.54089141e-02 3.10801659e-02 6.38516769e-02 4.18358222e-02\n",
      " 1.19112670e-01 4.53419946e-02 1.72387194e-02 7.98603445e-02\n",
      " 2.38214657e-02 2.10104622e-02 7.11295530e-02 6.36942834e-02\n",
      " 5.68223335e-02 1.26939788e-01 1.26924247e-01 1.70179829e-02\n",
      " 1.64464992e-02 1.34388534e-02 7.97021016e-03 4.10999171e-02\n",
      " 1.64898597e-02 2.55135447e-02 1.45591544e-02 8.65858570e-02\n",
      " 8.74173492e-02 2.20243149e-02 1.23813204e-01 4.11714539e-02\n",
      " 0.00000000e+00 4.90906686e-02 3.42375003e-02 1.27039865e-01\n",
      " 2.61714701e-02 6.91535100e-02 5.21012023e-02 7.51141682e-02\n",
      " 0.00000000e+00 1.24215513e-01 1.23904876e-01 1.24034069e-01\n",
      " 1.26740143e-01 1.22126214e-01 1.27063230e-01 1.26573443e-01\n",
      " 1.26811415e-01 1.22749604e-01 3.00116017e-02 1.24019042e-01\n",
      " 1.88473500e-02 3.30155455e-02 1.26913518e-01 0.00000000e+00\n",
      " 1.22950740e-01 8.46135989e-02 1.95034780e-02 0.00000000e+00\n",
      " 0.00000000e+00 0.00000000e+00 0.00000000e+00 0.00000000e+00\n",
      " 0.00000000e+00 0.00000000e+00 1.60524941e-14 0.00000000e+00\n",
      " 0.00000000e+00 0.00000000e+00 0.00000000e+00 0.00000000e+00\n",
      " 0.00000000e+00 0.00000000e+00 1.66553171e-09 0.00000000e+00\n",
      " 0.00000000e+00 4.38891007e-11 0.00000000e+00 0.00000000e+00\n",
      " 0.00000000e+00 0.00000000e+00 3.55450478e-13 0.00000000e+00\n",
      " 0.00000000e+00 0.00000000e+00 8.91941909e-07 7.28272695e-08\n",
      " 0.00000000e+00 0.00000000e+00 0.00000000e+00 0.00000000e+00]\n"
     ]
    }
   ],
   "source": [
    "model_type = 'GraphSageHetero'\n",
    "args.model_type = model_type\n",
    "model = GNNStack(voter_embedding_dim, args.hidden_dim, 4, args)\n",
    "model.load_state_dict(torch.load(model_type + '_model.pt'))\n",
    "\n",
    "device = torch.device('cuda' if torch.cuda.is_available() else 'cpu')\n",
    "\n",
    "model.eval()\n",
    "\n",
    "initial_embeddings = model.node_embedding(model.all_node_index)\n",
    "initial_embeddings = initial_embeddings.detach().numpy()\n",
    "\n",
    "print(initial_embeddings.shape)\n",
    "\n",
    "final_embeddings = model.get_embeddings()\n",
    "\n",
    "print(final_embeddings.shape)\n",
    "\n",
    "print(len_voters, len_orgs)\n",
    "\n",
    "magnitude = np.linalg.norm(initial_embeddings, axis=1)\n",
    "print(magnitude)"
   ]
  },
  {
   "cell_type": "code",
   "execution_count": 66,
   "metadata": {},
   "outputs": [
    {
     "name": "stdout",
     "output_type": "stream",
     "text": [
      "[13, 12, 4, 3, 11]\n"
     ]
    }
   ],
   "source": [
    "the_five = ['CHINA', 'FRANCE', 'RUSSIAN FEDERATION', 'UNITED KINGDOM', 'UNITED STATES']\n",
    "g_20 = ['ARGENTINA', 'AUSTRALIA', 'BRAZIL', 'CANADA', 'CHINA', 'FRANCE', 'GERMANY', 'INDIA', 'INDONESIA', 'ITALY', 'JAPAN', 'MEXICO', 'REPUBLIC OF KOREA', 'RUSSIAN FEDERATION', 'SAUDI ARABIA', 'SOUTH AFRICA', 'TURKEY', 'UNITED KINGDOM', 'UNITED STATES']\n",
    "\n",
    "the_five_index = [voters.index(v) for v in the_five]\n",
    "g_20_index = [voters.index(v) for v in g_20]\n",
    "\n",
    "print(the_five_index)"
   ]
  },
  {
   "cell_type": "code",
   "execution_count": 65,
   "metadata": {},
   "outputs": [
    {
     "data": {
      "image/png": "[encoded data removed]",
      "text/plain": [
       "<Figure size 800x600 with 1 Axes>"
      ]
     },
     "metadata": {},
     "output_type": "display_data"
    }
   ],
   "source": [
    "import matplotlib.pyplot as plt\n",
    "from sklearn.decomposition import PCA\n",
    "\n",
    "# Assuming initial_embeddings is your (292, 64) array\n",
    "# Perform PCA to reduce dimensions to 2\n",
    "pca = PCA(n_components=2)\n",
    "#embeddings_2d_voter = pca.fit_transform(initial_embeddings[:len_voters])\n",
    "#embeddings_2d_org = pca.fit_transform(initial_embeddings[len_voters:])\n",
    "\n",
    "embeddings_2d_final_voter = pca.fit_transform(final_embeddings[:len_voters])\n",
    "embedding_2d_five = embeddings_2d_final_voter[the_five_index]\n",
    "embedding_2d_g_20 = embeddings_2d_final_voter[g_20_index]\n",
    "embeddings_2d_final_org = pca.fit_transform(final_embeddings[len_voters:])\n",
    "\n",
    "# Visualize the embeddings in a scatter plot\n",
    "plt.figure(figsize=(8, 6))\n",
    "#plt.scatter(embeddings_2d_voter[:, 0], embeddings_2d_voter[:, 1], c='b')\n",
    "#plt.scatter(embeddings_2d_org[:, 0], embeddings_2d_org[:, 1], c='r')\n",
    "plt.scatter(embeddings_2d_final_voter[:, 0], embeddings_2d_final_voter[:, 1], c='b')\n",
    "plt.scatter(embeddings_2d_final_org[:, 0], embeddings_2d_final_org[:, 1], c='y')\n",
    "plt.scatter(embedding_2d_five[:, 0], embedding_2d_five[:, 1], c='r')\n",
    "\n",
    "# Annotating each point with its name\n",
    "for i, name in enumerate(the_five):\n",
    "    plt.annotate(name, (embedding_2d_five[i, 0], embedding_2d_five[i, 1]), textcoords=\"offset points\", xytext=(5,5), ha='center')\n",
    "\n",
    "\n",
    "plt.title('Visualization of 64-Dimensional Embeddings (Reduced to 2D)')\n",
    "plt.xlabel('Principal Component 1')\n",
    "plt.ylabel('Principal Component 2')\n",
    "plt.grid(True)\n",
    "plt.show()\n"
   ]
  },
  {
   "cell_type": "code",
   "execution_count": null,
   "metadata": {},
   "outputs": [],
   "source": []
  },
  {
   "cell_type": "code",
   "execution_count": null,
   "metadata": {},
   "outputs": [],
   "source": []
  }
 ],
 "metadata": {
  "kernelspec": {
   "display_name": "Python 3",
   "language": "python",
   "name": "python3"
  },
  "language_info": {
   "codemirror_mode": {
    "name": "ipython",
    "version": 3
   },
   "file_extension": ".py",
   "mimetype": "text/x-python",
   "name": "python",
   "nbconvert_exporter": "python",
   "pygments_lexer": "ipython3",
   "version": "3.8.3"
  }
 },
 "nbformat": 4,
 "nbformat_minor": 2
}
