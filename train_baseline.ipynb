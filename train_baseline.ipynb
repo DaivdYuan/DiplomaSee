{
 "cells": [
  {
   "cell_type": "code",
   "execution_count": 3,
   "metadata": {},
   "outputs": [],
   "source": [
    "import numpy as np\n",
    "\n",
    "import torch\n",
    "import torch.nn as nn\n",
    "\n",
    "\n",
    "# Define the path to the embeddings .npy file\n",
    "embeddings_npy_path = 'data/embeddings.npy'\n",
    "\n",
    "# Load the embeddings from the .npy file\n",
    "title_embeddings = np.load(embeddings_npy_path)"
   ]
  },
  {
   "cell_type": "code",
   "execution_count": 4,
   "metadata": {},
   "outputs": [],
   "source": [
    "voting_dict = {\n",
    "    'Y': 0,\n",
    "    'N': 1,\n",
    "    'A': 2,\n",
    "    'X': 3,\n",
    "}"
   ]
  },
  {
   "cell_type": "code",
   "execution_count": 5,
   "metadata": {},
   "outputs": [
    {
     "name": "stdout",
     "output_type": "stream",
     "text": [
      "               Council        Date  \\\n",
      "0     Security Council  2016-12-13   \n",
      "1     Security Council  2020-06-22   \n",
      "2     Security Council  2016-12-14   \n",
      "3     Security Council  2016-12-12   \n",
      "4     Security Council  2005-09-23   \n",
      "...                ...         ...   \n",
      "7850  General Assembly  1976-10-21   \n",
      "7851  General Assembly  2021-12-06   \n",
      "7852  General Assembly  2021-12-06   \n",
      "7853  General Assembly  2021-12-06   \n",
      "7854  General Assembly  2021-12-06   \n",
      "\n",
      "                                                  Title        Resolution  \\\n",
      "0     Security Council resolution 2323 (2016) [on ex...  S/RES/2323(2016)   \n",
      "1     Security Council resolution 2527 (2020) [on ex...  S/RES/2527(2020)   \n",
      "2     Security Council resolution 2324 (2016) [on Se...  S/RES/2324(2016)   \n",
      "3     Security Council resolution 2322 (2016) [on in...  S/RES/2322(2016)   \n",
      "4     Security Council resolution 1627 (2005) [on ex...  S/RES/1627(2005)   \n",
      "...                                                 ...               ...   \n",
      "7850  Question of the Comorian island of Mayotte : r...        A/RES/31/4   \n",
      "7851  Follow-up to nuclear disarmament obligations a...       A/RES/76/31   \n",
      "7852  Compliance with non-proliferation, arms limita...       A/RES/76/33   \n",
      "7853  Ethical imperatives for a nuclear-weapon-free ...       A/RES/76/25   \n",
      "7854  Treaty on the Prohibition of Nuclear Weapons :...       A/RES/76/34   \n",
      "\n",
      "      TOTAL VOTES  NO-VOTE COUNT  ABSENT COUNT  NO COUNT  YES COUNT  \\\n",
      "0              15              0             0         0         15   \n",
      "1              15              0             0         0         15   \n",
      "2              15              0             0         0         15   \n",
      "3              15              0             0         0         15   \n",
      "4              15              0             0         0         15   \n",
      "...           ...            ...           ...       ...        ...   \n",
      "7850          145             14            28         1        102   \n",
      "7851          193             10            17        44        122   \n",
      "7852          193              7             9         3        174   \n",
      "7853          193              7            14        37        135   \n",
      "7854          193              7            16        42        128   \n",
      "\n",
      "                                                   Link  ...  SIAM  \\\n",
      "0     https://digitallibrary.un.org/record/852025?ln=en  ...   NaN   \n",
      "1     https://digitallibrary.un.org/record/3866679?l...  ...   NaN   \n",
      "2     https://digitallibrary.un.org/record/852028?ln=en  ...   NaN   \n",
      "3     https://digitallibrary.un.org/record/852020?ln=en  ...   NaN   \n",
      "4     https://digitallibrary.un.org/record/557118?ln=en  ...   NaN   \n",
      "...                                                 ...  ...   ...   \n",
      "7850  https://digitallibrary.un.org/record/622478?ln=en  ...   NaN   \n",
      "7851  https://digitallibrary.un.org/record/3950565?l...  ...   NaN   \n",
      "7852  https://digitallibrary.un.org/record/3950566?l...  ...   NaN   \n",
      "7853  https://digitallibrary.un.org/record/3950568?l...  ...   NaN   \n",
      "7854  https://digitallibrary.un.org/record/3950567?l...  ...   NaN   \n",
      "\n",
      "     REPULIC OF MOLDOVA PHILIPPINE REPUBLIC SURINAM  BELGIUM  \\\n",
      "0                   NaN                 NaN     NaN      NaN   \n",
      "1                   NaN                 NaN     NaN      NaN   \n",
      "2                   NaN                 NaN     NaN      NaN   \n",
      "3                   NaN                 NaN     NaN      NaN   \n",
      "4                   NaN                 NaN     NaN      NaN   \n",
      "...                 ...                 ...     ...      ...   \n",
      "7850                NaN                 NaN       A      NaN   \n",
      "7851                NaN                 NaN     NaN      NaN   \n",
      "7852                NaN                 NaN     NaN      NaN   \n",
      "7853                NaN                 NaN     NaN      NaN   \n",
      "7854                NaN                 NaN     NaN      NaN   \n",
      "\n",
      "     SAINT CHRISTOPHER AND NEVIS TKAZAKHSTAN DEMOCRATIC CAMPUCHEA  \\\n",
      "0                            NaN         NaN                  NaN   \n",
      "1                            NaN         NaN                  NaN   \n",
      "2                            NaN         NaN                  NaN   \n",
      "3                            NaN         NaN                  NaN   \n",
      "4                            NaN         NaN                  NaN   \n",
      "...                          ...         ...                  ...   \n",
      "7850                         NaN         NaN                  NaN   \n",
      "7851                         NaN         NaN                  NaN   \n",
      "7852                         NaN         NaN                  NaN   \n",
      "7853                         NaN         NaN                  NaN   \n",
      "7854                         NaN         NaN                  NaN   \n",
      "\n",
      "     CONGO (DEMOCRATIC REPUBLIC OF) index  \n",
      "0                               NaN     0  \n",
      "1                               NaN     1  \n",
      "2                               NaN     2  \n",
      "3                               NaN     3  \n",
      "4                               NaN     4  \n",
      "...                             ...   ...  \n",
      "7850                            NaN  7850  \n",
      "7851                            NaN  7851  \n",
      "7852                            NaN  7852  \n",
      "7853                            NaN  7853  \n",
      "7854                            NaN  7854  \n",
      "\n",
      "[7855 rows x 271 columns]\n"
     ]
    },
    {
     "name": "stderr",
     "output_type": "stream",
     "text": [
      "<ipython-input-5-6be2abe57bd6>:7: DtypeWarning: Columns (228,229,230,232,235,236,238,239,240,241,242,243,245,246,247,249,250,251,252,253,254,255,256,257,258,259,260,261,262,263,264,265,266,267,268,269) have mixed types. Specify dtype option on import or set low_memory=False.\n",
      "  df = pd.read_csv(voting_data_path)\n"
     ]
    }
   ],
   "source": [
    "import pandas as pd\n",
    "import json\n",
    "\n",
    "voting_data_path = 'data/UN_DATA.csv'\n",
    "\n",
    "# read in the data\n",
    "df = pd.read_csv(voting_data_path)\n",
    "df['index'] = df.index\n",
    "\n",
    "print(df)"
   ]
  },
  {
   "cell_type": "code",
   "execution_count": 6,
   "metadata": {},
   "outputs": [
    {
     "name": "stdout",
     "output_type": "stream",
     "text": [
      "['Council', 'Date', 'Title', 'Resolution', 'TOTAL VOTES', 'NO-VOTE COUNT', 'ABSENT COUNT', 'NO COUNT', 'YES COUNT', 'Link', 'token', 'SENEGAL', 'MALAYSIA', 'VENEZUELA (BOLIVARIAN REPUBLIC OF)', 'UNITED KINGDOM', 'RUSSIAN FEDERATION', 'JAPAN', 'ANGOLA', 'URUGUAY', 'SPAIN', 'EGYPT', 'NEW ZEALAND', 'UNITED STATES', 'FRANCE', 'CHINA', 'UKRAINE', 'NIGER', 'SAINT VINCENT AND THE GRENADINES', 'ESTONIA', 'SOUTH AFRICA', 'VIET NAM', 'BELGIUM', 'GERMANY', 'TUNISIA', 'INDONESIA', 'DOMINICAN REPUBLIC', 'BRAZIL', 'UNITED REPUBLIC OF TANZANIA', 'PHILIPPINES', 'ALGERIA', 'BENIN', 'DENMARK', 'ROMANIA', 'ARGENTINA', 'GREECE', 'AUSTRIA', 'SWITZERLAND', 'CYPRUS', 'MOZAMBIQUE', 'SUDAN', 'FIJI', 'BULGARIA', 'CUBA', 'UGANDA', 'ZAMBIA', 'SOUTH SUDAN', 'MONACO', 'REPUBLIC OF KOREA', 'REPUBLIC OF MOLDOVA', 'SAN MARINO', 'YEMEN', 'ITALY', 'BURUNDI', 'HUNGARY', 'CAMBODIA', 'MALAWI', 'NAURU', 'NICARAGUA', 'BRUNEI DARUSSALAM', 'POLAND', 'THAILAND', 'MALDIVES', 'SIERRA LEONE', 'TURKEY', 'CABO VERDE', 'PAPUA NEW GUINEA', 'MARSHALL ISLANDS', 'AZERBAIJAN', 'MADAGASCAR', 'CAMEROON', 'SAUDI ARABIA', 'IRAN (ISLAMIC REPUBLIC OF)', 'NEPAL', 'SAMOA', 'IRAQ', 'LIBYA', 'BAHRAIN', 'GUINEA', 'EQUATORIAL GUINEA', 'KYRGYZSTAN', 'ERITREA', 'KUWAIT', 'ARMENIA', 'MAURITANIA', 'SINGAPORE', 'CENTRAL AFRICAN REPUBLIC', 'PERU', 'LIECHTENSTEIN', 'NETHERLANDS', 'SERBIA', 'HAITI', 'IRELAND', 'KAZAKHSTAN', 'DJIBOUTI', \"DEMOCRATIC PEOPLE'S REPUBLIC OF KOREA\", 'BOSNIA AND HERZEGOVINA', 'PAKISTAN', 'SWEDEN', 'ZIMBABWE', 'SOMALIA', 'SLOVAKIA', 'AUSTRALIA', 'KIRIBATI', 'QATAR', 'LITHUANIA', 'ICELAND', 'LUXEMBOURG', 'ETHIOPIA', 'COMOROS', 'SRI LANKA', 'GUYANA', 'TONGA', 'UZBEKISTAN', 'VANUATU', 'LESOTHO', 'COLOMBIA', 'GUINEA-BISSAU', 'BOTSWANA', 'COSTA RICA', 'TAJIKISTAN', 'LIBERIA', \"COTE D'IVOIRE\", 'GABON', 'INDIA', 'ECUADOR', 'ESWATINI', 'SEYCHELLES', 'SAINT KITTS AND NEVIS', 'SOLOMON ISLANDS', 'MAURITIUS', 'ANDORRA', 'SAO TOME AND PRINCIPE', 'BELARUS', 'PALAU', 'GEORGIA', 'MYANMAR', 'AFGHANISTAN', 'CZECHIA', 'MEXICO', 'BANGLADESH', 'FINLAND', 'ISRAEL', 'HONDURAS', 'MALI', 'NORTH MACEDONIA', 'LEBANON', 'BARBADOS', 'BHUTAN', 'MOROCCO', 'MALTA', 'SURINAME', 'CANADA', 'UNITED ARAB EMIRATES', 'CROATIA', 'KENYA', 'RWANDA', 'CONGO', 'GUATEMALA', 'ANTIGUA AND BARBUDA', 'LATVIA', 'TOGO', 'GRENADA', 'NAMIBIA', 'SYRIAN ARAB REPUBLIC', 'NORWAY', 'CHILE', 'DOMINICA', 'ALBANIA', 'TRINIDAD AND TOBAGO', 'PANAMA', 'MONTENEGRO', 'NIGERIA', 'GHANA', 'OMAN', 'SLOVENIA', 'BAHAMAS', 'JAMAICA', 'BOLIVIA (PLURINATIONAL STATE OF)', 'SAINT LUCIA', 'MONGOLIA', 'PORTUGAL', 'DEMOCRATIC REPUBLIC OF THE CONGO', 'EL SALVADOR', 'GAMBIA', 'TURKMENISTAN', 'MICRONESIA (FEDERATED STATES OF)', 'TIMOR-LESTE', 'BELIZE', 'CHAD', 'BURKINA FASO', \"LAO PEOPLE'S DEMOCRATIC REPUBLIC\", 'TUVALU', 'JORDAN', 'PARAGUAY', 'SERBIA AND MONTENEGRO', 'BOLIVIA', 'THE FORMER YUGOSLAV REPUBLIC OF MACEDONIA', 'CAPE VERDE', 'CZECH REPUBLIC', 'VENEZUELA', 'SWAZILAND', 'LIBYAN ARAB JAMAHIRIYA', 'YUGOSLAVIA', 'MOLDOVA', 'UPPER VOLTA', 'DEMOCRATIC YEMEN', 'IVORY COAST', 'UKRAINIAN SSR', \"LAO PEOPLE's DEMOCRATIC REPUBLIC\", 'BYELORUSSIAN SSR', 'DEMOCRATIC KAMPUCHEA', 'UNITED REPUBLIC OF CAMEROON', 'GERMAN DEMOCRATIC REPUBLIC', 'BURMA', 'ZAIRE', 'GERMANY, FEDERAL REPUBLIC OF', 'USSR', 'CZECHOSLOVAKIA', 'COTE D’IVOIRE', 'PLURINATIONAL STATE OF BOLIVIA', 'LIBYAN ARAB REPUBLIC', 'IRAN', 'KHMER REPUBLIC', 'LAOS', 'CEYLON', 'DAHOMEY', 'UNITED ARAB REPUBLIC', 'SYRIA', 'SOUTHERN YEMEN', 'CONGO (BRAZZAVILLE)', 'CONGO (LEOPOLDVILLE)', ' UNITED KINGDOM', ' UNITED STATES', 'Aa UNITED STATES', 'CENTRAL AFRICAN EMPIRE', 'MALDIVE ISLANDS', 'CHILEs ', 'AY DENMARK', 'UNION OF SOUTH AFRICA', 'FEDERATION OF MALAYA', 'TANGANYIKA', ' CHILE', ' SOMALIA', ' ALGERIA', 'SERBIAMONTENEGRO', 'DONOTKNOW', 'ZANZIBAR', 'BOLIVIA (PLURINATIOANL STATE OF)', 'AY UNION OF SOUTH AFRICA', 'AY SWEDEN', 'BOLIVIA (PLUNATIONAL STATE OF)', 'SIAM', 'REPULIC OF MOLDOVA', 'PHILIPPINE REPUBLIC', 'SURINAM', ' BELGIUM', 'SAINT CHRISTOPHER AND NEVIS', 'TKAZAKHSTAN', 'DEMOCRATIC CAMPUCHEA', 'CONGO (DEMOCRATIC REPUBLIC OF)', 'index']\n"
     ]
    }
   ],
   "source": [
    "title_line = df.columns.values.tolist()\n",
    "\n",
    "print(title_line)\n",
    "\n",
    "voters = title_line[11: -1]\n",
    "\n",
    "voter_embedding_dim = 64\n",
    "title_projection_dim = 128"
   ]
  },
  {
   "cell_type": "code",
   "execution_count": 7,
   "metadata": {},
   "outputs": [],
   "source": [
    "\n",
    "class BaseMLP(nn.Module):\n",
    "    def __init__(self, hidden_size, output_size):\n",
    "        super(BaseMLP, self).__init__()\n",
    "\n",
    "        self.voter_embeddings = nn.Embedding(len(voters), voter_embedding_dim)\n",
    "        self.proj = nn.Linear(384, title_projection_dim)\n",
    "\n",
    "        self.fc1 = nn.Linear(title_projection_dim + voter_embedding_dim, hidden_size)\n",
    "        self.relu1 = nn.ReLU()\n",
    "        self.fc2 = nn.Linear(hidden_size, hidden_size)\n",
    "        self.relu2 = nn.ReLU()\n",
    "        self.fc3 = nn.Linear(hidden_size, hidden_size)\n",
    "        self.relu3 = nn.ReLU()\n",
    "        self.fc4 = nn.Linear(hidden_size, output_size)\n",
    "        self.softmax = nn.Softmax(dim=1)\n",
    "        \n",
    "\n",
    "\n",
    "    def forward(self, x):\n",
    "        idx = x[:, -1].long()\n",
    "        title = x[:, :-1].float()\n",
    "\n",
    "        voter_embed = self.voter_embeddings(idx)\n",
    "        title_embed = self.proj(title)\n",
    "\n",
    "        x = torch.cat((voter_embed, title_embed), dim=1)\n",
    "\n",
    "        x = self.fc1(x)\n",
    "        x = self.relu1(x)\n",
    "        x = self.fc2(x)\n",
    "        x = self.relu2(x)\n",
    "        x = self.fc3(x)\n",
    "        x = self.relu3(x)\n",
    "        x = self.fc4(x)\n",
    "        out = self.softmax(x)\n",
    "        return out"
   ]
  },
  {
   "cell_type": "code",
   "execution_count": 8,
   "metadata": {},
   "outputs": [],
   "source": [
    "import pandas as pd\n",
    "import torch\n",
    "from tqdm import tqdm\n",
    "from torch.utils.data import Dataset, DataLoader\n",
    "from sklearn.model_selection import train_test_split\n",
    "\n",
    "class VoterDataset(Dataset):\n",
    "    def __init__(self, data):\n",
    "        self.data = data \n",
    "        print('data shape: ', self.data.shape)\n",
    "        print(data.index)\n",
    "\n",
    "        self.features = []\n",
    "        self.labels = []\n",
    "\n",
    "        # for each line\n",
    "        for i in tqdm(range(len(self.data))):\n",
    "            index = self.data.iloc[i]['index']\n",
    "            cur_line = self.data.iloc[i]\n",
    "            title_feature = title_embeddings[index]\n",
    "\n",
    "            for i, voter in enumerate(voters):\n",
    "                vote = cur_line[voter]\n",
    "\n",
    "                if vote not in voting_dict:\n",
    "                    continue\n",
    "\n",
    "                feature = np.concatenate((title_feature, [i]), 0)\n",
    "\n",
    "                self.features.append(feature)\n",
    "                self.labels.append(voting_dict[vote])\n",
    "\n",
    "    def __len__(self):\n",
    "        return len(self.labels)\n",
    "\n",
    "    def __getitem__(self, idx):\n",
    "        return self.features[idx], self.labels[idx]\n",
    "        "
   ]
  },
  {
   "cell_type": "code",
   "execution_count": 9,
   "metadata": {},
   "outputs": [
    {
     "name": "stdout",
     "output_type": "stream",
     "text": [
      "data shape:  (6284, 271)\n",
      "Index([6072,  432, 6001, 6308, 2118, 3832, 4398, 1108, 5523, 7678,\n",
      "       ...\n",
      "       6265, 5734, 3092, 3772, 5191, 5226, 5390,  860, 7603, 7270],\n",
      "      dtype='int64', length=6284)\n"
     ]
    },
    {
     "name": "stderr",
     "output_type": "stream",
     "text": [
      "100%|██████████| 6284/6284 [00:16<00:00, 375.24it/s]\n"
     ]
    },
    {
     "name": "stdout",
     "output_type": "stream",
     "text": [
      "data shape:  (785, 271)\n",
      "Index([6321, 1103, 2897, 1869, 1487,  828, 6353, 4477,  251, 1671,\n",
      "       ...\n",
      "       7658, 7847, 4999, 1172, 1242, 7204, 6607, 5260, 3859, 3121],\n",
      "      dtype='int64', length=785)\n"
     ]
    },
    {
     "name": "stderr",
     "output_type": "stream",
     "text": [
      "100%|██████████| 785/785 [00:01<00:00, 400.69it/s]\n"
     ]
    },
    {
     "name": "stdout",
     "output_type": "stream",
     "text": [
      "data shape:  (786, 271)\n",
      "Index([4231,  308, 1017, 6682, 6043, 1406,  334, 3194, 4270,  381,\n",
      "       ...\n",
      "        425, 5498, 3855, 7836, 5381, 4755, 1407, 4575,  982, 3413],\n",
      "      dtype='int64', length=786)\n"
     ]
    },
    {
     "name": "stderr",
     "output_type": "stream",
     "text": [
      "100%|██████████| 786/786 [00:01<00:00, 403.12it/s]\n"
     ]
    }
   ],
   "source": [
    "train_data, test_data = train_test_split(df, test_size=0.2, random_state=42)\n",
    "valid_data, test_data = train_test_split(test_data, test_size=0.5, random_state=42)\n",
    "\n",
    "train_dataset = VoterDataset(train_data)\n",
    "valid_dataset = VoterDataset(valid_data)\n",
    "test_dataset = VoterDataset(test_data)"
   ]
  },
  {
   "cell_type": "code",
   "execution_count": 10,
   "metadata": {},
   "outputs": [],
   "source": [
    "\n",
    "train_loader = DataLoader(train_dataset, batch_size=64, shuffle=True)\n",
    "valid_loader = DataLoader(valid_dataset, batch_size=64)\n",
    "test_loader = DataLoader(test_dataset, batch_size=64)"
   ]
  },
  {
   "cell_type": "code",
   "execution_count": 12,
   "metadata": {},
   "outputs": [
    {
     "name": "stderr",
     "output_type": "stream",
     "text": [
      "  0%|          | 0/11161 [00:00<?, ?it/s]"
     ]
    },
    {
     "name": "stderr",
     "output_type": "stream",
     "text": [
      "  9%|▉         | 1029/11161 [00:08<01:06, 151.73it/s]"
     ]
    },
    {
     "name": "stdout",
     "output_type": "stream",
     "text": [
      "Step 1000 \tTraining Loss: 1.220451 \tAccuracy: 0.661734\n"
     ]
    },
    {
     "name": "stderr",
     "output_type": "stream",
     "text": [
      " 18%|█▊        | 2030/11161 [00:14<00:58, 156.09it/s]"
     ]
    },
    {
     "name": "stdout",
     "output_type": "stream",
     "text": [
      "Step 2000 \tTraining Loss: 1.177809 \tAccuracy: 0.659563\n"
     ]
    },
    {
     "name": "stderr",
     "output_type": "stream",
     "text": [
      " 27%|██▋       | 3025/11161 [00:21<00:53, 152.77it/s]"
     ]
    },
    {
     "name": "stdout",
     "output_type": "stream",
     "text": [
      "Step 3000 \tTraining Loss: 1.168623 \tAccuracy: 0.675422\n"
     ]
    },
    {
     "name": "stderr",
     "output_type": "stream",
     "text": [
      " 36%|███▌      | 4015/11161 [00:28<00:46, 154.44it/s]"
     ]
    },
    {
     "name": "stdout",
     "output_type": "stream",
     "text": [
      "Step 4000 \tTraining Loss: 1.155307 \tAccuracy: 0.677719\n"
     ]
    },
    {
     "name": "stderr",
     "output_type": "stream",
     "text": [
      " 45%|████▌     | 5023/11161 [00:35<00:41, 148.71it/s]"
     ]
    },
    {
     "name": "stdout",
     "output_type": "stream",
     "text": [
      "Step 5000 \tTraining Loss: 1.155254 \tAccuracy: 0.684000\n"
     ]
    },
    {
     "name": "stderr",
     "output_type": "stream",
     "text": [
      " 54%|█████▍    | 6017/11161 [00:42<00:34, 148.60it/s]"
     ]
    },
    {
     "name": "stdout",
     "output_type": "stream",
     "text": [
      "Step 6000 \tTraining Loss: 1.144441 \tAccuracy: 0.698422\n"
     ]
    },
    {
     "name": "stderr",
     "output_type": "stream",
     "text": [
      " 63%|██████▎   | 7013/11161 [00:50<01:13, 56.69it/s] "
     ]
    },
    {
     "name": "stdout",
     "output_type": "stream",
     "text": [
      "Step 7000 \tTraining Loss: 1.153159 \tAccuracy: 0.684656\n"
     ]
    },
    {
     "name": "stderr",
     "output_type": "stream",
     "text": [
      " 72%|███████▏  | 8015/11161 [00:58<00:24, 128.93it/s]"
     ]
    },
    {
     "name": "stdout",
     "output_type": "stream",
     "text": [
      "Step 8000 \tTraining Loss: 1.154442 \tAccuracy: 0.687203\n"
     ]
    },
    {
     "name": "stderr",
     "output_type": "stream",
     "text": [
      " 81%|████████  | 9022/11161 [01:06<00:14, 148.26it/s]"
     ]
    },
    {
     "name": "stdout",
     "output_type": "stream",
     "text": [
      "Step 9000 \tTraining Loss: 1.154647 \tAccuracy: 0.689219\n"
     ]
    },
    {
     "name": "stderr",
     "output_type": "stream",
     "text": [
      " 90%|████████▉ | 10017/11161 [01:13<00:08, 135.47it/s]"
     ]
    },
    {
     "name": "stdout",
     "output_type": "stream",
     "text": [
      "Step 10000 \tTraining Loss: 1.143467 \tAccuracy: 0.707391\n"
     ]
    },
    {
     "name": "stderr",
     "output_type": "stream",
     "text": [
      " 99%|█████████▉| 11026/11161 [01:20<00:00, 149.28it/s]"
     ]
    },
    {
     "name": "stdout",
     "output_type": "stream",
     "text": [
      "Step 11000 \tTraining Loss: 1.148913 \tAccuracy: 0.696328\n"
     ]
    },
    {
     "name": "stderr",
     "output_type": "stream",
     "text": [
      "100%|██████████| 11161/11161 [01:21<00:00, 137.44it/s]\n",
      "100%|██████████| 1422/1422 [00:02<00:00, 478.21it/s]\n"
     ]
    },
    {
     "name": "stdout",
     "output_type": "stream",
     "text": [
      "Epoch: 0 \tTraining Loss: 1.161144 \tValidation Loss: 1.137015\n",
      "Accuracy: 0.712589 \tF1: 0.726518 \tF1 Prime: 0.659354\n",
      "Validation loss decreased (inf --> 1.137015). Saving model ...\n"
     ]
    },
    {
     "name": "stderr",
     "output_type": "stream",
     "text": [
      "  9%|▉         | 1016/11161 [00:07<01:15, 133.56it/s]"
     ]
    },
    {
     "name": "stdout",
     "output_type": "stream",
     "text": [
      "Step 1000 \tTraining Loss: 1.146920 \tAccuracy: 0.701859\n"
     ]
    },
    {
     "name": "stderr",
     "output_type": "stream",
     "text": [
      " 18%|█▊        | 2016/11161 [00:14<01:11, 128.31it/s]"
     ]
    },
    {
     "name": "stdout",
     "output_type": "stream",
     "text": [
      "Step 2000 \tTraining Loss: 1.150148 \tAccuracy: 0.701859\n"
     ]
    },
    {
     "name": "stderr",
     "output_type": "stream",
     "text": [
      " 27%|██▋       | 3026/11161 [00:22<00:57, 140.81it/s]"
     ]
    },
    {
     "name": "stdout",
     "output_type": "stream",
     "text": [
      "Step 3000 \tTraining Loss: 1.137706 \tAccuracy: 0.708375\n"
     ]
    },
    {
     "name": "stderr",
     "output_type": "stream",
     "text": [
      " 36%|███▌      | 4026/11161 [00:28<00:46, 155.08it/s]"
     ]
    },
    {
     "name": "stdout",
     "output_type": "stream",
     "text": [
      "Step 4000 \tTraining Loss: 1.144397 \tAccuracy: 0.716187\n"
     ]
    },
    {
     "name": "stderr",
     "output_type": "stream",
     "text": [
      " 45%|████▍     | 5021/11161 [00:35<00:40, 151.11it/s]"
     ]
    },
    {
     "name": "stdout",
     "output_type": "stream",
     "text": [
      "Step 5000 \tTraining Loss: 1.141193 \tAccuracy: 0.717734\n"
     ]
    },
    {
     "name": "stderr",
     "output_type": "stream",
     "text": [
      " 54%|█████▍    | 6014/11161 [00:43<00:35, 143.59it/s]"
     ]
    },
    {
     "name": "stdout",
     "output_type": "stream",
     "text": [
      "Step 6000 \tTraining Loss: 1.139028 \tAccuracy: 0.718156\n"
     ]
    },
    {
     "name": "stderr",
     "output_type": "stream",
     "text": [
      " 63%|██████▎   | 7015/11161 [00:52<00:50, 82.89it/s] "
     ]
    },
    {
     "name": "stdout",
     "output_type": "stream",
     "text": [
      "Step 7000 \tTraining Loss: 1.138671 \tAccuracy: 0.715375\n"
     ]
    },
    {
     "name": "stderr",
     "output_type": "stream",
     "text": [
      " 72%|███████▏  | 8020/11161 [01:00<00:21, 144.19it/s]"
     ]
    },
    {
     "name": "stdout",
     "output_type": "stream",
     "text": [
      "Step 8000 \tTraining Loss: 1.137246 \tAccuracy: 0.709688\n"
     ]
    },
    {
     "name": "stderr",
     "output_type": "stream",
     "text": [
      " 81%|████████  | 9017/11161 [01:08<00:18, 114.22it/s]"
     ]
    },
    {
     "name": "stdout",
     "output_type": "stream",
     "text": [
      "Step 9000 \tTraining Loss: 1.146906 \tAccuracy: 0.704922\n"
     ]
    },
    {
     "name": "stderr",
     "output_type": "stream",
     "text": [
      " 90%|████████▉ | 10018/11161 [01:16<00:08, 140.29it/s]"
     ]
    },
    {
     "name": "stdout",
     "output_type": "stream",
     "text": [
      "Step 10000 \tTraining Loss: 1.141443 \tAccuracy: 0.709203\n"
     ]
    },
    {
     "name": "stderr",
     "output_type": "stream",
     "text": [
      " 99%|█████████▊| 11016/11161 [01:24<00:01, 136.12it/s]"
     ]
    },
    {
     "name": "stdout",
     "output_type": "stream",
     "text": [
      "Step 11000 \tTraining Loss: 1.137403 \tAccuracy: 0.711734\n"
     ]
    },
    {
     "name": "stderr",
     "output_type": "stream",
     "text": [
      "100%|██████████| 11161/11161 [01:25<00:00, 130.92it/s]\n",
      "100%|██████████| 1422/1422 [00:02<00:00, 609.34it/s]\n"
     ]
    },
    {
     "name": "stdout",
     "output_type": "stream",
     "text": [
      "Epoch: 1 \tTraining Loss: 1.141774 \tValidation Loss: 1.124041\n",
      "Accuracy: 0.710852 \tF1: 0.728511 \tF1 Prime: 0.659354\n",
      "Validation loss decreased (1.137015 --> 1.124041). Saving model ...\n"
     ]
    },
    {
     "name": "stderr",
     "output_type": "stream",
     "text": [
      "  9%|▉         | 1019/11161 [00:07<01:07, 150.88it/s]"
     ]
    },
    {
     "name": "stdout",
     "output_type": "stream",
     "text": [
      "Step 1000 \tTraining Loss: 1.135442 \tAccuracy: 0.705703\n"
     ]
    },
    {
     "name": "stderr",
     "output_type": "stream",
     "text": [
      " 18%|█▊        | 2017/11161 [00:15<01:01, 148.51it/s]"
     ]
    },
    {
     "name": "stdout",
     "output_type": "stream",
     "text": [
      "Step 2000 \tTraining Loss: 1.134734 \tAccuracy: 0.703031\n"
     ]
    },
    {
     "name": "stderr",
     "output_type": "stream",
     "text": [
      " 27%|██▋       | 3027/11161 [00:22<00:57, 141.37it/s]"
     ]
    },
    {
     "name": "stdout",
     "output_type": "stream",
     "text": [
      "Step 3000 \tTraining Loss: 1.135340 \tAccuracy: 0.704844\n"
     ]
    },
    {
     "name": "stderr",
     "output_type": "stream",
     "text": [
      " 36%|███▌      | 4018/11161 [00:29<00:49, 144.24it/s]"
     ]
    },
    {
     "name": "stdout",
     "output_type": "stream",
     "text": [
      "Step 4000 \tTraining Loss: 1.126705 \tAccuracy: 0.716531\n"
     ]
    },
    {
     "name": "stderr",
     "output_type": "stream",
     "text": [
      " 45%|████▍     | 5014/11161 [00:37<00:46, 133.33it/s]"
     ]
    },
    {
     "name": "stdout",
     "output_type": "stream",
     "text": [
      "Step 5000 \tTraining Loss: 1.135223 \tAccuracy: 0.714656\n"
     ]
    },
    {
     "name": "stderr",
     "output_type": "stream",
     "text": [
      " 54%|█████▍    | 6018/11161 [00:44<00:36, 139.20it/s]"
     ]
    },
    {
     "name": "stdout",
     "output_type": "stream",
     "text": [
      "Step 6000 \tTraining Loss: 1.125513 \tAccuracy: 0.715203\n"
     ]
    },
    {
     "name": "stderr",
     "output_type": "stream",
     "text": [
      " 63%|██████▎   | 7023/11161 [00:52<00:28, 143.68it/s]"
     ]
    },
    {
     "name": "stdout",
     "output_type": "stream",
     "text": [
      "Step 7000 \tTraining Loss: 1.130603 \tAccuracy: 0.714359\n"
     ]
    },
    {
     "name": "stderr",
     "output_type": "stream",
     "text": [
      " 72%|███████▏  | 8023/11161 [00:59<00:22, 141.83it/s]"
     ]
    },
    {
     "name": "stdout",
     "output_type": "stream",
     "text": [
      "Step 8000 \tTraining Loss: 1.129429 \tAccuracy: 0.715531\n"
     ]
    },
    {
     "name": "stderr",
     "output_type": "stream",
     "text": [
      " 81%|████████  | 9018/11161 [01:06<00:14, 148.40it/s]"
     ]
    },
    {
     "name": "stdout",
     "output_type": "stream",
     "text": [
      "Step 9000 \tTraining Loss: 1.135158 \tAccuracy: 0.714875\n"
     ]
    },
    {
     "name": "stderr",
     "output_type": "stream",
     "text": [
      " 90%|████████▉ | 10025/11161 [01:13<00:07, 154.71it/s]"
     ]
    },
    {
     "name": "stdout",
     "output_type": "stream",
     "text": [
      "Step 10000 \tTraining Loss: 1.138591 \tAccuracy: 0.713141\n"
     ]
    },
    {
     "name": "stderr",
     "output_type": "stream",
     "text": [
      " 99%|█████████▊| 11013/11161 [01:21<00:01, 137.66it/s]"
     ]
    },
    {
     "name": "stdout",
     "output_type": "stream",
     "text": [
      "Step 11000 \tTraining Loss: 1.134516 \tAccuracy: 0.711328\n"
     ]
    },
    {
     "name": "stderr",
     "output_type": "stream",
     "text": [
      "100%|██████████| 11161/11161 [01:22<00:00, 135.32it/s]\n",
      "100%|██████████| 1422/1422 [00:02<00:00, 480.78it/s]\n"
     ]
    },
    {
     "name": "stdout",
     "output_type": "stream",
     "text": [
      "Epoch: 2 \tTraining Loss: 1.132947 \tValidation Loss: 1.123199\n",
      "Accuracy: 0.716413 \tF1: 0.731961 \tF1 Prime: 0.659354\n",
      "Validation loss decreased (1.124041 --> 1.123199). Saving model ...\n"
     ]
    },
    {
     "name": "stderr",
     "output_type": "stream",
     "text": [
      "  9%|▉         | 1025/11161 [00:06<01:04, 156.06it/s]"
     ]
    },
    {
     "name": "stdout",
     "output_type": "stream",
     "text": [
      "Step 1000 \tTraining Loss: 1.128937 \tAccuracy: 0.721750\n"
     ]
    },
    {
     "name": "stderr",
     "output_type": "stream",
     "text": [
      " 18%|█▊        | 2032/11161 [00:13<00:57, 158.74it/s]"
     ]
    },
    {
     "name": "stdout",
     "output_type": "stream",
     "text": [
      "Step 2000 \tTraining Loss: 1.124285 \tAccuracy: 0.724578\n"
     ]
    },
    {
     "name": "stderr",
     "output_type": "stream",
     "text": [
      " 27%|██▋       | 3024/11161 [00:20<00:52, 154.20it/s]"
     ]
    },
    {
     "name": "stdout",
     "output_type": "stream",
     "text": [
      "Step 3000 \tTraining Loss: 1.140421 \tAccuracy: 0.726875\n"
     ]
    },
    {
     "name": "stderr",
     "output_type": "stream",
     "text": [
      " 36%|███▌      | 4015/11161 [00:26<00:47, 150.35it/s]"
     ]
    },
    {
     "name": "stdout",
     "output_type": "stream",
     "text": [
      "Step 4000 \tTraining Loss: 1.133965 \tAccuracy: 0.727437\n"
     ]
    },
    {
     "name": "stderr",
     "output_type": "stream",
     "text": [
      " 45%|████▍     | 5015/11161 [00:33<00:38, 160.31it/s]"
     ]
    },
    {
     "name": "stdout",
     "output_type": "stream",
     "text": [
      "Step 5000 \tTraining Loss: 1.128982 \tAccuracy: 0.727297\n"
     ]
    },
    {
     "name": "stderr",
     "output_type": "stream",
     "text": [
      " 54%|█████▍    | 6021/11161 [00:40<00:31, 161.02it/s]"
     ]
    },
    {
     "name": "stdout",
     "output_type": "stream",
     "text": [
      "Step 6000 \tTraining Loss: 1.132826 \tAccuracy: 0.710219\n"
     ]
    },
    {
     "name": "stderr",
     "output_type": "stream",
     "text": [
      " 63%|██████▎   | 7027/11161 [00:48<00:29, 142.37it/s]"
     ]
    },
    {
     "name": "stdout",
     "output_type": "stream",
     "text": [
      "Step 7000 \tTraining Loss: 1.125303 \tAccuracy: 0.717500\n"
     ]
    },
    {
     "name": "stderr",
     "output_type": "stream",
     "text": [
      " 72%|███████▏  | 8023/11161 [00:57<00:22, 137.16it/s]"
     ]
    },
    {
     "name": "stdout",
     "output_type": "stream",
     "text": [
      "Step 8000 \tTraining Loss: 1.121330 \tAccuracy: 0.725469\n"
     ]
    },
    {
     "name": "stderr",
     "output_type": "stream",
     "text": [
      " 81%|████████  | 9024/11161 [01:03<00:13, 158.25it/s]"
     ]
    },
    {
     "name": "stdout",
     "output_type": "stream",
     "text": [
      "Step 9000 \tTraining Loss: 1.118611 \tAccuracy: 0.719484\n"
     ]
    },
    {
     "name": "stderr",
     "output_type": "stream",
     "text": [
      " 90%|████████▉ | 10015/11161 [01:10<00:08, 137.72it/s]"
     ]
    },
    {
     "name": "stdout",
     "output_type": "stream",
     "text": [
      "Step 10000 \tTraining Loss: 1.116658 \tAccuracy: 0.705953\n"
     ]
    },
    {
     "name": "stderr",
     "output_type": "stream",
     "text": [
      " 99%|█████████▊| 11012/11161 [01:20<00:01, 95.71it/s] "
     ]
    },
    {
     "name": "stdout",
     "output_type": "stream",
     "text": [
      "Step 11000 \tTraining Loss: 1.116887 \tAccuracy: 0.711609\n"
     ]
    },
    {
     "name": "stderr",
     "output_type": "stream",
     "text": [
      "100%|██████████| 11161/11161 [01:21<00:00, 136.54it/s]\n",
      "100%|██████████| 1422/1422 [00:03<00:00, 469.44it/s]\n"
     ]
    },
    {
     "name": "stdout",
     "output_type": "stream",
     "text": [
      "Epoch: 3 \tTraining Loss: 1.125900 \tValidation Loss: 1.108715\n",
      "Accuracy: 0.712160 \tF1: 0.732028 \tF1 Prime: 0.659354\n",
      "Validation loss decreased (1.123199 --> 1.108715). Saving model ...\n"
     ]
    },
    {
     "name": "stderr",
     "output_type": "stream",
     "text": [
      "  9%|▉         | 1026/11161 [00:13<01:14, 136.15it/s]"
     ]
    },
    {
     "name": "stdout",
     "output_type": "stream",
     "text": [
      "Step 1000 \tTraining Loss: 1.120877 \tAccuracy: 0.716719\n"
     ]
    },
    {
     "name": "stderr",
     "output_type": "stream",
     "text": [
      " 18%|█▊        | 2027/11161 [00:21<01:22, 110.10it/s]"
     ]
    },
    {
     "name": "stdout",
     "output_type": "stream",
     "text": [
      "Step 2000 \tTraining Loss: 1.129523 \tAccuracy: 0.726719\n"
     ]
    },
    {
     "name": "stderr",
     "output_type": "stream",
     "text": [
      " 27%|██▋       | 3017/11161 [00:28<00:54, 150.20it/s]"
     ]
    },
    {
     "name": "stdout",
     "output_type": "stream",
     "text": [
      "Step 3000 \tTraining Loss: 1.125196 \tAccuracy: 0.721828\n"
     ]
    },
    {
     "name": "stderr",
     "output_type": "stream",
     "text": [
      " 36%|███▌      | 4004/11161 [00:39<02:16, 52.47it/s] "
     ]
    },
    {
     "name": "stdout",
     "output_type": "stream",
     "text": [
      "Step 4000 \tTraining Loss: 1.120523 \tAccuracy: 0.724609\n"
     ]
    },
    {
     "name": "stderr",
     "output_type": "stream",
     "text": [
      " 45%|████▍     | 5017/11161 [00:47<00:47, 128.67it/s]"
     ]
    },
    {
     "name": "stdout",
     "output_type": "stream",
     "text": [
      "Step 5000 \tTraining Loss: 1.121955 \tAccuracy: 0.723344\n"
     ]
    },
    {
     "name": "stderr",
     "output_type": "stream",
     "text": [
      " 54%|█████▍    | 6004/11161 [00:59<00:54, 95.00it/s] "
     ]
    },
    {
     "name": "stdout",
     "output_type": "stream",
     "text": [
      "Step 6000 \tTraining Loss: 1.130406 \tAccuracy: 0.718297\n"
     ]
    },
    {
     "name": "stderr",
     "output_type": "stream",
     "text": [
      " 63%|██████▎   | 7030/11161 [01:08<00:26, 153.06it/s]"
     ]
    },
    {
     "name": "stdout",
     "output_type": "stream",
     "text": [
      "Step 7000 \tTraining Loss: 1.120630 \tAccuracy: 0.725297\n"
     ]
    },
    {
     "name": "stderr",
     "output_type": "stream",
     "text": [
      " 72%|███████▏  | 8014/11161 [01:16<00:41, 75.04it/s] "
     ]
    },
    {
     "name": "stdout",
     "output_type": "stream",
     "text": [
      "Step 8000 \tTraining Loss: 1.126611 \tAccuracy: 0.714844\n"
     ]
    },
    {
     "name": "stderr",
     "output_type": "stream",
     "text": [
      " 81%|████████  | 9016/11161 [01:24<00:13, 163.99it/s]"
     ]
    },
    {
     "name": "stdout",
     "output_type": "stream",
     "text": [
      "Step 9000 \tTraining Loss: 1.123426 \tAccuracy: 0.717313\n"
     ]
    },
    {
     "name": "stderr",
     "output_type": "stream",
     "text": [
      " 90%|████████▉ | 10018/11161 [01:30<00:07, 148.35it/s]"
     ]
    },
    {
     "name": "stdout",
     "output_type": "stream",
     "text": [
      "Step 10000 \tTraining Loss: 1.117261 \tAccuracy: 0.729422\n"
     ]
    },
    {
     "name": "stderr",
     "output_type": "stream",
     "text": [
      " 99%|█████████▉| 11024/11161 [01:36<00:00, 182.34it/s]"
     ]
    },
    {
     "name": "stdout",
     "output_type": "stream",
     "text": [
      "Step 11000 \tTraining Loss: 1.138931 \tAccuracy: 0.726984\n"
     ]
    },
    {
     "name": "stderr",
     "output_type": "stream",
     "text": [
      "100%|██████████| 11161/11161 [01:37<00:00, 114.67it/s]\n",
      "100%|██████████| 1422/1422 [00:01<00:00, 716.83it/s]\n"
     ]
    },
    {
     "name": "stdout",
     "output_type": "stream",
     "text": [
      "Epoch: 4 \tTraining Loss: 1.124889 \tValidation Loss: 1.120680\n",
      "Accuracy: 0.659520 \tF1: 0.693303 \tF1 Prime: 0.659354\n"
     ]
    },
    {
     "name": "stderr",
     "output_type": "stream",
     "text": [
      "  9%|▉         | 1018/11161 [00:07<01:17, 130.64it/s]"
     ]
    },
    {
     "name": "stdout",
     "output_type": "stream",
     "text": [
      "Step 1000 \tTraining Loss: 1.115849 \tAccuracy: 0.704984\n"
     ]
    },
    {
     "name": "stderr",
     "output_type": "stream",
     "text": [
      " 18%|█▊        | 2015/11161 [00:13<00:54, 167.92it/s]"
     ]
    },
    {
     "name": "stdout",
     "output_type": "stream",
     "text": [
      "Step 2000 \tTraining Loss: 1.120528 \tAccuracy: 0.708656\n"
     ]
    },
    {
     "name": "stderr",
     "output_type": "stream",
     "text": [
      " 27%|██▋       | 3011/11161 [00:23<02:23, 56.62it/s] "
     ]
    },
    {
     "name": "stdout",
     "output_type": "stream",
     "text": [
      "Step 3000 \tTraining Loss: 1.114537 \tAccuracy: 0.708750\n"
     ]
    },
    {
     "name": "stderr",
     "output_type": "stream",
     "text": [
      " 36%|███▌      | 4017/11161 [00:31<00:49, 145.66it/s]"
     ]
    },
    {
     "name": "stdout",
     "output_type": "stream",
     "text": [
      "Step 4000 \tTraining Loss: 1.114909 \tAccuracy: 0.706672\n"
     ]
    },
    {
     "name": "stderr",
     "output_type": "stream",
     "text": [
      " 45%|████▍     | 5016/11161 [00:38<00:42, 146.22it/s]"
     ]
    },
    {
     "name": "stdout",
     "output_type": "stream",
     "text": [
      "Step 5000 \tTraining Loss: 1.121688 \tAccuracy: 0.717203\n"
     ]
    },
    {
     "name": "stderr",
     "output_type": "stream",
     "text": [
      " 54%|█████▍    | 6032/11161 [00:49<00:34, 150.33it/s]"
     ]
    },
    {
     "name": "stdout",
     "output_type": "stream",
     "text": [
      "Step 6000 \tTraining Loss: 1.115694 \tAccuracy: 0.718750\n"
     ]
    },
    {
     "name": "stderr",
     "output_type": "stream",
     "text": [
      " 63%|██████▎   | 7017/11161 [00:56<00:36, 114.73it/s]"
     ]
    },
    {
     "name": "stdout",
     "output_type": "stream",
     "text": [
      "Step 7000 \tTraining Loss: 1.127152 \tAccuracy: 0.725281\n"
     ]
    },
    {
     "name": "stderr",
     "output_type": "stream",
     "text": [
      " 72%|███████▏  | 8008/11161 [01:06<00:39, 79.86it/s] "
     ]
    },
    {
     "name": "stdout",
     "output_type": "stream",
     "text": [
      "Step 8000 \tTraining Loss: 1.122484 \tAccuracy: 0.716656\n"
     ]
    },
    {
     "name": "stderr",
     "output_type": "stream",
     "text": [
      " 81%|████████  | 9022/11161 [01:14<00:19, 110.23it/s]"
     ]
    },
    {
     "name": "stdout",
     "output_type": "stream",
     "text": [
      "Step 9000 \tTraining Loss: 1.125600 \tAccuracy: 0.714984\n"
     ]
    },
    {
     "name": "stderr",
     "output_type": "stream",
     "text": [
      " 90%|████████▉ | 10021/11161 [01:23<00:07, 145.31it/s]"
     ]
    },
    {
     "name": "stdout",
     "output_type": "stream",
     "text": [
      "Step 10000 \tTraining Loss: 1.122759 \tAccuracy: 0.722734\n"
     ]
    },
    {
     "name": "stderr",
     "output_type": "stream",
     "text": [
      " 99%|█████████▉| 11025/11161 [01:30<00:00, 138.21it/s]"
     ]
    },
    {
     "name": "stdout",
     "output_type": "stream",
     "text": [
      "Step 11000 \tTraining Loss: 1.125431 \tAccuracy: 0.716297\n"
     ]
    },
    {
     "name": "stderr",
     "output_type": "stream",
     "text": [
      "100%|██████████| 11161/11161 [01:31<00:00, 121.63it/s]\n",
      "100%|██████████| 1422/1422 [00:02<00:00, 614.44it/s]\n"
     ]
    },
    {
     "name": "stdout",
     "output_type": "stream",
     "text": [
      "Epoch: 5 \tTraining Loss: 1.120570 \tValidation Loss: 1.113109\n",
      "Accuracy: 0.723413 \tF1: 0.739180 \tF1 Prime: 0.659354\n"
     ]
    },
    {
     "name": "stderr",
     "output_type": "stream",
     "text": [
      "  9%|▉         | 1005/11161 [00:08<01:14, 135.89it/s]"
     ]
    },
    {
     "name": "stdout",
     "output_type": "stream",
     "text": [
      "Step 1000 \tTraining Loss: 1.118008 \tAccuracy: 0.724234\n"
     ]
    },
    {
     "name": "stderr",
     "output_type": "stream",
     "text": [
      " 14%|█▍        | 1601/11161 [00:13<01:22, 115.80it/s]\n"
     ]
    },
    {
     "ename": "KeyboardInterrupt",
     "evalue": "",
     "output_type": "error",
     "traceback": [
      "\u001b[0;31m---------------------------------------------------------------------------\u001b[0m",
      "\u001b[0;31mKeyboardInterrupt\u001b[0m                         Traceback (most recent call last)",
      "\u001b[1;32m/Users/yuandedewei/Desktop/CollegeDocuments/codes/cs224w/project/train_baseline.ipynb Cell 9\u001b[0m line \u001b[0;36m3\n\u001b[1;32m     <a href='vscode-notebook-cell:/Users/yuandedewei/Desktop/CollegeDocuments/codes/cs224w/project/train_baseline.ipynb#X11sZmlsZQ%3D%3D?line=32'>33</a>\u001b[0m loss \u001b[39m=\u001b[39m criterion(output, target)\n\u001b[1;32m     <a href='vscode-notebook-cell:/Users/yuandedewei/Desktop/CollegeDocuments/codes/cs224w/project/train_baseline.ipynb#X11sZmlsZQ%3D%3D?line=33'>34</a>\u001b[0m loss\u001b[39m.\u001b[39mbackward(retain_graph\u001b[39m=\u001b[39m\u001b[39mTrue\u001b[39;00m)\n\u001b[0;32m---> <a href='vscode-notebook-cell:/Users/yuandedewei/Desktop/CollegeDocuments/codes/cs224w/project/train_baseline.ipynb#X11sZmlsZQ%3D%3D?line=34'>35</a>\u001b[0m optimizer\u001b[39m.\u001b[39;49mstep()\n\u001b[1;32m     <a href='vscode-notebook-cell:/Users/yuandedewei/Desktop/CollegeDocuments/codes/cs224w/project/train_baseline.ipynb#X11sZmlsZQ%3D%3D?line=36'>37</a>\u001b[0m train_loss \u001b[39m+\u001b[39m\u001b[39m=\u001b[39m loss\u001b[39m.\u001b[39mitem() \u001b[39m*\u001b[39m data\u001b[39m.\u001b[39msize(\u001b[39m0\u001b[39m)\n\u001b[1;32m     <a href='vscode-notebook-cell:/Users/yuandedewei/Desktop/CollegeDocuments/codes/cs224w/project/train_baseline.ipynb#X11sZmlsZQ%3D%3D?line=37'>38</a>\u001b[0m cur_loss \u001b[39m+\u001b[39m\u001b[39m=\u001b[39m loss\u001b[39m.\u001b[39mitem()\n",
      "File \u001b[0;32m/opt/anaconda3/lib/python3.8/site-packages/torch/optim/optimizer.py:113\u001b[0m, in \u001b[0;36mOptimizer._hook_for_profile.<locals>.profile_hook_step.<locals>.wrapper\u001b[0;34m(*args, **kwargs)\u001b[0m\n\u001b[1;32m    111\u001b[0m profile_name \u001b[39m=\u001b[39m \u001b[39m\"\u001b[39m\u001b[39mOptimizer.step#\u001b[39m\u001b[39m{}\u001b[39;00m\u001b[39m.step\u001b[39m\u001b[39m\"\u001b[39m\u001b[39m.\u001b[39mformat(obj\u001b[39m.\u001b[39m\u001b[39m__class__\u001b[39m\u001b[39m.\u001b[39m\u001b[39m__name__\u001b[39m)\n\u001b[1;32m    112\u001b[0m \u001b[39mwith\u001b[39;00m torch\u001b[39m.\u001b[39mautograd\u001b[39m.\u001b[39mprofiler\u001b[39m.\u001b[39mrecord_function(profile_name):\n\u001b[0;32m--> 113\u001b[0m     \u001b[39mreturn\u001b[39;00m func(\u001b[39m*\u001b[39;49margs, \u001b[39m*\u001b[39;49m\u001b[39m*\u001b[39;49mkwargs)\n",
      "File \u001b[0;32m/opt/anaconda3/lib/python3.8/site-packages/torch/autograd/grad_mode.py:27\u001b[0m, in \u001b[0;36m_DecoratorContextManager.__call__.<locals>.decorate_context\u001b[0;34m(*args, **kwargs)\u001b[0m\n\u001b[1;32m     24\u001b[0m \u001b[39m@functools\u001b[39m\u001b[39m.\u001b[39mwraps(func)\n\u001b[1;32m     25\u001b[0m \u001b[39mdef\u001b[39;00m \u001b[39mdecorate_context\u001b[39m(\u001b[39m*\u001b[39margs, \u001b[39m*\u001b[39m\u001b[39m*\u001b[39mkwargs):\n\u001b[1;32m     26\u001b[0m     \u001b[39mwith\u001b[39;00m \u001b[39mself\u001b[39m\u001b[39m.\u001b[39mclone():\n\u001b[0;32m---> 27\u001b[0m         \u001b[39mreturn\u001b[39;00m func(\u001b[39m*\u001b[39;49margs, \u001b[39m*\u001b[39;49m\u001b[39m*\u001b[39;49mkwargs)\n",
      "File \u001b[0;32m/opt/anaconda3/lib/python3.8/site-packages/torch/optim/adam.py:157\u001b[0m, in \u001b[0;36mAdam.step\u001b[0;34m(self, closure)\u001b[0m\n\u001b[1;32m    153\u001b[0m                 max_exp_avg_sqs\u001b[39m.\u001b[39mappend(state[\u001b[39m'\u001b[39m\u001b[39mmax_exp_avg_sq\u001b[39m\u001b[39m'\u001b[39m])\n\u001b[1;32m    155\u001b[0m             state_steps\u001b[39m.\u001b[39mappend(state[\u001b[39m'\u001b[39m\u001b[39mstep\u001b[39m\u001b[39m'\u001b[39m])\n\u001b[0;32m--> 157\u001b[0m     adam(params_with_grad,\n\u001b[1;32m    158\u001b[0m          grads,\n\u001b[1;32m    159\u001b[0m          exp_avgs,\n\u001b[1;32m    160\u001b[0m          exp_avg_sqs,\n\u001b[1;32m    161\u001b[0m          max_exp_avg_sqs,\n\u001b[1;32m    162\u001b[0m          state_steps,\n\u001b[1;32m    163\u001b[0m          amsgrad\u001b[39m=\u001b[39;49mgroup[\u001b[39m'\u001b[39;49m\u001b[39mamsgrad\u001b[39;49m\u001b[39m'\u001b[39;49m],\n\u001b[1;32m    164\u001b[0m          beta1\u001b[39m=\u001b[39;49mbeta1,\n\u001b[1;32m    165\u001b[0m          beta2\u001b[39m=\u001b[39;49mbeta2,\n\u001b[1;32m    166\u001b[0m          lr\u001b[39m=\u001b[39;49mgroup[\u001b[39m'\u001b[39;49m\u001b[39mlr\u001b[39;49m\u001b[39m'\u001b[39;49m],\n\u001b[1;32m    167\u001b[0m          weight_decay\u001b[39m=\u001b[39;49mgroup[\u001b[39m'\u001b[39;49m\u001b[39mweight_decay\u001b[39;49m\u001b[39m'\u001b[39;49m],\n\u001b[1;32m    168\u001b[0m          eps\u001b[39m=\u001b[39;49mgroup[\u001b[39m'\u001b[39;49m\u001b[39meps\u001b[39;49m\u001b[39m'\u001b[39;49m],\n\u001b[1;32m    169\u001b[0m          maximize\u001b[39m=\u001b[39;49mgroup[\u001b[39m'\u001b[39;49m\u001b[39mmaximize\u001b[39;49m\u001b[39m'\u001b[39;49m],\n\u001b[1;32m    170\u001b[0m          foreach\u001b[39m=\u001b[39;49mgroup[\u001b[39m'\u001b[39;49m\u001b[39mforeach\u001b[39;49m\u001b[39m'\u001b[39;49m],\n\u001b[1;32m    171\u001b[0m          capturable\u001b[39m=\u001b[39;49mgroup[\u001b[39m'\u001b[39;49m\u001b[39mcapturable\u001b[39;49m\u001b[39m'\u001b[39;49m])\n\u001b[1;32m    173\u001b[0m \u001b[39mreturn\u001b[39;00m loss\n",
      "File \u001b[0;32m/opt/anaconda3/lib/python3.8/site-packages/torch/optim/adam.py:213\u001b[0m, in \u001b[0;36madam\u001b[0;34m(params, grads, exp_avgs, exp_avg_sqs, max_exp_avg_sqs, state_steps, foreach, capturable, amsgrad, beta1, beta2, lr, weight_decay, eps, maximize)\u001b[0m\n\u001b[1;32m    210\u001b[0m \u001b[39melse\u001b[39;00m:\n\u001b[1;32m    211\u001b[0m     func \u001b[39m=\u001b[39m _single_tensor_adam\n\u001b[0;32m--> 213\u001b[0m func(params,\n\u001b[1;32m    214\u001b[0m      grads,\n\u001b[1;32m    215\u001b[0m      exp_avgs,\n\u001b[1;32m    216\u001b[0m      exp_avg_sqs,\n\u001b[1;32m    217\u001b[0m      max_exp_avg_sqs,\n\u001b[1;32m    218\u001b[0m      state_steps,\n\u001b[1;32m    219\u001b[0m      amsgrad\u001b[39m=\u001b[39;49mamsgrad,\n\u001b[1;32m    220\u001b[0m      beta1\u001b[39m=\u001b[39;49mbeta1,\n\u001b[1;32m    221\u001b[0m      beta2\u001b[39m=\u001b[39;49mbeta2,\n\u001b[1;32m    222\u001b[0m      lr\u001b[39m=\u001b[39;49mlr,\n\u001b[1;32m    223\u001b[0m      weight_decay\u001b[39m=\u001b[39;49mweight_decay,\n\u001b[1;32m    224\u001b[0m      eps\u001b[39m=\u001b[39;49meps,\n\u001b[1;32m    225\u001b[0m      maximize\u001b[39m=\u001b[39;49mmaximize,\n\u001b[1;32m    226\u001b[0m      capturable\u001b[39m=\u001b[39;49mcapturable)\n",
      "File \u001b[0;32m/opt/anaconda3/lib/python3.8/site-packages/torch/optim/adam.py:263\u001b[0m, in \u001b[0;36m_single_tensor_adam\u001b[0;34m(params, grads, exp_avgs, exp_avg_sqs, max_exp_avg_sqs, state_steps, amsgrad, beta1, beta2, lr, weight_decay, eps, maximize, capturable)\u001b[0m\n\u001b[1;32m    261\u001b[0m \u001b[39m# Decay the first and second moment running average coefficient\u001b[39;00m\n\u001b[1;32m    262\u001b[0m exp_avg\u001b[39m.\u001b[39mmul_(beta1)\u001b[39m.\u001b[39madd_(grad, alpha\u001b[39m=\u001b[39m\u001b[39m1\u001b[39m \u001b[39m-\u001b[39m beta1)\n\u001b[0;32m--> 263\u001b[0m exp_avg_sq\u001b[39m.\u001b[39;49mmul_(beta2)\u001b[39m.\u001b[39;49maddcmul_(grad, grad\u001b[39m.\u001b[39;49mconj(), value\u001b[39m=\u001b[39;49m\u001b[39m1\u001b[39;49m \u001b[39m-\u001b[39;49m beta2)\n\u001b[1;32m    265\u001b[0m \u001b[39mif\u001b[39;00m capturable:\n\u001b[1;32m    266\u001b[0m     step \u001b[39m=\u001b[39m step_t\n",
      "\u001b[0;31mKeyboardInterrupt\u001b[0m: "
     ]
    }
   ],
   "source": [
    "from sklearn.metrics import f1_score\n",
    "\n",
    "model = BaseMLP(384, 4)\n",
    "\n",
    "class_weights = torch.tensor([1, 5, 5, 5])\n",
    "class_weights = class_weights / class_weights.sum()\n",
    "\n",
    "criterion = nn.CrossEntropyLoss(weight=class_weights)\n",
    "\n",
    "optimizer = torch.optim.Adam(model.parameters(), lr=0.001)\n",
    "optimizer.zero_grad()\n",
    "\n",
    "device = torch.device('cuda' if torch.cuda.is_available() else 'cpu')\n",
    "model.to(device)\n",
    "\n",
    "epochs = 10\n",
    "valid_loss_min = np.Inf\n",
    "\n",
    "for epoch in range(epochs):\n",
    "    train_loss = 0.0\n",
    "    valid_loss = 0.0\n",
    "\n",
    "    model.train()\n",
    "    cnt = 0\n",
    "    correct = 0\n",
    "    total = 0\n",
    "    cur_loss = 0\n",
    "    for data, target in tqdm(train_loader):\n",
    "        data, target = data.detach().to(device), target.to(device)\n",
    "        optimizer.zero_grad()\n",
    " \n",
    "        output = model(data)\n",
    "        loss = criterion(output, target)\n",
    "        loss.backward(retain_graph=True)\n",
    "        optimizer.step()\n",
    "\n",
    "        train_loss += loss.item() * data.size(0)\n",
    "        cur_loss += loss.item()\n",
    "\n",
    "        _ , predicted = torch.max(output.data, 1)\n",
    "        total += target.size(0)\n",
    "        correct += (predicted == target).sum().item()    \n",
    "\n",
    "        cnt += 1\n",
    "        if cnt % 1000 == 0:\n",
    "            print('Step {} \\tTraining Loss: {:.6f} \\tAccuracy: {:.6f}'.format(cnt, cur_loss / 1000, correct / total))\n",
    "            cur_loss = 0\n",
    "            total = 0\n",
    "            correct = 0\n",
    "\n",
    "    model.eval()\n",
    "    correct = 0\n",
    "    total = 0\n",
    "    all_predicted = []\n",
    "    all_target = []\n",
    "    for data, target in tqdm(valid_loader):\n",
    "        data, target = data.detach().to(device), target.to(device)\n",
    "\n",
    "        output = model(data)\n",
    "        loss = criterion(output, target)\n",
    "\n",
    "        valid_loss += loss.item() * data.size(0)\n",
    "\n",
    "        _, predicted = torch.max(output.data, 1)\n",
    "        total += target.size(0)\n",
    "        correct += (predicted == target).sum().item()\n",
    "\n",
    "        all_predicted.extend(predicted.tolist())\n",
    "        all_target.extend(target.tolist())\n",
    "\n",
    "    train_loss = train_loss / len(train_loader.dataset)\n",
    "    valid_loss = valid_loss / len(valid_loader.dataset)\n",
    "\n",
    "    accuracy = correct / total\n",
    "    f1 = f1_score(all_target, all_predicted, average='weighted')\n",
    "    f1_prime = f1_score(all_target, np.zeros_like(all_predicted), average='weighted')\n",
    "\n",
    "    print('Epoch: {} \\tTraining Loss: {:.6f} \\tValidation Loss: {:.6f}'.format(epoch, train_loss, valid_loss))\n",
    "    print('Accuracy: {:.6f} \\tF1: {:.6f} \\tF1 Prime: {:.6f}'.format(accuracy, f1, f1_prime))\n",
    "\n",
    "    if valid_loss <= valid_loss_min:\n",
    "        print('Validation loss decreased ({:.6f} --> {:.6f}). Saving model ...'.format(valid_loss_min, valid_loss))\n",
    "        torch.save(model.state_dict(), 'model_baseline.pt')\n",
    "        valid_loss_min = valid_loss\n"
   ]
  },
  {
   "cell_type": "code",
   "execution_count": 19,
   "metadata": {},
   "outputs": [
    {
     "name": "stderr",
     "output_type": "stream",
     "text": [
      "100%|██████████| 1445/1445 [00:03<00:00, 366.71it/s]\n"
     ]
    },
    {
     "name": "stdout",
     "output_type": "stream",
     "text": [
      "Distribution of classes in test set: \n",
      "Class 0: 70139\n",
      "Class 1: 4223\n",
      "Class 2: 9830\n",
      "Class 3: 8225\n",
      "Distribution of classes in prediction: \n",
      "Class 0: 60148\n",
      "Class 1: 3969\n",
      "Class 2: 16425\n",
      "Class 3: 11875\n",
      "Accuracy on test set: 70 %\n",
      "F1 on test set: 0.724797\n",
      "F1 prime on test set: 0.654929\n",
      "F1 random: 0.314968\n"
     ]
    }
   ],
   "source": [
    "from sklearn.metrics import f1_score\n",
    "\n",
    "# test\n",
    "model = BaseMLP(384, 4)\n",
    "model.load_state_dict(torch.load('model_baseline.pt'))\n",
    "\n",
    "model.eval()\n",
    "correct = 0\n",
    "total = 0\n",
    "all_predicted = []\n",
    "all_target = []\n",
    "for data, target in tqdm(test_loader):\n",
    "    data, target = data.detach().to(device), target.to(device)\n",
    "\n",
    "    output = model(data)\n",
    "\n",
    "    _, predicted = torch.max(output.data, 1)\n",
    "    total += target.size(0)\n",
    "    correct += (predicted == target).sum().item()\n",
    "\n",
    "    all_predicted.extend(predicted.tolist())\n",
    "    all_target.extend(target.tolist())\n",
    "\n",
    "\n",
    "\n",
    "# count numbers of class 0, 1, 2, 3\n",
    "print('Distribution of classes in test set: ')\n",
    "print('Class 0: %d' % all_target.count(0))\n",
    "print('Class 1: %d' % all_target.count(1))\n",
    "print('Class 2: %d' % all_target.count(2))\n",
    "print('Class 3: %d' % all_target.count(3))\n",
    "\n",
    "print('Distribution of classes in prediction: ')\n",
    "print('Class 0: %d' % all_predicted.count(0))\n",
    "print('Class 1: %d' % all_predicted.count(1))\n",
    "print('Class 2: %d' % all_predicted.count(2))\n",
    "print('Class 3: %d' % all_predicted.count(3))\n",
    "\n",
    "print('Accuracy on test set: %d %%' % (100 * correct / total))\n",
    "print('F1 on test set: %f' % f1_score(all_target, all_predicted, average='weighted'))\n",
    "print('F1 prime on test set: %f' % f1_score(all_target, np.zeros_like(all_predicted), average='weighted'))\n",
    "\n",
    "# try random guessing\n",
    "all_predicted_random = np.random.randint(0, 4, len(all_target))\n",
    "print('F1 random: %f' % f1_score(all_target, all_predicted_random, average='weighted'))\n"
   ]
  },
  {
   "cell_type": "code",
   "execution_count": 16,
   "metadata": {},
   "outputs": [
    {
     "name": "stdout",
     "output_type": "stream",
     "text": [
      "(259, 64)\n"
     ]
    }
   ],
   "source": [
    "voter_index = torch.tensor([i for i in range(len(voters))], dtype=torch.long)\n",
    "initial_embeddings = model.voter_embeddings(voter_index).detach().numpy()\n",
    "print(initial_embeddings.shape)"
   ]
  },
  {
   "cell_type": "code",
   "execution_count": 26,
   "metadata": {},
   "outputs": [
    {
     "name": "stdout",
     "output_type": "stream",
     "text": [
      "[13, 12, 4, 3, 11]\n"
     ]
    }
   ],
   "source": [
    "the_five = ['CHINA', 'FRANCE', 'RUSSIAN FEDERATION', 'UNITED KINGDOM', 'UNITED STATES']\n",
    "g_20 = ['ARGENTINA', 'AUSTRALIA', 'BRAZIL', 'CANADA', 'CHINA', 'FRANCE', 'GERMANY', 'INDIA', 'INDONESIA', 'ITALY', 'JAPAN', 'MEXICO', 'REPUBLIC OF KOREA', 'RUSSIAN FEDERATION', 'SAUDI ARABIA', 'SOUTH AFRICA', 'TURKEY', 'UNITED KINGDOM', 'UNITED STATES']\n",
    "\n",
    "the_five_index = [voters.index(v) for v in the_five]\n",
    "g_20_index = [voters.index(v) for v in g_20]\n",
    "\n",
    "print(the_five_index)"
   ]
  },
  {
   "cell_type": "code",
   "execution_count": 27,
   "metadata": {},
   "outputs": [
    {
     "data": {
      "image/png": "[encoded data removed]",
      "text/plain": [
       "<Figure size 800x600 with 1 Axes>"
      ]
     },
     "metadata": {},
     "output_type": "display_data"
    },
    {
     "data": {
      "image/png": "[encoded data removed]",
      "text/plain": [
       "<Figure size 800x600 with 1 Axes>"
      ]
     },
     "metadata": {},
     "output_type": "display_data"
    }
   ],
   "source": [
    "import matplotlib.pyplot as plt\n",
    "from sklearn.decomposition import PCA\n",
    "\n",
    "# Assuming initial_embeddings is your (292, 64) array\n",
    "# Perform PCA to reduce dimensions to 2\n",
    "pca = PCA(n_components=2)\n",
    "embeddings_2d = pca.fit_transform(initial_embeddings)\n",
    "\n",
    "embedding_2d_five = embeddings_2d[the_five_index]\n",
    "embedding_2d_g_20 = embeddings_2d[g_20_index]\n",
    "\n",
    "# Visualize the embeddings in a scatter plot\n",
    "plt.figure(figsize=(8, 6))\n",
    "plt.scatter(embeddings_2d[:, 0], embeddings_2d[:, 1], marker='o')\n",
    "\n",
    "plt.scatter(embedding_2d_five[:, 0], embedding_2d_five[:, 1], marker='o', color='red')\n",
    "plt.scatter(embedding_2d_g_20[:, 0], embedding_2d_g_20[:, 1], marker='o', color='green')\n",
    "\n",
    "# Annotating each point with its name\n",
    "for i, name in enumerate(the_five):\n",
    "    plt.annotate(name, (embedding_2d_five[i, 0], embedding_2d_five[i, 1]), textcoords=\"offset points\", xytext=(5,5), ha='center')\n",
    "\n",
    "\n",
    "plt.title('Visualization of 64-Dimensional Embeddings (Reduced to 2D)')\n",
    "plt.xlabel('Principal Component 1')\n",
    "plt.ylabel('Principal Component 2')\n",
    "plt.grid(True)\n",
    "plt.show()\n"
   ]
  },
  {
   "cell_type": "code",
   "execution_count": 18,
   "metadata": {},
   "outputs": [
    {
     "data": {
      "image/png": "[encoded data removed]",
      "text/plain": [
       "<Figure size 800x600 with 1 Axes>"
      ]
     },
     "metadata": {},
     "output_type": "display_data"
    }
   ],
   "source": [
    "import matplotlib.pyplot as plt\n",
    "from sklearn.decomposition import PCA\n",
    "\n",
    "# Assuming initial_embeddings is your (292, 64) array\n",
    "# Perform PCA to reduce dimensions to 2\n",
    "pca = PCA(n_components=2)\n",
    "embeddings_2d = pca.fit_transform(title_embeddings)\n",
    "\n",
    "# Visualize the embeddings in a scatter plot\n",
    "plt.figure(figsize=(8, 6))\n",
    "plt.scatter(embeddings_2d[:, 0], embeddings_2d[:, 1], marker='o')\n",
    "plt.title('Visualization of 64-Dimensional Embeddings (Reduced to 2D)')\n",
    "plt.xlabel('Principal Component 1')\n",
    "plt.ylabel('Principal Component 2')\n",
    "plt.grid(True)\n",
    "plt.show()"
   ]
  },
  {
   "cell_type": "code",
   "execution_count": null,
   "metadata": {},
   "outputs": [],
   "source": []
  }
 ],
 "metadata": {
  "kernelspec": {
   "display_name": "base",
   "language": "python",
   "name": "python3"
  },
  "language_info": {
   "codemirror_mode": {
    "name": "ipython",
    "version": 3
   },
   "file_extension": ".py",
   "mimetype": "text/x-python",
   "name": "python",
   "nbconvert_exporter": "python",
   "pygments_lexer": "ipython3",
   "version": "3.8.3"
  }
 },
 "nbformat": 4,
 "nbformat_minor": 2
}
