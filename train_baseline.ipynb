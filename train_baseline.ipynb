{
 "cells": [
  {
   "cell_type": "code",
   "execution_count": 24,
   "metadata": {},
   "outputs": [],
   "source": [
    "import numpy as np\n",
    "\n",
    "import torch\n",
    "import torch.nn as nn\n",
    "\n",
    "\n",
    "# Define the path to the embeddings .npy file\n",
    "embeddings_npy_path = 'data/embeddings.npy'\n",
    "\n",
    "# Load the embeddings from the .npy file\n",
    "title_embeddings = np.load(embeddings_npy_path)"
   ]
  },
  {
   "cell_type": "code",
   "execution_count": 25,
   "metadata": {},
   "outputs": [],
   "source": [
    "voting_dict = {\n",
    "    'Y': 0,\n",
    "    'N': 1,\n",
    "    'A': 2,\n",
    "    'X': 3,\n",
    "}"
   ]
  },
  {
   "cell_type": "code",
   "execution_count": 26,
   "metadata": {},
   "outputs": [
    {
     "name": "stdout",
     "output_type": "stream",
     "text": [
      "               Council        Date  \\\n",
      "0     Security Council  2016-12-13   \n",
      "1     Security Council  2020-06-22   \n",
      "2     Security Council  2016-12-14   \n",
      "3     Security Council  2016-12-12   \n",
      "4     Security Council  2005-09-23   \n",
      "...                ...         ...   \n",
      "7850  General Assembly  1976-10-21   \n",
      "7851  General Assembly  2021-12-06   \n",
      "7852  General Assembly  2021-12-06   \n",
      "7853  General Assembly  2021-12-06   \n",
      "7854  General Assembly  2021-12-06   \n",
      "\n",
      "                                                  Title        Resolution  \\\n",
      "0     Security Council resolution 2323 (2016) [on ex...  S/RES/2323(2016)   \n",
      "1     Security Council resolution 2527 (2020) [on ex...  S/RES/2527(2020)   \n",
      "2     Security Council resolution 2324 (2016) [on Se...  S/RES/2324(2016)   \n",
      "3     Security Council resolution 2322 (2016) [on in...  S/RES/2322(2016)   \n",
      "4     Security Council resolution 1627 (2005) [on ex...  S/RES/1627(2005)   \n",
      "...                                                 ...               ...   \n",
      "7850  Question of the Comorian island of Mayotte : r...        A/RES/31/4   \n",
      "7851  Follow-up to nuclear disarmament obligations a...       A/RES/76/31   \n",
      "7852  Compliance with non-proliferation, arms limita...       A/RES/76/33   \n",
      "7853  Ethical imperatives for a nuclear-weapon-free ...       A/RES/76/25   \n",
      "7854  Treaty on the Prohibition of Nuclear Weapons :...       A/RES/76/34   \n",
      "\n",
      "      TOTAL VOTES  NO-VOTE COUNT  ABSENT COUNT  NO COUNT  YES COUNT  \\\n",
      "0              15              0             0         0         15   \n",
      "1              15              0             0         0         15   \n",
      "2              15              0             0         0         15   \n",
      "3              15              0             0         0         15   \n",
      "4              15              0             0         0         15   \n",
      "...           ...            ...           ...       ...        ...   \n",
      "7850          145             14            28         1        102   \n",
      "7851          193             10            17        44        122   \n",
      "7852          193              7             9         3        174   \n",
      "7853          193              7            14        37        135   \n",
      "7854          193              7            16        42        128   \n",
      "\n",
      "                                                   Link  ...  SIAM  \\\n",
      "0     https://digitallibrary.un.org/record/852025?ln=en  ...   NaN   \n",
      "1     https://digitallibrary.un.org/record/3866679?l...  ...   NaN   \n",
      "2     https://digitallibrary.un.org/record/852028?ln=en  ...   NaN   \n",
      "3     https://digitallibrary.un.org/record/852020?ln=en  ...   NaN   \n",
      "4     https://digitallibrary.un.org/record/557118?ln=en  ...   NaN   \n",
      "...                                                 ...  ...   ...   \n",
      "7850  https://digitallibrary.un.org/record/622478?ln=en  ...   NaN   \n",
      "7851  https://digitallibrary.un.org/record/3950565?l...  ...   NaN   \n",
      "7852  https://digitallibrary.un.org/record/3950566?l...  ...   NaN   \n",
      "7853  https://digitallibrary.un.org/record/3950568?l...  ...   NaN   \n",
      "7854  https://digitallibrary.un.org/record/3950567?l...  ...   NaN   \n",
      "\n",
      "     REPULIC OF MOLDOVA PHILIPPINE REPUBLIC SURINAM  BELGIUM  \\\n",
      "0                   NaN                 NaN     NaN      NaN   \n",
      "1                   NaN                 NaN     NaN      NaN   \n",
      "2                   NaN                 NaN     NaN      NaN   \n",
      "3                   NaN                 NaN     NaN      NaN   \n",
      "4                   NaN                 NaN     NaN      NaN   \n",
      "...                 ...                 ...     ...      ...   \n",
      "7850                NaN                 NaN       A      NaN   \n",
      "7851                NaN                 NaN     NaN      NaN   \n",
      "7852                NaN                 NaN     NaN      NaN   \n",
      "7853                NaN                 NaN     NaN      NaN   \n",
      "7854                NaN                 NaN     NaN      NaN   \n",
      "\n",
      "     SAINT CHRISTOPHER AND NEVIS TKAZAKHSTAN DEMOCRATIC CAMPUCHEA  \\\n",
      "0                            NaN         NaN                  NaN   \n",
      "1                            NaN         NaN                  NaN   \n",
      "2                            NaN         NaN                  NaN   \n",
      "3                            NaN         NaN                  NaN   \n",
      "4                            NaN         NaN                  NaN   \n",
      "...                          ...         ...                  ...   \n",
      "7850                         NaN         NaN                  NaN   \n",
      "7851                         NaN         NaN                  NaN   \n",
      "7852                         NaN         NaN                  NaN   \n",
      "7853                         NaN         NaN                  NaN   \n",
      "7854                         NaN         NaN                  NaN   \n",
      "\n",
      "     CONGO (DEMOCRATIC REPUBLIC OF) index  \n",
      "0                               NaN     0  \n",
      "1                               NaN     1  \n",
      "2                               NaN     2  \n",
      "3                               NaN     3  \n",
      "4                               NaN     4  \n",
      "...                             ...   ...  \n",
      "7850                            NaN  7850  \n",
      "7851                            NaN  7851  \n",
      "7852                            NaN  7852  \n",
      "7853                            NaN  7853  \n",
      "7854                            NaN  7854  \n",
      "\n",
      "[7855 rows x 271 columns]\n"
     ]
    },
    {
     "name": "stderr",
     "output_type": "stream",
     "text": [
      "<ipython-input-26-6be2abe57bd6>:7: DtypeWarning: Columns (228,229,230,232,235,236,238,239,240,241,242,243,245,246,247,249,250,251,252,253,254,255,256,257,258,259,260,261,262,263,264,265,266,267,268,269) have mixed types. Specify dtype option on import or set low_memory=False.\n",
      "  df = pd.read_csv(voting_data_path)\n"
     ]
    }
   ],
   "source": [
    "import pandas as pd\n",
    "import json\n",
    "\n",
    "voting_data_path = 'data/UN_DATA.csv'\n",
    "\n",
    "# read in the data\n",
    "df = pd.read_csv(voting_data_path)\n",
    "df['index'] = df.index\n",
    "\n",
    "print(df)"
   ]
  },
  {
   "cell_type": "code",
   "execution_count": 31,
   "metadata": {},
   "outputs": [
    {
     "name": "stdout",
     "output_type": "stream",
     "text": [
      "['Council', 'Date', 'Title', 'Resolution', 'TOTAL VOTES', 'NO-VOTE COUNT', 'ABSENT COUNT', 'NO COUNT', 'YES COUNT', 'Link', 'token', 'SENEGAL', 'MALAYSIA', 'VENEZUELA (BOLIVARIAN REPUBLIC OF)', 'UNITED KINGDOM', 'RUSSIAN FEDERATION', 'JAPAN', 'ANGOLA', 'URUGUAY', 'SPAIN', 'EGYPT', 'NEW ZEALAND', 'UNITED STATES', 'FRANCE', 'CHINA', 'UKRAINE', 'NIGER', 'SAINT VINCENT AND THE GRENADINES', 'ESTONIA', 'SOUTH AFRICA', 'VIET NAM', 'BELGIUM', 'GERMANY', 'TUNISIA', 'INDONESIA', 'DOMINICAN REPUBLIC', 'BRAZIL', 'UNITED REPUBLIC OF TANZANIA', 'PHILIPPINES', 'ALGERIA', 'BENIN', 'DENMARK', 'ROMANIA', 'ARGENTINA', 'GREECE', 'AUSTRIA', 'SWITZERLAND', 'CYPRUS', 'MOZAMBIQUE', 'SUDAN', 'FIJI', 'BULGARIA', 'CUBA', 'UGANDA', 'ZAMBIA', 'SOUTH SUDAN', 'MONACO', 'REPUBLIC OF KOREA', 'REPUBLIC OF MOLDOVA', 'SAN MARINO', 'YEMEN', 'ITALY', 'BURUNDI', 'HUNGARY', 'CAMBODIA', 'MALAWI', 'NAURU', 'NICARAGUA', 'BRUNEI DARUSSALAM', 'POLAND', 'THAILAND', 'MALDIVES', 'SIERRA LEONE', 'TURKEY', 'CABO VERDE', 'PAPUA NEW GUINEA', 'MARSHALL ISLANDS', 'AZERBAIJAN', 'MADAGASCAR', 'CAMEROON', 'SAUDI ARABIA', 'IRAN (ISLAMIC REPUBLIC OF)', 'NEPAL', 'SAMOA', 'IRAQ', 'LIBYA', 'BAHRAIN', 'GUINEA', 'EQUATORIAL GUINEA', 'KYRGYZSTAN', 'ERITREA', 'KUWAIT', 'ARMENIA', 'MAURITANIA', 'SINGAPORE', 'CENTRAL AFRICAN REPUBLIC', 'PERU', 'LIECHTENSTEIN', 'NETHERLANDS', 'SERBIA', 'HAITI', 'IRELAND', 'KAZAKHSTAN', 'DJIBOUTI', \"DEMOCRATIC PEOPLE'S REPUBLIC OF KOREA\", 'BOSNIA AND HERZEGOVINA', 'PAKISTAN', 'SWEDEN', 'ZIMBABWE', 'SOMALIA', 'SLOVAKIA', 'AUSTRALIA', 'KIRIBATI', 'QATAR', 'LITHUANIA', 'ICELAND', 'LUXEMBOURG', 'ETHIOPIA', 'COMOROS', 'SRI LANKA', 'GUYANA', 'TONGA', 'UZBEKISTAN', 'VANUATU', 'LESOTHO', 'COLOMBIA', 'GUINEA-BISSAU', 'BOTSWANA', 'COSTA RICA', 'TAJIKISTAN', 'LIBERIA', \"COTE D'IVOIRE\", 'GABON', 'INDIA', 'ECUADOR', 'ESWATINI', 'SEYCHELLES', 'SAINT KITTS AND NEVIS', 'SOLOMON ISLANDS', 'MAURITIUS', 'ANDORRA', 'SAO TOME AND PRINCIPE', 'BELARUS', 'PALAU', 'GEORGIA', 'MYANMAR', 'AFGHANISTAN', 'CZECHIA', 'MEXICO', 'BANGLADESH', 'FINLAND', 'ISRAEL', 'HONDURAS', 'MALI', 'NORTH MACEDONIA', 'LEBANON', 'BARBADOS', 'BHUTAN', 'MOROCCO', 'MALTA', 'SURINAME', 'CANADA', 'UNITED ARAB EMIRATES', 'CROATIA', 'KENYA', 'RWANDA', 'CONGO', 'GUATEMALA', 'ANTIGUA AND BARBUDA', 'LATVIA', 'TOGO', 'GRENADA', 'NAMIBIA', 'SYRIAN ARAB REPUBLIC', 'NORWAY', 'CHILE', 'DOMINICA', 'ALBANIA', 'TRINIDAD AND TOBAGO', 'PANAMA', 'MONTENEGRO', 'NIGERIA', 'GHANA', 'OMAN', 'SLOVENIA', 'BAHAMAS', 'JAMAICA', 'BOLIVIA (PLURINATIONAL STATE OF)', 'SAINT LUCIA', 'MONGOLIA', 'PORTUGAL', 'DEMOCRATIC REPUBLIC OF THE CONGO', 'EL SALVADOR', 'GAMBIA', 'TURKMENISTAN', 'MICRONESIA (FEDERATED STATES OF)', 'TIMOR-LESTE', 'BELIZE', 'CHAD', 'BURKINA FASO', \"LAO PEOPLE'S DEMOCRATIC REPUBLIC\", 'TUVALU', 'JORDAN', 'PARAGUAY', 'SERBIA AND MONTENEGRO', 'BOLIVIA', 'THE FORMER YUGOSLAV REPUBLIC OF MACEDONIA', 'CAPE VERDE', 'CZECH REPUBLIC', 'VENEZUELA', 'SWAZILAND', 'LIBYAN ARAB JAMAHIRIYA', 'YUGOSLAVIA', 'MOLDOVA', 'UPPER VOLTA', 'DEMOCRATIC YEMEN', 'IVORY COAST', 'UKRAINIAN SSR', \"LAO PEOPLE's DEMOCRATIC REPUBLIC\", 'BYELORUSSIAN SSR', 'DEMOCRATIC KAMPUCHEA', 'UNITED REPUBLIC OF CAMEROON', 'GERMAN DEMOCRATIC REPUBLIC', 'BURMA', 'ZAIRE', 'GERMANY, FEDERAL REPUBLIC OF', 'USSR', 'CZECHOSLOVAKIA', 'COTE D’IVOIRE', 'PLURINATIONAL STATE OF BOLIVIA', 'LIBYAN ARAB REPUBLIC', 'IRAN', 'KHMER REPUBLIC', 'LAOS', 'CEYLON', 'DAHOMEY', 'UNITED ARAB REPUBLIC', 'SYRIA', 'SOUTHERN YEMEN', 'CONGO (BRAZZAVILLE)', 'CONGO (LEOPOLDVILLE)', ' UNITED KINGDOM', ' UNITED STATES', 'Aa UNITED STATES', 'CENTRAL AFRICAN EMPIRE', 'MALDIVE ISLANDS', 'CHILEs ', 'AY DENMARK', 'UNION OF SOUTH AFRICA', 'FEDERATION OF MALAYA', 'TANGANYIKA', ' CHILE', ' SOMALIA', ' ALGERIA', 'SERBIAMONTENEGRO', 'DONOTKNOW', 'ZANZIBAR', 'BOLIVIA (PLURINATIOANL STATE OF)', 'AY UNION OF SOUTH AFRICA', 'AY SWEDEN', 'BOLIVIA (PLUNATIONAL STATE OF)', 'SIAM', 'REPULIC OF MOLDOVA', 'PHILIPPINE REPUBLIC', 'SURINAM', ' BELGIUM', 'SAINT CHRISTOPHER AND NEVIS', 'TKAZAKHSTAN', 'DEMOCRATIC CAMPUCHEA', 'CONGO (DEMOCRATIC REPUBLIC OF)', 'index']\n",
      "tensor([[-0.3249, -0.1641,  0.3013, -0.4907,  0.8348,  0.7602,  0.0816, -1.8210,\n",
      "         -1.5291, -0.0198,  0.2298, -1.3971, -0.7717,  1.2199,  0.2952, -0.2108,\n",
      "          0.0669, -0.0884, -1.9005,  1.4454,  0.0789, -0.3946,  2.9301,  0.1703,\n",
      "          1.1173, -0.0659,  0.9683, -0.3474,  1.5440, -0.3691, -0.8355,  0.0108,\n",
      "         -1.2315, -0.0219,  0.0422, -0.4051, -0.4242,  0.7397, -0.0962, -0.3985,\n",
      "          1.0542, -0.4330,  0.8505, -1.4017,  0.7398,  0.1491,  1.5274, -1.4577,\n",
      "          0.7614,  0.1850,  0.8118, -0.6355,  0.9738, -0.6847, -0.5556,  0.2937,\n",
      "         -0.8257,  0.8527, -0.9178,  1.0576,  0.1726, -0.3370,  2.0729, -0.6644]],\n",
      "       grad_fn=<EmbeddingBackward0>)\n"
     ]
    }
   ],
   "source": [
    "title_line = df.columns.values.tolist()\n",
    "\n",
    "print(title_line)\n",
    "\n",
    "voters = title_line[11: -1]\n",
    "\n",
    "voter_embedding_dim = 64"
   ]
  },
  {
   "cell_type": "code",
   "execution_count": 84,
   "metadata": {},
   "outputs": [],
   "source": [
    "\n",
    "class BaseMLP(nn.Module):\n",
    "    def __init__(self, input_size, hidden_size, output_size):\n",
    "        super(BaseMLP, self).__init__()\n",
    "\n",
    "        self.voter_embeddings = nn.Embedding(len(voters), voter_embedding_dim)\n",
    "        self.proj = nn.Linear(384, 64)\n",
    "\n",
    "        self.fc1 = nn.Linear(input_size, hidden_size)\n",
    "        self.relu1 = nn.ReLU()\n",
    "        self.fc2 = nn.Linear(hidden_size, hidden_size)\n",
    "        self.relu2 = nn.ReLU()\n",
    "        self.fc3 = nn.Linear(hidden_size, hidden_size)\n",
    "        self.relu3 = nn.ReLU()\n",
    "        self.fc4 = nn.Linear(hidden_size, output_size)\n",
    "        self.softmax = nn.Softmax(dim=1)\n",
    "        \n",
    "\n",
    "\n",
    "    def forward(self, x):\n",
    "        idx = x[:, -1].long()\n",
    "        title = x[:, :-1].float()\n",
    "\n",
    "        voter_embed = self.voter_embeddings(idx)\n",
    "        title_embed = self.proj(title)\n",
    "\n",
    "        x = torch.cat((voter_embed, title_embed), dim=1)\n",
    "\n",
    "        x = self.fc1(x)\n",
    "        x = self.relu1(x)\n",
    "        x = self.fc2(x)\n",
    "        x = self.relu2(x)\n",
    "        x = self.fc3(x)\n",
    "        x = self.relu3(x)\n",
    "        x = self.fc4(x)\n",
    "        out = self.softmax(x)\n",
    "        return out"
   ]
  },
  {
   "cell_type": "code",
   "execution_count": 78,
   "metadata": {},
   "outputs": [],
   "source": [
    "import pandas as pd\n",
    "import torch\n",
    "from tqdm import tqdm\n",
    "from torch.utils.data import Dataset, DataLoader\n",
    "from sklearn.model_selection import train_test_split\n",
    "\n",
    "class VoterDataset(Dataset):\n",
    "    def __init__(self, data):\n",
    "        self.data = data \n",
    "        print('data shape: ', self.data.shape)\n",
    "        print(data.index)\n",
    "\n",
    "        self.features = []\n",
    "        self.labels = []\n",
    "\n",
    "        # for each line\n",
    "        for i in tqdm(range(len(self.data))):\n",
    "            index = self.data.iloc[i]['index']\n",
    "            cur_line = self.data.iloc[i]\n",
    "            title_feature = title_embeddings[index]\n",
    "\n",
    "            for i, voter in enumerate(voters):\n",
    "                vote = cur_line[voter]\n",
    "\n",
    "                if vote not in voting_dict:\n",
    "                    continue\n",
    "\n",
    "                feature = np.concatenate((title_feature, [i]), 0)\n",
    "\n",
    "                self.features.append(feature)\n",
    "                self.labels.append(voting_dict[vote])\n",
    "\n",
    "    def __len__(self):\n",
    "        return len(self.labels)\n",
    "\n",
    "    def __getitem__(self, idx):\n",
    "        return self.features[idx], self.labels[idx]\n",
    "        "
   ]
  },
  {
   "cell_type": "code",
   "execution_count": 79,
   "metadata": {},
   "outputs": [
    {
     "name": "stdout",
     "output_type": "stream",
     "text": [
      "data shape:  (6284, 271)\n",
      "Index([6072,  432, 6001, 6308, 2118, 3832, 4398, 1108, 5523, 7678,\n",
      "       ...\n",
      "       6265, 5734, 3092, 3772, 5191, 5226, 5390,  860, 7603, 7270],\n",
      "      dtype='int64', length=6284)\n"
     ]
    },
    {
     "name": "stderr",
     "output_type": "stream",
     "text": [
      "100%|██████████| 6284/6284 [00:45<00:00, 137.54it/s]\n"
     ]
    },
    {
     "name": "stdout",
     "output_type": "stream",
     "text": [
      "data shape:  (785, 271)\n",
      "Index([6321, 1103, 2897, 1869, 1487,  828, 6353, 4477,  251, 1671,\n",
      "       ...\n",
      "       7658, 7847, 4999, 1172, 1242, 7204, 6607, 5260, 3859, 3121],\n",
      "      dtype='int64', length=785)\n"
     ]
    },
    {
     "name": "stderr",
     "output_type": "stream",
     "text": [
      "100%|██████████| 785/785 [00:03<00:00, 203.53it/s]\n"
     ]
    },
    {
     "name": "stdout",
     "output_type": "stream",
     "text": [
      "data shape:  (786, 271)\n",
      "Index([4231,  308, 1017, 6682, 6043, 1406,  334, 3194, 4270,  381,\n",
      "       ...\n",
      "        425, 5498, 3855, 7836, 5381, 4755, 1407, 4575,  982, 3413],\n",
      "      dtype='int64', length=786)\n"
     ]
    },
    {
     "name": "stderr",
     "output_type": "stream",
     "text": [
      "100%|██████████| 786/786 [00:03<00:00, 256.57it/s]\n"
     ]
    }
   ],
   "source": [
    "train_data, test_data = train_test_split(df, test_size=0.2, random_state=42)\n",
    "valid_data, test_data = train_test_split(test_data, test_size=0.5, random_state=42)\n",
    "\n",
    "train_dataset = VoterDataset(train_data)\n",
    "valid_dataset = VoterDataset(valid_data)\n",
    "test_dataset = VoterDataset(test_data)"
   ]
  },
  {
   "cell_type": "code",
   "execution_count": 80,
   "metadata": {},
   "outputs": [],
   "source": [
    "\n",
    "train_loader = DataLoader(train_dataset, batch_size=64, shuffle=True)\n",
    "valid_loader = DataLoader(valid_dataset, batch_size=64)\n",
    "test_loader = DataLoader(test_dataset, batch_size=64)"
   ]
  },
  {
   "cell_type": "code",
   "execution_count": 91,
   "metadata": {},
   "outputs": [
    {
     "name": "stderr",
     "output_type": "stream",
     "text": [
      "  9%|▉         | 1019/11161 [00:08<01:09, 146.24it/s]"
     ]
    },
    {
     "name": "stdout",
     "output_type": "stream",
     "text": [
      "Step 1000 \tTraining Loss: 1.216822 \tAccuracy: 0.655297\n"
     ]
    },
    {
     "name": "stderr",
     "output_type": "stream",
     "text": [
      " 18%|█▊        | 2015/11161 [00:17<01:06, 138.27it/s]"
     ]
    },
    {
     "name": "stdout",
     "output_type": "stream",
     "text": [
      "Step 2000 \tTraining Loss: 1.173457 \tAccuracy: 0.674922\n"
     ]
    },
    {
     "name": "stderr",
     "output_type": "stream",
     "text": [
      " 27%|██▋       | 3027/11161 [00:24<00:55, 146.74it/s]"
     ]
    },
    {
     "name": "stdout",
     "output_type": "stream",
     "text": [
      "Step 3000 \tTraining Loss: 1.157563 \tAccuracy: 0.697922\n"
     ]
    },
    {
     "name": "stderr",
     "output_type": "stream",
     "text": [
      " 36%|███▌      | 4023/11161 [00:31<00:46, 154.68it/s]"
     ]
    },
    {
     "name": "stdout",
     "output_type": "stream",
     "text": [
      "Step 4000 \tTraining Loss: 1.154853 \tAccuracy: 0.692312\n"
     ]
    },
    {
     "name": "stderr",
     "output_type": "stream",
     "text": [
      " 45%|████▌     | 5027/11161 [00:39<00:43, 141.62it/s]"
     ]
    },
    {
     "name": "stdout",
     "output_type": "stream",
     "text": [
      "Step 5000 \tTraining Loss: 1.149897 \tAccuracy: 0.684344\n"
     ]
    },
    {
     "name": "stderr",
     "output_type": "stream",
     "text": [
      " 54%|█████▍    | 6026/11161 [00:46<00:37, 138.57it/s]"
     ]
    },
    {
     "name": "stdout",
     "output_type": "stream",
     "text": [
      "Step 6000 \tTraining Loss: 1.153370 \tAccuracy: 0.683109\n"
     ]
    },
    {
     "name": "stderr",
     "output_type": "stream",
     "text": [
      " 63%|██████▎   | 7022/11161 [00:54<00:32, 125.63it/s]"
     ]
    },
    {
     "name": "stdout",
     "output_type": "stream",
     "text": [
      "Step 7000 \tTraining Loss: 1.146099 \tAccuracy: 0.693594\n"
     ]
    },
    {
     "name": "stderr",
     "output_type": "stream",
     "text": [
      " 72%|███████▏  | 8017/11161 [01:03<00:26, 118.77it/s]"
     ]
    },
    {
     "name": "stdout",
     "output_type": "stream",
     "text": [
      "Step 8000 \tTraining Loss: 1.145101 \tAccuracy: 0.683281\n"
     ]
    },
    {
     "name": "stderr",
     "output_type": "stream",
     "text": [
      " 81%|████████  | 9023/11161 [01:11<00:16, 126.06it/s]"
     ]
    },
    {
     "name": "stdout",
     "output_type": "stream",
     "text": [
      "Step 9000 \tTraining Loss: 1.141245 \tAccuracy: 0.698250\n"
     ]
    },
    {
     "name": "stderr",
     "output_type": "stream",
     "text": [
      " 90%|████████▉ | 10027/11161 [01:18<00:08, 136.72it/s]"
     ]
    },
    {
     "name": "stdout",
     "output_type": "stream",
     "text": [
      "Step 10000 \tTraining Loss: 1.136581 \tAccuracy: 0.703719\n"
     ]
    },
    {
     "name": "stderr",
     "output_type": "stream",
     "text": [
      " 99%|█████████▊| 11017/11161 [01:26<00:01, 135.60it/s]"
     ]
    },
    {
     "name": "stdout",
     "output_type": "stream",
     "text": [
      "Step 11000 \tTraining Loss: 1.133211 \tAccuracy: 0.703719\n"
     ]
    },
    {
     "name": "stderr",
     "output_type": "stream",
     "text": [
      "100%|██████████| 11161/11161 [01:27<00:00, 127.26it/s]\n",
      "100%|██████████| 1422/1422 [00:02<00:00, 527.02it/s]\n"
     ]
    },
    {
     "name": "stdout",
     "output_type": "stream",
     "text": [
      "Epoch: 0 \tTraining Loss: 1.155103 \tValidation Loss: 1.138838\n",
      "Accuracy: 0.652750 \tF1: 0.685827 \tF1 Prime: 0.659354\n",
      "Validation loss decreased (inf --> 1.138838). Saving model ...\n"
     ]
    },
    {
     "name": "stderr",
     "output_type": "stream",
     "text": [
      "  9%|▉         | 1019/11161 [00:07<01:23, 120.95it/s]"
     ]
    },
    {
     "name": "stdout",
     "output_type": "stream",
     "text": [
      "Step 1000 \tTraining Loss: 1.132361 \tAccuracy: 0.701750\n"
     ]
    },
    {
     "name": "stderr",
     "output_type": "stream",
     "text": [
      " 18%|█▊        | 2016/11161 [00:15<01:03, 143.01it/s]"
     ]
    },
    {
     "name": "stdout",
     "output_type": "stream",
     "text": [
      "Step 2000 \tTraining Loss: 1.133441 \tAccuracy: 0.702438\n"
     ]
    },
    {
     "name": "stderr",
     "output_type": "stream",
     "text": [
      " 27%|██▋       | 3025/11161 [00:23<01:01, 132.39it/s]"
     ]
    },
    {
     "name": "stdout",
     "output_type": "stream",
     "text": [
      "Step 3000 \tTraining Loss: 1.129238 \tAccuracy: 0.703219\n"
     ]
    },
    {
     "name": "stderr",
     "output_type": "stream",
     "text": [
      " 36%|███▌      | 4019/11161 [00:31<01:11, 99.22it/s] "
     ]
    },
    {
     "name": "stdout",
     "output_type": "stream",
     "text": [
      "Step 4000 \tTraining Loss: 1.143466 \tAccuracy: 0.711484\n"
     ]
    },
    {
     "name": "stderr",
     "output_type": "stream",
     "text": [
      " 45%|████▌     | 5024/11161 [00:39<00:44, 138.06it/s]"
     ]
    },
    {
     "name": "stdout",
     "output_type": "stream",
     "text": [
      "Step 5000 \tTraining Loss: 1.132655 \tAccuracy: 0.718219\n"
     ]
    },
    {
     "name": "stderr",
     "output_type": "stream",
     "text": [
      " 54%|█████▍    | 6025/11161 [00:47<00:40, 127.74it/s]"
     ]
    },
    {
     "name": "stdout",
     "output_type": "stream",
     "text": [
      "Step 6000 \tTraining Loss: 1.135216 \tAccuracy: 0.718328\n"
     ]
    },
    {
     "name": "stderr",
     "output_type": "stream",
     "text": [
      " 63%|██████▎   | 7026/11161 [00:55<00:30, 134.67it/s]"
     ]
    },
    {
     "name": "stdout",
     "output_type": "stream",
     "text": [
      "Step 7000 \tTraining Loss: 1.127354 \tAccuracy: 0.717047\n"
     ]
    },
    {
     "name": "stderr",
     "output_type": "stream",
     "text": [
      " 72%|███████▏  | 8024/11161 [01:03<00:26, 118.62it/s]"
     ]
    },
    {
     "name": "stdout",
     "output_type": "stream",
     "text": [
      "Step 8000 \tTraining Loss: 1.130777 \tAccuracy: 0.715172\n"
     ]
    },
    {
     "name": "stderr",
     "output_type": "stream",
     "text": [
      " 81%|████████  | 9016/11161 [01:11<00:16, 130.28it/s]"
     ]
    },
    {
     "name": "stdout",
     "output_type": "stream",
     "text": [
      "Step 9000 \tTraining Loss: 1.125994 \tAccuracy: 0.710078\n"
     ]
    },
    {
     "name": "stderr",
     "output_type": "stream",
     "text": [
      " 90%|████████▉ | 10020/11161 [01:19<00:08, 132.15it/s]"
     ]
    },
    {
     "name": "stdout",
     "output_type": "stream",
     "text": [
      "Step 10000 \tTraining Loss: 1.124351 \tAccuracy: 0.712688\n"
     ]
    },
    {
     "name": "stderr",
     "output_type": "stream",
     "text": [
      " 99%|█████████▊| 11019/11161 [01:27<00:00, 145.39it/s]"
     ]
    },
    {
     "name": "stdout",
     "output_type": "stream",
     "text": [
      "Step 11000 \tTraining Loss: 1.124254 \tAccuracy: 0.714828\n"
     ]
    },
    {
     "name": "stderr",
     "output_type": "stream",
     "text": [
      "100%|██████████| 11161/11161 [01:28<00:00, 126.03it/s]\n",
      "100%|██████████| 1422/1422 [00:02<00:00, 533.98it/s]\n"
     ]
    },
    {
     "name": "stdout",
     "output_type": "stream",
     "text": [
      "Epoch: 1 \tTraining Loss: 1.130737 \tValidation Loss: 1.115664\n",
      "Accuracy: 0.717908 \tF1: 0.734509 \tF1 Prime: 0.659354\n",
      "Validation loss decreased (1.138838 --> 1.115664). Saving model ...\n"
     ]
    },
    {
     "name": "stderr",
     "output_type": "stream",
     "text": [
      "  9%|▉         | 1027/11161 [00:08<01:15, 134.75it/s]"
     ]
    },
    {
     "name": "stdout",
     "output_type": "stream",
     "text": [
      "Step 1000 \tTraining Loss: 1.127040 \tAccuracy: 0.706812\n"
     ]
    },
    {
     "name": "stderr",
     "output_type": "stream",
     "text": [
      " 18%|█▊        | 2022/11161 [00:16<01:09, 132.38it/s]"
     ]
    },
    {
     "name": "stdout",
     "output_type": "stream",
     "text": [
      "Step 2000 \tTraining Loss: 1.116017 \tAccuracy: 0.708438\n"
     ]
    },
    {
     "name": "stderr",
     "output_type": "stream",
     "text": [
      " 27%|██▋       | 3020/11161 [00:25<01:09, 117.16it/s]"
     ]
    },
    {
     "name": "stdout",
     "output_type": "stream",
     "text": [
      "Step 3000 \tTraining Loss: 1.117680 \tAccuracy: 0.696734\n"
     ]
    },
    {
     "name": "stderr",
     "output_type": "stream",
     "text": [
      " 36%|███▌      | 4010/11161 [00:33<00:54, 130.06it/s]"
     ]
    },
    {
     "name": "stdout",
     "output_type": "stream",
     "text": [
      "Step 4000 \tTraining Loss: 1.124277 \tAccuracy: 0.704578\n"
     ]
    },
    {
     "name": "stderr",
     "output_type": "stream",
     "text": [
      " 45%|████▍     | 5021/11161 [00:41<00:44, 138.67it/s]"
     ]
    },
    {
     "name": "stdout",
     "output_type": "stream",
     "text": [
      "Step 5000 \tTraining Loss: 1.118675 \tAccuracy: 0.707656\n"
     ]
    },
    {
     "name": "stderr",
     "output_type": "stream",
     "text": [
      " 54%|█████▍    | 6016/11161 [00:49<00:36, 141.48it/s]"
     ]
    },
    {
     "name": "stdout",
     "output_type": "stream",
     "text": [
      "Step 6000 \tTraining Loss: 1.112841 \tAccuracy: 0.702187\n"
     ]
    },
    {
     "name": "stderr",
     "output_type": "stream",
     "text": [
      " 63%|██████▎   | 7016/11161 [00:57<00:32, 126.58it/s]"
     ]
    },
    {
     "name": "stdout",
     "output_type": "stream",
     "text": [
      "Step 7000 \tTraining Loss: 1.116511 \tAccuracy: 0.704031\n"
     ]
    },
    {
     "name": "stderr",
     "output_type": "stream",
     "text": [
      " 72%|███████▏  | 8018/11161 [01:04<00:24, 128.41it/s]"
     ]
    },
    {
     "name": "stdout",
     "output_type": "stream",
     "text": [
      "Step 8000 \tTraining Loss: 1.117063 \tAccuracy: 0.713437\n"
     ]
    },
    {
     "name": "stderr",
     "output_type": "stream",
     "text": [
      " 81%|████████  | 9024/11161 [01:13<00:20, 105.42it/s]"
     ]
    },
    {
     "name": "stdout",
     "output_type": "stream",
     "text": [
      "Step 9000 \tTraining Loss: 1.112108 \tAccuracy: 0.717234\n"
     ]
    },
    {
     "name": "stderr",
     "output_type": "stream",
     "text": [
      " 90%|████████▉ | 10021/11161 [01:21<00:08, 131.27it/s]"
     ]
    },
    {
     "name": "stdout",
     "output_type": "stream",
     "text": [
      "Step 10000 \tTraining Loss: 1.116663 \tAccuracy: 0.708641\n"
     ]
    },
    {
     "name": "stderr",
     "output_type": "stream",
     "text": [
      " 99%|█████████▉| 11023/11161 [01:29<00:01, 128.13it/s]"
     ]
    },
    {
     "name": "stdout",
     "output_type": "stream",
     "text": [
      "Step 11000 \tTraining Loss: 1.113683 \tAccuracy: 0.718594\n"
     ]
    },
    {
     "name": "stderr",
     "output_type": "stream",
     "text": [
      "100%|██████████| 11161/11161 [01:30<00:00, 122.78it/s]\n",
      "100%|██████████| 1422/1422 [00:02<00:00, 553.20it/s]\n"
     ]
    },
    {
     "name": "stdout",
     "output_type": "stream",
     "text": [
      "Epoch: 2 \tTraining Loss: 1.117563 \tValidation Loss: 1.104913\n",
      "Accuracy: 0.706610 \tF1: 0.728895 \tF1 Prime: 0.659354\n",
      "Validation loss decreased (1.115664 --> 1.104913). Saving model ...\n"
     ]
    },
    {
     "name": "stderr",
     "output_type": "stream",
     "text": [
      "  9%|▉         | 1019/11161 [00:08<01:14, 136.48it/s]"
     ]
    },
    {
     "name": "stdout",
     "output_type": "stream",
     "text": [
      "Step 1000 \tTraining Loss: 1.108066 \tAccuracy: 0.715344\n"
     ]
    },
    {
     "name": "stderr",
     "output_type": "stream",
     "text": [
      " 18%|█▊        | 2020/11161 [00:16<01:09, 131.86it/s]"
     ]
    },
    {
     "name": "stdout",
     "output_type": "stream",
     "text": [
      "Step 2000 \tTraining Loss: 1.105016 \tAccuracy: 0.708219\n"
     ]
    },
    {
     "name": "stderr",
     "output_type": "stream",
     "text": [
      " 27%|██▋       | 3006/11161 [00:23<01:03, 127.90it/s]"
     ]
    },
    {
     "name": "stdout",
     "output_type": "stream",
     "text": [
      "Step 3000 \tTraining Loss: 1.113802 \tAccuracy: 0.705547\n"
     ]
    },
    {
     "name": "stderr",
     "output_type": "stream",
     "text": [
      " 36%|███▌      | 4020/11161 [00:32<00:54, 130.86it/s]"
     ]
    },
    {
     "name": "stdout",
     "output_type": "stream",
     "text": [
      "Step 4000 \tTraining Loss: 1.109323 \tAccuracy: 0.707547\n"
     ]
    },
    {
     "name": "stderr",
     "output_type": "stream",
     "text": [
      " 45%|████▍     | 5020/11161 [00:40<00:48, 126.30it/s]"
     ]
    },
    {
     "name": "stdout",
     "output_type": "stream",
     "text": [
      "Step 5000 \tTraining Loss: 1.104520 \tAccuracy: 0.704703\n"
     ]
    },
    {
     "name": "stderr",
     "output_type": "stream",
     "text": [
      " 54%|█████▍    | 6020/11161 [00:48<00:41, 124.43it/s]"
     ]
    },
    {
     "name": "stdout",
     "output_type": "stream",
     "text": [
      "Step 6000 \tTraining Loss: 1.102596 \tAccuracy: 0.716297\n"
     ]
    },
    {
     "name": "stderr",
     "output_type": "stream",
     "text": [
      " 63%|██████▎   | 7017/11161 [00:56<00:32, 126.56it/s]"
     ]
    },
    {
     "name": "stdout",
     "output_type": "stream",
     "text": [
      "Step 7000 \tTraining Loss: 1.101149 \tAccuracy: 0.715266\n"
     ]
    },
    {
     "name": "stderr",
     "output_type": "stream",
     "text": [
      " 72%|███████▏  | 8020/11161 [01:04<00:23, 135.93it/s]"
     ]
    },
    {
     "name": "stdout",
     "output_type": "stream",
     "text": [
      "Step 8000 \tTraining Loss: 1.101029 \tAccuracy: 0.709391\n"
     ]
    },
    {
     "name": "stderr",
     "output_type": "stream",
     "text": [
      " 81%|████████  | 9016/11161 [01:12<00:18, 117.91it/s]"
     ]
    },
    {
     "name": "stdout",
     "output_type": "stream",
     "text": [
      "Step 9000 \tTraining Loss: 1.106821 \tAccuracy: 0.708937\n"
     ]
    },
    {
     "name": "stderr",
     "output_type": "stream",
     "text": [
      " 90%|████████▉ | 10023/11161 [01:21<00:08, 126.94it/s]"
     ]
    },
    {
     "name": "stdout",
     "output_type": "stream",
     "text": [
      "Step 10000 \tTraining Loss: 1.107146 \tAccuracy: 0.708078\n"
     ]
    },
    {
     "name": "stderr",
     "output_type": "stream",
     "text": [
      " 99%|█████████▊| 11017/11161 [01:32<00:01, 89.94it/s] "
     ]
    },
    {
     "name": "stdout",
     "output_type": "stream",
     "text": [
      "Step 11000 \tTraining Loss: 1.106357 \tAccuracy: 0.710234\n"
     ]
    },
    {
     "name": "stderr",
     "output_type": "stream",
     "text": [
      "100%|██████████| 11161/11161 [01:33<00:00, 118.82it/s]\n",
      "100%|██████████| 1422/1422 [00:04<00:00, 320.75it/s]\n"
     ]
    },
    {
     "name": "stdout",
     "output_type": "stream",
     "text": [
      "Epoch: 3 \tTraining Loss: 1.105956 \tValidation Loss: 1.096554\n",
      "Accuracy: 0.695082 \tF1: 0.721962 \tF1 Prime: 0.659354\n",
      "Validation loss decreased (1.104913 --> 1.096554). Saving model ...\n"
     ]
    },
    {
     "name": "stderr",
     "output_type": "stream",
     "text": [
      "  9%|▉         | 1011/11161 [00:09<01:38, 102.54it/s]"
     ]
    },
    {
     "name": "stdout",
     "output_type": "stream",
     "text": [
      "Step 1000 \tTraining Loss: 1.099156 \tAccuracy: 0.709781\n"
     ]
    },
    {
     "name": "stderr",
     "output_type": "stream",
     "text": [
      " 18%|█▊        | 2014/11161 [00:20<01:33, 97.37it/s] "
     ]
    },
    {
     "name": "stdout",
     "output_type": "stream",
     "text": [
      "Step 2000 \tTraining Loss: 1.094018 \tAccuracy: 0.712234\n"
     ]
    },
    {
     "name": "stderr",
     "output_type": "stream",
     "text": [
      " 27%|██▋       | 3010/11161 [00:29<01:08, 119.85it/s]"
     ]
    },
    {
     "name": "stdout",
     "output_type": "stream",
     "text": [
      "Step 3000 \tTraining Loss: 1.099055 \tAccuracy: 0.710922\n"
     ]
    },
    {
     "name": "stderr",
     "output_type": "stream",
     "text": [
      " 36%|███▌      | 4010/11161 [00:38<01:03, 112.38it/s]"
     ]
    },
    {
     "name": "stdout",
     "output_type": "stream",
     "text": [
      "Step 4000 \tTraining Loss: 1.106537 \tAccuracy: 0.703891\n"
     ]
    },
    {
     "name": "stderr",
     "output_type": "stream",
     "text": [
      " 45%|████▍     | 5015/11161 [00:47<00:52, 117.96it/s]"
     ]
    },
    {
     "name": "stdout",
     "output_type": "stream",
     "text": [
      "Step 5000 \tTraining Loss: 1.099535 \tAccuracy: 0.703328\n"
     ]
    },
    {
     "name": "stderr",
     "output_type": "stream",
     "text": [
      " 54%|█████▍    | 6013/11161 [00:58<00:48, 106.20it/s]"
     ]
    },
    {
     "name": "stdout",
     "output_type": "stream",
     "text": [
      "Step 6000 \tTraining Loss: 1.097907 \tAccuracy: 0.709422\n"
     ]
    },
    {
     "name": "stderr",
     "output_type": "stream",
     "text": [
      " 63%|██████▎   | 7022/11161 [01:09<00:35, 118.13it/s]"
     ]
    },
    {
     "name": "stdout",
     "output_type": "stream",
     "text": [
      "Step 7000 \tTraining Loss: 1.089423 \tAccuracy: 0.708531\n"
     ]
    },
    {
     "name": "stderr",
     "output_type": "stream",
     "text": [
      " 72%|███████▏  | 8021/11161 [01:17<00:26, 120.57it/s]"
     ]
    },
    {
     "name": "stdout",
     "output_type": "stream",
     "text": [
      "Step 8000 \tTraining Loss: 1.095217 \tAccuracy: 0.711641\n"
     ]
    },
    {
     "name": "stderr",
     "output_type": "stream",
     "text": [
      " 81%|████████  | 9025/11161 [01:26<00:17, 125.28it/s]"
     ]
    },
    {
     "name": "stdout",
     "output_type": "stream",
     "text": [
      "Step 9000 \tTraining Loss: 1.094350 \tAccuracy: 0.708078\n"
     ]
    },
    {
     "name": "stderr",
     "output_type": "stream",
     "text": [
      " 90%|████████▉ | 10020/11161 [01:35<00:09, 121.11it/s]"
     ]
    },
    {
     "name": "stdout",
     "output_type": "stream",
     "text": [
      "Step 10000 \tTraining Loss: 1.096931 \tAccuracy: 0.711078\n"
     ]
    },
    {
     "name": "stderr",
     "output_type": "stream",
     "text": [
      " 99%|█████████▊| 11021/11161 [01:43<00:01, 112.10it/s]"
     ]
    },
    {
     "name": "stdout",
     "output_type": "stream",
     "text": [
      "Step 11000 \tTraining Loss: 1.095722 \tAccuracy: 0.712109\n"
     ]
    },
    {
     "name": "stderr",
     "output_type": "stream",
     "text": [
      "100%|██████████| 11161/11161 [01:45<00:00, 105.98it/s]\n",
      "100%|██████████| 1422/1422 [00:03<00:00, 421.15it/s]\n"
     ]
    },
    {
     "name": "stdout",
     "output_type": "stream",
     "text": [
      "Epoch: 4 \tTraining Loss: 1.096961 \tValidation Loss: 1.085422\n",
      "Accuracy: 0.703973 \tF1: 0.729924 \tF1 Prime: 0.659354\n",
      "Validation loss decreased (1.096554 --> 1.085422). Saving model ...\n"
     ]
    },
    {
     "name": "stderr",
     "output_type": "stream",
     "text": [
      "  9%|▉         | 1017/11161 [00:08<01:22, 123.58it/s]"
     ]
    },
    {
     "name": "stdout",
     "output_type": "stream",
     "text": [
      "Step 1000 \tTraining Loss: 1.090245 \tAccuracy: 0.716375\n"
     ]
    },
    {
     "name": "stderr",
     "output_type": "stream",
     "text": [
      " 18%|█▊        | 2011/11161 [00:18<01:32, 98.52it/s] "
     ]
    },
    {
     "name": "stdout",
     "output_type": "stream",
     "text": [
      "Step 2000 \tTraining Loss: 1.098333 \tAccuracy: 0.710359\n"
     ]
    },
    {
     "name": "stderr",
     "output_type": "stream",
     "text": [
      " 27%|██▋       | 3001/11161 [00:28<01:17, 105.70it/s]"
     ]
    },
    {
     "name": "stdout",
     "output_type": "stream",
     "text": [
      "Step 3000 \tTraining Loss: 1.086581 \tAccuracy: 0.720531\n"
     ]
    },
    {
     "name": "stderr",
     "output_type": "stream",
     "text": [
      " 36%|███▌      | 4018/11161 [00:37<00:53, 133.64it/s]"
     ]
    },
    {
     "name": "stdout",
     "output_type": "stream",
     "text": [
      "Step 4000 \tTraining Loss: 1.092966 \tAccuracy: 0.712812\n"
     ]
    },
    {
     "name": "stderr",
     "output_type": "stream",
     "text": [
      " 45%|████▍     | 5018/11161 [00:46<00:49, 123.32it/s]"
     ]
    },
    {
     "name": "stdout",
     "output_type": "stream",
     "text": [
      "Step 5000 \tTraining Loss: 1.090990 \tAccuracy: 0.718750\n"
     ]
    },
    {
     "name": "stderr",
     "output_type": "stream",
     "text": [
      " 54%|█████▍    | 6018/11161 [00:54<00:37, 137.56it/s]"
     ]
    },
    {
     "name": "stdout",
     "output_type": "stream",
     "text": [
      "Step 6000 \tTraining Loss: 1.093422 \tAccuracy: 0.713344\n"
     ]
    },
    {
     "name": "stderr",
     "output_type": "stream",
     "text": [
      " 63%|██████▎   | 7016/11161 [01:02<00:31, 132.23it/s]"
     ]
    },
    {
     "name": "stdout",
     "output_type": "stream",
     "text": [
      "Step 7000 \tTraining Loss: 1.104504 \tAccuracy: 0.714578\n"
     ]
    },
    {
     "name": "stderr",
     "output_type": "stream",
     "text": [
      " 72%|███████▏  | 8010/11161 [01:10<00:25, 122.10it/s]"
     ]
    },
    {
     "name": "stdout",
     "output_type": "stream",
     "text": [
      "Step 8000 \tTraining Loss: 1.104180 \tAccuracy: 0.711656\n"
     ]
    },
    {
     "name": "stderr",
     "output_type": "stream",
     "text": [
      " 81%|████████  | 9019/11161 [01:19<00:16, 129.95it/s]"
     ]
    },
    {
     "name": "stdout",
     "output_type": "stream",
     "text": [
      "Step 9000 \tTraining Loss: 1.092571 \tAccuracy: 0.714906\n"
     ]
    },
    {
     "name": "stderr",
     "output_type": "stream",
     "text": [
      " 90%|████████▉ | 10021/11161 [01:27<00:10, 107.52it/s]"
     ]
    },
    {
     "name": "stdout",
     "output_type": "stream",
     "text": [
      "Step 10000 \tTraining Loss: 1.091843 \tAccuracy: 0.711187\n"
     ]
    },
    {
     "name": "stderr",
     "output_type": "stream",
     "text": [
      " 99%|█████████▊| 11018/11161 [01:35<00:01, 122.82it/s]"
     ]
    },
    {
     "name": "stdout",
     "output_type": "stream",
     "text": [
      "Step 11000 \tTraining Loss: 1.096742 \tAccuracy: 0.707937\n"
     ]
    },
    {
     "name": "stderr",
     "output_type": "stream",
     "text": [
      "100%|██████████| 11161/11161 [01:36<00:00, 115.15it/s]\n",
      "100%|██████████| 1422/1422 [00:02<00:00, 534.57it/s]\n"
     ]
    },
    {
     "name": "stdout",
     "output_type": "stream",
     "text": [
      "Epoch: 5 \tTraining Loss: 1.094615 \tValidation Loss: 1.084018\n",
      "Accuracy: 0.721226 \tF1: 0.742584 \tF1 Prime: 0.659354\n",
      "Validation loss decreased (1.085422 --> 1.084018). Saving model ...\n"
     ]
    },
    {
     "name": "stderr",
     "output_type": "stream",
     "text": [
      "  9%|▉         | 1015/11161 [00:08<01:15, 133.93it/s]"
     ]
    },
    {
     "name": "stdout",
     "output_type": "stream",
     "text": [
      "Step 1000 \tTraining Loss: 1.090605 \tAccuracy: 0.713219\n"
     ]
    },
    {
     "name": "stderr",
     "output_type": "stream",
     "text": [
      " 18%|█▊        | 2016/11161 [00:17<01:08, 134.24it/s]"
     ]
    },
    {
     "name": "stdout",
     "output_type": "stream",
     "text": [
      "Step 2000 \tTraining Loss: 1.089987 \tAccuracy: 0.713469\n"
     ]
    },
    {
     "name": "stderr",
     "output_type": "stream",
     "text": [
      " 27%|██▋       | 3010/11161 [00:26<01:06, 122.97it/s]"
     ]
    },
    {
     "name": "stdout",
     "output_type": "stream",
     "text": [
      "Step 3000 \tTraining Loss: 1.091521 \tAccuracy: 0.714344\n"
     ]
    },
    {
     "name": "stderr",
     "output_type": "stream",
     "text": [
      " 36%|███▌      | 4021/11161 [00:34<00:49, 142.90it/s]"
     ]
    },
    {
     "name": "stdout",
     "output_type": "stream",
     "text": [
      "Step 4000 \tTraining Loss: 1.092508 \tAccuracy: 0.713875\n"
     ]
    },
    {
     "name": "stderr",
     "output_type": "stream",
     "text": [
      " 45%|████▍     | 5019/11161 [00:42<00:47, 129.68it/s]"
     ]
    },
    {
     "name": "stdout",
     "output_type": "stream",
     "text": [
      "Step 5000 \tTraining Loss: 1.089867 \tAccuracy: 0.713547\n"
     ]
    },
    {
     "name": "stderr",
     "output_type": "stream",
     "text": [
      " 54%|█████▍    | 6017/11161 [00:52<00:45, 114.29it/s]"
     ]
    },
    {
     "name": "stdout",
     "output_type": "stream",
     "text": [
      "Step 6000 \tTraining Loss: 1.089959 \tAccuracy: 0.716672\n"
     ]
    },
    {
     "name": "stderr",
     "output_type": "stream",
     "text": [
      " 63%|██████▎   | 7020/11161 [01:00<00:28, 143.65it/s]"
     ]
    },
    {
     "name": "stdout",
     "output_type": "stream",
     "text": [
      "Step 7000 \tTraining Loss: 1.090253 \tAccuracy: 0.716031\n"
     ]
    },
    {
     "name": "stderr",
     "output_type": "stream",
     "text": [
      " 72%|███████▏  | 8021/11161 [01:07<00:20, 151.48it/s]"
     ]
    },
    {
     "name": "stdout",
     "output_type": "stream",
     "text": [
      "Step 8000 \tTraining Loss: 1.093558 \tAccuracy: 0.715969\n"
     ]
    },
    {
     "name": "stderr",
     "output_type": "stream",
     "text": [
      " 81%|████████  | 9021/11161 [01:14<00:14, 146.16it/s]"
     ]
    },
    {
     "name": "stdout",
     "output_type": "stream",
     "text": [
      "Step 9000 \tTraining Loss: 1.078601 \tAccuracy: 0.717781\n"
     ]
    },
    {
     "name": "stderr",
     "output_type": "stream",
     "text": [
      " 90%|████████▉ | 10024/11161 [01:21<00:07, 147.55it/s]"
     ]
    },
    {
     "name": "stdout",
     "output_type": "stream",
     "text": [
      "Step 10000 \tTraining Loss: 1.087807 \tAccuracy: 0.713547\n"
     ]
    },
    {
     "name": "stderr",
     "output_type": "stream",
     "text": [
      " 99%|█████████▊| 11021/11161 [01:28<00:01, 136.28it/s]"
     ]
    },
    {
     "name": "stdout",
     "output_type": "stream",
     "text": [
      "Step 11000 \tTraining Loss: 1.089197 \tAccuracy: 0.715672\n"
     ]
    },
    {
     "name": "stderr",
     "output_type": "stream",
     "text": [
      "100%|██████████| 11161/11161 [01:29<00:00, 124.64it/s]\n",
      "100%|██████████| 1422/1422 [00:02<00:00, 644.42it/s]\n"
     ]
    },
    {
     "name": "stdout",
     "output_type": "stream",
     "text": [
      "Epoch: 6 \tTraining Loss: 1.089436 \tValidation Loss: 1.084471\n",
      "Accuracy: 0.711325 \tF1: 0.734987 \tF1 Prime: 0.659354\n"
     ]
    },
    {
     "name": "stderr",
     "output_type": "stream",
     "text": [
      "  9%|▉         | 1028/11161 [00:07<01:08, 147.79it/s]"
     ]
    },
    {
     "name": "stdout",
     "output_type": "stream",
     "text": [
      "Step 1000 \tTraining Loss: 1.092767 \tAccuracy: 0.716406\n"
     ]
    },
    {
     "name": "stderr",
     "output_type": "stream",
     "text": [
      " 18%|█▊        | 2020/11161 [00:14<01:16, 118.76it/s]"
     ]
    },
    {
     "name": "stdout",
     "output_type": "stream",
     "text": [
      "Step 2000 \tTraining Loss: 1.090218 \tAccuracy: 0.718219\n"
     ]
    },
    {
     "name": "stderr",
     "output_type": "stream",
     "text": [
      " 27%|██▋       | 3025/11161 [00:21<00:54, 150.17it/s]"
     ]
    },
    {
     "name": "stdout",
     "output_type": "stream",
     "text": [
      "Step 3000 \tTraining Loss: 1.087840 \tAccuracy: 0.708172\n"
     ]
    },
    {
     "name": "stderr",
     "output_type": "stream",
     "text": [
      " 36%|███▌      | 4016/11161 [00:27<00:46, 154.38it/s]"
     ]
    },
    {
     "name": "stdout",
     "output_type": "stream",
     "text": [
      "Step 4000 \tTraining Loss: 1.092958 \tAccuracy: 0.713656\n"
     ]
    },
    {
     "name": "stderr",
     "output_type": "stream",
     "text": [
      " 45%|████▍     | 5000/11161 [00:35<02:01, 50.53it/s] "
     ]
    },
    {
     "name": "stdout",
     "output_type": "stream",
     "text": [
      "Step 5000 \tTraining Loss: 1.089956 \tAccuracy: 0.713141\n"
     ]
    },
    {
     "name": "stderr",
     "output_type": "stream",
     "text": [
      " 54%|█████▍    | 6015/11161 [00:44<00:44, 115.52it/s]"
     ]
    },
    {
     "name": "stdout",
     "output_type": "stream",
     "text": [
      "Step 6000 \tTraining Loss: 1.089298 \tAccuracy: 0.709766\n"
     ]
    },
    {
     "name": "stderr",
     "output_type": "stream",
     "text": [
      " 63%|██████▎   | 7023/11161 [00:53<00:33, 124.33it/s]"
     ]
    },
    {
     "name": "stdout",
     "output_type": "stream",
     "text": [
      "Step 7000 \tTraining Loss: 1.083798 \tAccuracy: 0.711469\n"
     ]
    },
    {
     "name": "stderr",
     "output_type": "stream",
     "text": [
      " 72%|███████▏  | 8013/11161 [01:01<00:26, 119.96it/s]"
     ]
    },
    {
     "name": "stdout",
     "output_type": "stream",
     "text": [
      "Step 8000 \tTraining Loss: 1.087564 \tAccuracy: 0.712328\n"
     ]
    },
    {
     "name": "stderr",
     "output_type": "stream",
     "text": [
      " 81%|████████  | 9023/11161 [01:11<00:17, 122.59it/s]"
     ]
    },
    {
     "name": "stdout",
     "output_type": "stream",
     "text": [
      "Step 9000 \tTraining Loss: 1.084873 \tAccuracy: 0.722187\n"
     ]
    },
    {
     "name": "stderr",
     "output_type": "stream",
     "text": [
      " 90%|████████▉ | 10020/11161 [01:19<00:09, 116.38it/s]"
     ]
    },
    {
     "name": "stdout",
     "output_type": "stream",
     "text": [
      "Step 10000 \tTraining Loss: 1.086129 \tAccuracy: 0.718953\n"
     ]
    },
    {
     "name": "stderr",
     "output_type": "stream",
     "text": [
      " 99%|█████████▊| 11019/11161 [01:28<00:01, 132.19it/s]"
     ]
    },
    {
     "name": "stdout",
     "output_type": "stream",
     "text": [
      "Step 11000 \tTraining Loss: 1.088542 \tAccuracy: 0.715844\n"
     ]
    },
    {
     "name": "stderr",
     "output_type": "stream",
     "text": [
      "100%|██████████| 11161/11161 [01:29<00:00, 124.16it/s]\n",
      "100%|██████████| 1422/1422 [00:02<00:00, 474.66it/s]\n"
     ]
    },
    {
     "name": "stdout",
     "output_type": "stream",
     "text": [
      "Epoch: 7 \tTraining Loss: 1.088564 \tValidation Loss: 1.083163\n",
      "Accuracy: 0.703599 \tF1: 0.729922 \tF1 Prime: 0.659354\n",
      "Validation loss decreased (1.084018 --> 1.083163). Saving model ...\n"
     ]
    },
    {
     "name": "stderr",
     "output_type": "stream",
     "text": [
      "  9%|▉         | 1022/11161 [00:08<01:20, 126.01it/s]"
     ]
    },
    {
     "name": "stdout",
     "output_type": "stream",
     "text": [
      "Step 1000 \tTraining Loss: 1.083707 \tAccuracy: 0.715578\n"
     ]
    },
    {
     "name": "stderr",
     "output_type": "stream",
     "text": [
      " 18%|█▊        | 2012/11161 [00:16<01:18, 117.08it/s]"
     ]
    },
    {
     "name": "stdout",
     "output_type": "stream",
     "text": [
      "Step 2000 \tTraining Loss: 1.082929 \tAccuracy: 0.715406\n"
     ]
    },
    {
     "name": "stderr",
     "output_type": "stream",
     "text": [
      " 27%|██▋       | 3024/11161 [00:25<01:02, 131.16it/s]"
     ]
    },
    {
     "name": "stdout",
     "output_type": "stream",
     "text": [
      "Step 3000 \tTraining Loss: 1.087281 \tAccuracy: 0.710078\n"
     ]
    },
    {
     "name": "stderr",
     "output_type": "stream",
     "text": [
      " 36%|███▌      | 4014/11161 [00:34<00:57, 123.42it/s]"
     ]
    },
    {
     "name": "stdout",
     "output_type": "stream",
     "text": [
      "Step 4000 \tTraining Loss: 1.084235 \tAccuracy: 0.718828\n"
     ]
    },
    {
     "name": "stderr",
     "output_type": "stream",
     "text": [
      " 45%|████▍     | 5017/11161 [00:43<00:53, 114.89it/s]"
     ]
    },
    {
     "name": "stdout",
     "output_type": "stream",
     "text": [
      "Step 5000 \tTraining Loss: 1.079150 \tAccuracy: 0.723063\n"
     ]
    },
    {
     "name": "stderr",
     "output_type": "stream",
     "text": [
      " 54%|█████▍    | 6013/11161 [00:52<00:42, 122.22it/s]"
     ]
    },
    {
     "name": "stdout",
     "output_type": "stream",
     "text": [
      "Step 6000 \tTraining Loss: 1.088723 \tAccuracy: 0.716625\n"
     ]
    },
    {
     "name": "stderr",
     "output_type": "stream",
     "text": [
      " 63%|██████▎   | 7017/11161 [01:01<00:35, 118.20it/s]"
     ]
    },
    {
     "name": "stdout",
     "output_type": "stream",
     "text": [
      "Step 7000 \tTraining Loss: 1.085966 \tAccuracy: 0.713000\n"
     ]
    },
    {
     "name": "stderr",
     "output_type": "stream",
     "text": [
      " 72%|███████▏  | 8004/11161 [01:09<00:28, 112.09it/s]"
     ]
    },
    {
     "name": "stdout",
     "output_type": "stream",
     "text": [
      "Step 8000 \tTraining Loss: 1.086157 \tAccuracy: 0.716906\n"
     ]
    },
    {
     "name": "stderr",
     "output_type": "stream",
     "text": [
      " 81%|████████  | 9017/11161 [01:18<00:19, 109.66it/s]"
     ]
    },
    {
     "name": "stdout",
     "output_type": "stream",
     "text": [
      "Step 9000 \tTraining Loss: 1.086381 \tAccuracy: 0.720328\n"
     ]
    },
    {
     "name": "stderr",
     "output_type": "stream",
     "text": [
      " 90%|████████▉ | 10023/11161 [01:26<00:09, 117.89it/s]"
     ]
    },
    {
     "name": "stdout",
     "output_type": "stream",
     "text": [
      "Step 10000 \tTraining Loss: 1.089872 \tAccuracy: 0.720391\n"
     ]
    },
    {
     "name": "stderr",
     "output_type": "stream",
     "text": [
      " 99%|█████████▊| 11017/11161 [01:34<00:01, 115.69it/s]"
     ]
    },
    {
     "name": "stdout",
     "output_type": "stream",
     "text": [
      "Step 11000 \tTraining Loss: 1.092068 \tAccuracy: 0.712594\n"
     ]
    },
    {
     "name": "stderr",
     "output_type": "stream",
     "text": [
      "100%|██████████| 11161/11161 [01:36<00:00, 116.10it/s]\n",
      "100%|██████████| 1422/1422 [00:02<00:00, 521.96it/s]\n"
     ]
    },
    {
     "name": "stdout",
     "output_type": "stream",
     "text": [
      "Epoch: 8 \tTraining Loss: 1.086063 \tValidation Loss: 1.078604\n",
      "Accuracy: 0.722172 \tF1: 0.743819 \tF1 Prime: 0.659354\n",
      "Validation loss decreased (1.083163 --> 1.078604). Saving model ...\n"
     ]
    },
    {
     "name": "stderr",
     "output_type": "stream",
     "text": [
      "  9%|▉         | 1016/11161 [00:08<01:22, 122.67it/s]"
     ]
    },
    {
     "name": "stdout",
     "output_type": "stream",
     "text": [
      "Step 1000 \tTraining Loss: 1.080962 \tAccuracy: 0.725141\n"
     ]
    },
    {
     "name": "stderr",
     "output_type": "stream",
     "text": [
      " 18%|█▊        | 2020/11161 [00:17<01:24, 107.60it/s]"
     ]
    },
    {
     "name": "stdout",
     "output_type": "stream",
     "text": [
      "Step 2000 \tTraining Loss: 1.085886 \tAccuracy: 0.718203\n"
     ]
    },
    {
     "name": "stderr",
     "output_type": "stream",
     "text": [
      " 27%|██▋       | 3017/11161 [00:25<01:11, 114.39it/s]"
     ]
    },
    {
     "name": "stdout",
     "output_type": "stream",
     "text": [
      "Step 3000 \tTraining Loss: 1.081609 \tAccuracy: 0.718250\n"
     ]
    },
    {
     "name": "stderr",
     "output_type": "stream",
     "text": [
      " 36%|███▌      | 4021/11161 [00:35<01:16, 93.34it/s] "
     ]
    },
    {
     "name": "stdout",
     "output_type": "stream",
     "text": [
      "Step 4000 \tTraining Loss: 1.089133 \tAccuracy: 0.712453\n"
     ]
    },
    {
     "name": "stderr",
     "output_type": "stream",
     "text": [
      " 45%|████▍     | 5022/11161 [00:44<00:50, 121.60it/s]"
     ]
    },
    {
     "name": "stdout",
     "output_type": "stream",
     "text": [
      "Step 5000 \tTraining Loss: 1.086866 \tAccuracy: 0.713828\n"
     ]
    },
    {
     "name": "stderr",
     "output_type": "stream",
     "text": [
      " 54%|█████▍    | 6019/11161 [00:53<00:45, 113.48it/s]"
     ]
    },
    {
     "name": "stdout",
     "output_type": "stream",
     "text": [
      "Step 6000 \tTraining Loss: 1.081034 \tAccuracy: 0.718313\n"
     ]
    },
    {
     "name": "stderr",
     "output_type": "stream",
     "text": [
      " 63%|██████▎   | 7016/11161 [01:01<00:34, 121.21it/s]"
     ]
    },
    {
     "name": "stdout",
     "output_type": "stream",
     "text": [
      "Step 7000 \tTraining Loss: 1.082471 \tAccuracy: 0.714500\n"
     ]
    },
    {
     "name": "stderr",
     "output_type": "stream",
     "text": [
      " 72%|███████▏  | 8022/11161 [01:10<00:24, 126.52it/s]"
     ]
    },
    {
     "name": "stdout",
     "output_type": "stream",
     "text": [
      "Step 8000 \tTraining Loss: 1.077029 \tAccuracy: 0.723187\n"
     ]
    },
    {
     "name": "stderr",
     "output_type": "stream",
     "text": [
      " 81%|████████  | 9018/11161 [01:19<00:17, 123.53it/s]"
     ]
    },
    {
     "name": "stdout",
     "output_type": "stream",
     "text": [
      "Step 9000 \tTraining Loss: 1.083220 \tAccuracy: 0.715938\n"
     ]
    },
    {
     "name": "stderr",
     "output_type": "stream",
     "text": [
      " 90%|████████▉ | 10013/11161 [01:29<00:14, 77.16it/s]"
     ]
    },
    {
     "name": "stdout",
     "output_type": "stream",
     "text": [
      "Step 10000 \tTraining Loss: 1.080978 \tAccuracy: 0.709828\n"
     ]
    },
    {
     "name": "stderr",
     "output_type": "stream",
     "text": [
      " 99%|█████████▉| 11022/11161 [01:41<00:01, 121.48it/s]"
     ]
    },
    {
     "name": "stdout",
     "output_type": "stream",
     "text": [
      "Step 11000 \tTraining Loss: 1.082874 \tAccuracy: 0.707453\n"
     ]
    },
    {
     "name": "stderr",
     "output_type": "stream",
     "text": [
      "100%|██████████| 11161/11161 [01:43<00:00, 108.23it/s]\n",
      "100%|██████████| 1422/1422 [00:04<00:00, 303.47it/s]\n"
     ]
    },
    {
     "name": "stdout",
     "output_type": "stream",
     "text": [
      "Epoch: 9 \tTraining Loss: 1.082829 \tValidation Loss: 1.082159\n",
      "Accuracy: 0.725051 \tF1: 0.744888 \tF1 Prime: 0.659354\n"
     ]
    }
   ],
   "source": [
    "from sklearn.metrics import f1_score\n",
    "\n",
    "model = BaseMLP(128, 256, 4)\n",
    "\n",
    "class_weights = torch.tensor([1, 5, 5, 5])\n",
    "class_weights = class_weights / class_weights.sum()\n",
    "\n",
    "criterion = nn.CrossEntropyLoss(weight=class_weights)\n",
    "\n",
    "optimizer = torch.optim.Adam(model.parameters(), lr=0.001)\n",
    "optimizer.zero_grad()\n",
    "\n",
    "device = torch.device('cuda' if torch.cuda.is_available() else 'cpu')\n",
    "model.to(device)\n",
    "\n",
    "epochs = 10\n",
    "valid_loss_min = np.Inf\n",
    "\n",
    "for epoch in range(epochs):\n",
    "    train_loss = 0.0\n",
    "    valid_loss = 0.0\n",
    "\n",
    "    model.train()\n",
    "    cnt = 0\n",
    "    correct = 0\n",
    "    total = 0\n",
    "    cur_loss = 0\n",
    "    for data, target in tqdm(train_loader):\n",
    "        data, target = data.detach().to(device), target.to(device)\n",
    "        optimizer.zero_grad()\n",
    " \n",
    "        output = model(data)\n",
    "        loss = criterion(output, target)\n",
    "        loss.backward(retain_graph=True)\n",
    "        optimizer.step()\n",
    "\n",
    "        train_loss += loss.item() * data.size(0)\n",
    "        cur_loss += loss.item()\n",
    "\n",
    "        _ , predicted = torch.max(output.data, 1)\n",
    "        total += target.size(0)\n",
    "        correct += (predicted == target).sum().item()    \n",
    "\n",
    "        cnt += 1\n",
    "        if cnt % 1000 == 0:\n",
    "            print('Step {} \\tTraining Loss: {:.6f} \\tAccuracy: {:.6f}'.format(cnt, cur_loss / 1000, correct / total))\n",
    "            cur_loss = 0\n",
    "            total = 0\n",
    "            correct = 0\n",
    "\n",
    "    model.eval()\n",
    "    correct = 0\n",
    "    total = 0\n",
    "    all_predicted = []\n",
    "    all_target = []\n",
    "    for data, target in tqdm(valid_loader):\n",
    "        data, target = data.detach().to(device), target.to(device)\n",
    "\n",
    "        output = model(data)\n",
    "        loss = criterion(output, target)\n",
    "\n",
    "        valid_loss += loss.item() * data.size(0)\n",
    "\n",
    "        _, predicted = torch.max(output.data, 1)\n",
    "        total += target.size(0)\n",
    "        correct += (predicted == target).sum().item()\n",
    "\n",
    "        all_predicted.extend(predicted.tolist())\n",
    "        all_target.extend(target.tolist())\n",
    "\n",
    "    train_loss = train_loss / len(train_loader.dataset)\n",
    "    valid_loss = valid_loss / len(valid_loader.dataset)\n",
    "\n",
    "    accuracy = correct / total\n",
    "    f1 = f1_score(all_target, all_predicted, average='weighted')\n",
    "    f1_prime = f1_score(all_target, np.zeros_like(all_predicted), average='weighted')\n",
    "\n",
    "    print('Epoch: {} \\tTraining Loss: {:.6f} \\tValidation Loss: {:.6f}'.format(epoch, train_loss, valid_loss))\n",
    "    print('Accuracy: {:.6f} \\tF1: {:.6f} \\tF1 Prime: {:.6f}'.format(accuracy, f1, f1_prime))\n",
    "\n",
    "    if valid_loss <= valid_loss_min:\n",
    "        print('Validation loss decreased ({:.6f} --> {:.6f}). Saving model ...'.format(valid_loss_min, valid_loss))\n",
    "        torch.save(model.state_dict(), 'model.pt')\n",
    "        valid_loss_min = valid_loss\n"
   ]
  },
  {
   "cell_type": "code",
   "execution_count": 96,
   "metadata": {},
   "outputs": [
    {
     "name": "stderr",
     "output_type": "stream",
     "text": [
      "100%|██████████| 1445/1445 [00:02<00:00, 497.56it/s]\n"
     ]
    },
    {
     "name": "stdout",
     "output_type": "stream",
     "text": [
      "Accuracy on test set: 71 %\n",
      "F1 on test set: 0.736569\n",
      "F1 prime on test set: 0.654929\n",
      "F1 random: 0.315826\n"
     ]
    }
   ],
   "source": [
    "# test\n",
    "model.load_state_dict(torch.load('model.pt'))\n",
    "\n",
    "model.eval()\n",
    "correct = 0\n",
    "total = 0\n",
    "all_predicted = []\n",
    "all_target = []\n",
    "for data, target in tqdm(test_loader):\n",
    "    data, target = data.detach().to(device), target.to(device)\n",
    "\n",
    "    output = model(data)\n",
    "\n",
    "    _, predicted = torch.max(output.data, 1)\n",
    "    total += target.size(0)\n",
    "    correct += (predicted == target).sum().item()\n",
    "\n",
    "    all_predicted.extend(predicted.tolist())\n",
    "    all_target.extend(target.tolist())\n",
    "\n",
    "print('Accuracy on test set: %d %%' % (100 * correct / total))\n",
    "print('F1 on test set: %f' % f1_score(all_target, all_predicted, average='weighted'))\n",
    "print('F1 prime on test set: %f' % f1_score(all_target, np.zeros_like(all_predicted), average='weighted'))\n",
    "\n",
    "# try random guessing\n",
    "all_predicted_random = np.random.randint(0, 4, len(all_target))\n",
    "print('F1 random: %f' % f1_score(all_target, all_predicted_random, average='weighted'))\n"
   ]
  },
  {
   "cell_type": "code",
   "execution_count": null,
   "metadata": {},
   "outputs": [],
   "source": []
  }
 ],
 "metadata": {
  "kernelspec": {
   "display_name": "base",
   "language": "python",
   "name": "python3"
  },
  "language_info": {
   "codemirror_mode": {
    "name": "ipython",
    "version": 3
   },
   "file_extension": ".py",
   "mimetype": "text/x-python",
   "name": "python",
   "nbconvert_exporter": "python",
   "pygments_lexer": "ipython3",
   "version": "3.8.3"
  }
 },
 "nbformat": 4,
 "nbformat_minor": 2
}
